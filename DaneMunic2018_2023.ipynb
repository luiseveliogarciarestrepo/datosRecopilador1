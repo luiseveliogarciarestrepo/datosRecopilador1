{
 "cells": [
  {
   "cell_type": "code",
   "execution_count": 1,
   "metadata": {},
   "outputs": [],
   "source": [
    "import pandas as pd\n"
   ]
  },
  {
   "cell_type": "code",
   "execution_count": 59,
   "metadata": {},
   "outputs": [],
   "source": [
    "df_col = pd.read_csv('DaneCol.csv')"
   ]
  },
  {
   "cell_type": "code",
   "execution_count": 60,
   "metadata": {},
   "outputs": [
    {
     "data": {
      "text/html": [
       "<div>\n",
       "<style scoped>\n",
       "    .dataframe tbody tr th:only-of-type {\n",
       "        vertical-align: middle;\n",
       "    }\n",
       "\n",
       "    .dataframe tbody tr th {\n",
       "        vertical-align: top;\n",
       "    }\n",
       "\n",
       "    .dataframe thead th {\n",
       "        text-align: right;\n",
       "    }\n",
       "</style>\n",
       "<table border=\"1\" class=\"dataframe\">\n",
       "  <thead>\n",
       "    <tr style=\"text-align: right;\">\n",
       "      <th></th>\n",
       "      <th>Dpto</th>\n",
       "      <th>Municipio</th>\n",
       "      <th>2018</th>\n",
       "      <th>2019</th>\n",
       "      <th>2020</th>\n",
       "    </tr>\n",
       "  </thead>\n",
       "  <tbody>\n",
       "    <tr>\n",
       "      <th>0</th>\n",
       "      <td>Antioquia</td>\n",
       "      <td>Medellín</td>\n",
       "      <td>2.427.129</td>\n",
       "      <td>2.483.545</td>\n",
       "      <td>2.533.424</td>\n",
       "    </tr>\n",
       "    <tr>\n",
       "      <th>1</th>\n",
       "      <td>Antioquia</td>\n",
       "      <td>Abejorral</td>\n",
       "      <td>20.367</td>\n",
       "      <td>20.258</td>\n",
       "      <td>20.287</td>\n",
       "    </tr>\n",
       "    <tr>\n",
       "      <th>2</th>\n",
       "      <td>Antioquia</td>\n",
       "      <td>Abriaquí</td>\n",
       "      <td>2.695</td>\n",
       "      <td>2.710</td>\n",
       "      <td>2.735</td>\n",
       "    </tr>\n",
       "    <tr>\n",
       "      <th>3</th>\n",
       "      <td>Antioquia</td>\n",
       "      <td>Alejandría</td>\n",
       "      <td>4.657</td>\n",
       "      <td>4.669</td>\n",
       "      <td>4.698</td>\n",
       "    </tr>\n",
       "    <tr>\n",
       "      <th>4</th>\n",
       "      <td>Antioquia</td>\n",
       "      <td>Amagá</td>\n",
       "      <td>30.227</td>\n",
       "      <td>30.777</td>\n",
       "      <td>31.283</td>\n",
       "    </tr>\n",
       "    <tr>\n",
       "      <th>...</th>\n",
       "      <td>...</td>\n",
       "      <td>...</td>\n",
       "      <td>...</td>\n",
       "      <td>...</td>\n",
       "      <td>...</td>\n",
       "    </tr>\n",
       "    <tr>\n",
       "      <th>1118</th>\n",
       "      <td>Vichada</td>\n",
       "      <td>Puerto Carreño</td>\n",
       "      <td>20.936</td>\n",
       "      <td>20.474</td>\n",
       "      <td>20.294</td>\n",
       "    </tr>\n",
       "    <tr>\n",
       "      <th>1119</th>\n",
       "      <td>Vichada</td>\n",
       "      <td>La Primavera</td>\n",
       "      <td>10.122</td>\n",
       "      <td>9.799</td>\n",
       "      <td>9.608</td>\n",
       "    </tr>\n",
       "    <tr>\n",
       "      <th>1120</th>\n",
       "      <td>Vichada</td>\n",
       "      <td>Santa Rosalía</td>\n",
       "      <td>4.059</td>\n",
       "      <td>4.130</td>\n",
       "      <td>4.193</td>\n",
       "    </tr>\n",
       "    <tr>\n",
       "      <th>1121</th>\n",
       "      <td>Vichada</td>\n",
       "      <td>Cumaribo</td>\n",
       "      <td>72.691</td>\n",
       "      <td>76.196</td>\n",
       "      <td>78.863</td>\n",
       "    </tr>\n",
       "    <tr>\n",
       "      <th>1122</th>\n",
       "      <td>Nacional</td>\n",
       "      <td>Nacional</td>\n",
       "      <td>48.258.494</td>\n",
       "      <td>49.395.678</td>\n",
       "      <td>50.372.424</td>\n",
       "    </tr>\n",
       "  </tbody>\n",
       "</table>\n",
       "<p>1123 rows × 5 columns</p>\n",
       "</div>"
      ],
      "text/plain": [
       "           Dpto       Municipio        2018        2019        2020\n",
       "0     Antioquia        Medellín   2.427.129   2.483.545   2.533.424\n",
       "1     Antioquia       Abejorral      20.367      20.258      20.287\n",
       "2     Antioquia        Abriaquí       2.695       2.710       2.735\n",
       "3     Antioquia      Alejandría       4.657       4.669       4.698\n",
       "4     Antioquia           Amagá      30.227      30.777      31.283\n",
       "...         ...             ...         ...         ...         ...\n",
       "1118    Vichada  Puerto Carreño      20.936      20.474      20.294\n",
       "1119    Vichada    La Primavera      10.122       9.799       9.608\n",
       "1120    Vichada   Santa Rosalía       4.059       4.130       4.193\n",
       "1121    Vichada        Cumaribo      72.691      76.196      78.863\n",
       "1122   Nacional        Nacional  48.258.494  49.395.678  50.372.424\n",
       "\n",
       "[1123 rows x 5 columns]"
      ]
     },
     "execution_count": 60,
     "metadata": {},
     "output_type": "execute_result"
    }
   ],
   "source": [
    "df_col"
   ]
  },
  {
   "cell_type": "code",
   "execution_count": 61,
   "metadata": {},
   "outputs": [],
   "source": [
    "col_munic = df_col.groupby('Municipio')"
   ]
  },
  {
   "cell_type": "code",
   "execution_count": 63,
   "metadata": {},
   "outputs": [
    {
     "data": {
      "text/html": [
       "<div>\n",
       "<style scoped>\n",
       "    .dataframe tbody tr th:only-of-type {\n",
       "        vertical-align: middle;\n",
       "    }\n",
       "\n",
       "    .dataframe tbody tr th {\n",
       "        vertical-align: top;\n",
       "    }\n",
       "\n",
       "    .dataframe thead th {\n",
       "        text-align: right;\n",
       "    }\n",
       "</style>\n",
       "<table border=\"1\" class=\"dataframe\">\n",
       "  <thead>\n",
       "    <tr style=\"text-align: right;\">\n",
       "      <th></th>\n",
       "      <th>Dpto</th>\n",
       "      <th>Municipio</th>\n",
       "      <th>2018</th>\n",
       "      <th>2019</th>\n",
       "      <th>2020</th>\n",
       "    </tr>\n",
       "  </thead>\n",
       "  <tbody>\n",
       "    <tr>\n",
       "      <th>318</th>\n",
       "      <td>Caldas</td>\n",
       "      <td>Manizales</td>\n",
       "      <td>434.403</td>\n",
       "      <td>440.608</td>\n",
       "      <td>446.160</td>\n",
       "    </tr>\n",
       "  </tbody>\n",
       "</table>\n",
       "</div>"
      ],
      "text/plain": [
       "       Dpto  Municipio     2018     2019     2020\n",
       "318  Caldas  Manizales  434.403  440.608  446.160"
      ]
     },
     "execution_count": 63,
     "metadata": {},
     "output_type": "execute_result"
    }
   ],
   "source": [
    "col_munic.get_group('Manizales')"
   ]
  },
  {
   "cell_type": "code",
   "execution_count": null,
   "metadata": {},
   "outputs": [],
   "source": []
  }
 ],
 "metadata": {
  "kernelspec": {
   "display_name": "Python 3",
   "language": "python",
   "name": "python3"
  },
  "language_info": {
   "codemirror_mode": {
    "name": "ipython",
    "version": 3
   },
   "file_extension": ".py",
   "mimetype": "text/x-python",
   "name": "python",
   "nbconvert_exporter": "python",
   "pygments_lexer": "ipython3",
   "version": "3.7.0"
  }
 },
 "nbformat": 4,
 "nbformat_minor": 4
}
