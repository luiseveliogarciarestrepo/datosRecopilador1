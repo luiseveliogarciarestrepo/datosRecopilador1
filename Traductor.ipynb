{
 "cells": [
  {
   "cell_type": "code",
   "execution_count": 6,
   "metadata": {},
   "outputs": [],
   "source": [
    "import pandas as pd\n",
    "from googletrans import Translator\n",
    "\n",
    "mundo= pd.read_csv('poblacionMundial.csv')\n",
    "translator = Translator()\n",
    "mundo['Spanish'] = mundo['Country'].apply(translator.translate, src='en', dest='es').apply(getattr, args=('text',))\n",
    "mundo.to_csv('poblacionMundial.csv')"
   ]
  }
 ],
 "metadata": {
  "kernelspec": {
   "display_name": "Python 3",
   "language": "python",
   "name": "python3"
  },
  "language_info": {
   "codemirror_mode": {
    "name": "ipython",
    "version": 3
   },
   "file_extension": ".py",
   "mimetype": "text/x-python",
   "name": "python",
   "nbconvert_exporter": "python",
   "pygments_lexer": "ipython3",
   "version": "3.7.0"
  }
 },
 "nbformat": 4,
 "nbformat_minor": 4
}
