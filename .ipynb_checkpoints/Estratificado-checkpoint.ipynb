{
 "cells": [
  {
   "cell_type": "code",
   "execution_count": 1,
   "metadata": {},
   "outputs": [],
   "source": [
    "import pandas as pd\n",
    "import numpy as np"
   ]
  },
  {
   "cell_type": "code",
   "execution_count": 2,
   "metadata": {},
   "outputs": [],
   "source": [
    "df = pd.read_csv('CovidColombia.csv', usecols=['ID de caso', 'Fecha de notificación',\n",
    "       'Ciudad de ubicación', 'Departamento o Distrito ', 'atención', 'Edad',\n",
    "       'Sexo', 'Tipo', 'Estado','Fecha de muerte'],parse_dates=['Fecha de notificación','Fecha de muerte'], low_memory=False)"
   ]
  },
  {
   "cell_type": "code",
   "execution_count": 3,
   "metadata": {},
   "outputs": [],
   "source": [
    "daneEtareos= pd.read_csv('DaneEtareos.csv', sep=',', usecols = ['REGION', 'Grupos de edad', '2020'])"
   ]
  },
  {
   "cell_type": "code",
   "execution_count": 4,
   "metadata": {},
   "outputs": [],
   "source": [
    "#menordeUno= df['Edad'] < 1\n",
    "#UnoCuatro = np.logical_and(df['Edad'] > 0, df['Edad'] < 5)\n",
    "#CincoCatorce = np.logical_and(df['Edad'] > 4, df['Edad'] < 15)\n",
    "#QuinceCuarentayCuatro = np.logical_and(df['Edad'] > 14, df['Edad'] < 45)\n",
    "#CuarentayCincoSesentayCuatro  = np.logical_and(df['Edad'] > 44, df['Edad'] < 65)\n",
    "#SesentayCincoOchentayCuatro = np.logical_and(df['Edad'] > 64, df['Edad'] < 85)\n",
    "#OchentayCincoNoventayNueve = np.logical_and(df['Edad'] > 84, df['Edad'] < 100)\n",
    "#masdeCien = df['Edad'] > 99"
   ]
  },
  {
   "cell_type": "code",
   "execution_count": 6,
   "metadata": {},
   "outputs": [],
   "source": [
    "#grupoEdad = QuinceCuarentayCuatro"
   ]
  },
  {
   "cell_type": "code",
   "execution_count": 5,
   "metadata": {},
   "outputs": [],
   "source": [
    "departamento = 'Caldas'\n",
    "edad_inicial=15\n",
    "edad_final=44\n",
    "ESTADO = 'Fallecido'\n",
    "etareo = str(edad_inicial) + '-' + str(edad_final)\n",
    "edades = []\n",
    "for i in range(edad_inicial,edad_final+1):\n",
    "    edades.append(i)"
   ]
  },
  {
   "cell_type": "code",
   "execution_count": 7,
   "metadata": {},
   "outputs": [],
   "source": [
    "filtro =  daneEtareos['REGION'] == departamento\n",
    "dptoEtareos = daneEtareos.loc[filtro, :]\n",
    "filtro1 = dptoEtareos['Grupos de edad'] == etareo\n",
    "poblacionxGrupoEtareo = dptoEtareos.loc[filtro1,'2020']"
   ]
  },
  {
   "cell_type": "code",
   "execution_count": 8,
   "metadata": {},
   "outputs": [
    {
     "data": {
      "text/html": [
       "<div>\n",
       "<style scoped>\n",
       "    .dataframe tbody tr th:only-of-type {\n",
       "        vertical-align: middle;\n",
       "    }\n",
       "\n",
       "    .dataframe tbody tr th {\n",
       "        vertical-align: top;\n",
       "    }\n",
       "\n",
       "    .dataframe thead th {\n",
       "        text-align: right;\n",
       "    }\n",
       "</style>\n",
       "<table border=\"1\" class=\"dataframe\">\n",
       "  <thead>\n",
       "    <tr style=\"text-align: right;\">\n",
       "      <th></th>\n",
       "      <th>ID de caso</th>\n",
       "      <th>Fecha de notificación</th>\n",
       "      <th>Ciudad de ubicación</th>\n",
       "      <th>Departamento o Distrito</th>\n",
       "      <th>atención</th>\n",
       "      <th>Edad</th>\n",
       "      <th>Sexo</th>\n",
       "      <th>Tipo</th>\n",
       "      <th>Estado</th>\n",
       "      <th>Fecha de muerte</th>\n",
       "    </tr>\n",
       "  </thead>\n",
       "  <tbody>\n",
       "    <tr>\n",
       "      <th>0</th>\n",
       "      <td>1</td>\n",
       "      <td>2020-03-02</td>\n",
       "      <td>Bogotá D.C.</td>\n",
       "      <td>Bogotá D.C.</td>\n",
       "      <td>Recuperado</td>\n",
       "      <td>19</td>\n",
       "      <td>F</td>\n",
       "      <td>Importado</td>\n",
       "      <td>Leve</td>\n",
       "      <td>NaN</td>\n",
       "    </tr>\n",
       "    <tr>\n",
       "      <th>1</th>\n",
       "      <td>2</td>\n",
       "      <td>2020-03-06</td>\n",
       "      <td>Guadalajara de Buga</td>\n",
       "      <td>Valle del Cauca</td>\n",
       "      <td>Recuperado</td>\n",
       "      <td>34</td>\n",
       "      <td>M</td>\n",
       "      <td>Importado</td>\n",
       "      <td>Leve</td>\n",
       "      <td>NaN</td>\n",
       "    </tr>\n",
       "    <tr>\n",
       "      <th>4</th>\n",
       "      <td>5</td>\n",
       "      <td>2020-03-09</td>\n",
       "      <td>Medellín</td>\n",
       "      <td>Antioquia</td>\n",
       "      <td>Recuperado</td>\n",
       "      <td>25</td>\n",
       "      <td>M</td>\n",
       "      <td>Relacionado</td>\n",
       "      <td>Leve</td>\n",
       "      <td>NaN</td>\n",
       "    </tr>\n",
       "    <tr>\n",
       "      <th>5</th>\n",
       "      <td>6</td>\n",
       "      <td>2020-03-10</td>\n",
       "      <td>Itagüí</td>\n",
       "      <td>Antioquia</td>\n",
       "      <td>Recuperado</td>\n",
       "      <td>27</td>\n",
       "      <td>F</td>\n",
       "      <td>Relacionado</td>\n",
       "      <td>Leve</td>\n",
       "      <td>NaN</td>\n",
       "    </tr>\n",
       "    <tr>\n",
       "      <th>7</th>\n",
       "      <td>8</td>\n",
       "      <td>2020-03-09</td>\n",
       "      <td>Bogotá D.C.</td>\n",
       "      <td>Bogotá D.C.</td>\n",
       "      <td>Recuperado</td>\n",
       "      <td>22</td>\n",
       "      <td>F</td>\n",
       "      <td>Importado</td>\n",
       "      <td>Leve</td>\n",
       "      <td>NaN</td>\n",
       "    </tr>\n",
       "    <tr>\n",
       "      <th>...</th>\n",
       "      <td>...</td>\n",
       "      <td>...</td>\n",
       "      <td>...</td>\n",
       "      <td>...</td>\n",
       "      <td>...</td>\n",
       "      <td>...</td>\n",
       "      <td>...</td>\n",
       "      <td>...</td>\n",
       "      <td>...</td>\n",
       "      <td>...</td>\n",
       "    </tr>\n",
       "    <tr>\n",
       "      <th>327842</th>\n",
       "      <td>327883</td>\n",
       "      <td>2020-07-20</td>\n",
       "      <td>Mocoa</td>\n",
       "      <td>Putumayo</td>\n",
       "      <td>Casa</td>\n",
       "      <td>29</td>\n",
       "      <td>F</td>\n",
       "      <td>En estudio</td>\n",
       "      <td>Leve</td>\n",
       "      <td>NaN</td>\n",
       "    </tr>\n",
       "    <tr>\n",
       "      <th>327843</th>\n",
       "      <td>327884</td>\n",
       "      <td>2020-07-20</td>\n",
       "      <td>Mocoa</td>\n",
       "      <td>Putumayo</td>\n",
       "      <td>Casa</td>\n",
       "      <td>21</td>\n",
       "      <td>M</td>\n",
       "      <td>En estudio</td>\n",
       "      <td>Leve</td>\n",
       "      <td>NaN</td>\n",
       "    </tr>\n",
       "    <tr>\n",
       "      <th>327844</th>\n",
       "      <td>327885</td>\n",
       "      <td>2020-07-20</td>\n",
       "      <td>Mocoa</td>\n",
       "      <td>Putumayo</td>\n",
       "      <td>Casa</td>\n",
       "      <td>31</td>\n",
       "      <td>M</td>\n",
       "      <td>En estudio</td>\n",
       "      <td>Leve</td>\n",
       "      <td>NaN</td>\n",
       "    </tr>\n",
       "    <tr>\n",
       "      <th>327845</th>\n",
       "      <td>327886</td>\n",
       "      <td>2020-07-20</td>\n",
       "      <td>Mocoa</td>\n",
       "      <td>Putumayo</td>\n",
       "      <td>Casa</td>\n",
       "      <td>19</td>\n",
       "      <td>M</td>\n",
       "      <td>En estudio</td>\n",
       "      <td>Leve</td>\n",
       "      <td>NaN</td>\n",
       "    </tr>\n",
       "    <tr>\n",
       "      <th>327849</th>\n",
       "      <td>327890</td>\n",
       "      <td>2020-07-17</td>\n",
       "      <td>Sincelejo</td>\n",
       "      <td>Sucre</td>\n",
       "      <td>Casa</td>\n",
       "      <td>24</td>\n",
       "      <td>F</td>\n",
       "      <td>En estudio</td>\n",
       "      <td>Leve</td>\n",
       "      <td>NaN</td>\n",
       "    </tr>\n",
       "  </tbody>\n",
       "</table>\n",
       "<p>192655 rows × 10 columns</p>\n",
       "</div>"
      ],
      "text/plain": [
       "        ID de caso Fecha de notificación  Ciudad de ubicación  \\\n",
       "0                1            2020-03-02          Bogotá D.C.   \n",
       "1                2            2020-03-06  Guadalajara de Buga   \n",
       "4                5            2020-03-09             Medellín   \n",
       "5                6            2020-03-10               Itagüí   \n",
       "7                8            2020-03-09          Bogotá D.C.   \n",
       "...            ...                   ...                  ...   \n",
       "327842      327883            2020-07-20                Mocoa   \n",
       "327843      327884            2020-07-20                Mocoa   \n",
       "327844      327885            2020-07-20                Mocoa   \n",
       "327845      327886            2020-07-20                Mocoa   \n",
       "327849      327890            2020-07-17            Sincelejo   \n",
       "\n",
       "       Departamento o Distrito     atención  Edad Sexo         Tipo Estado  \\\n",
       "0                   Bogotá D.C.  Recuperado    19    F    Importado   Leve   \n",
       "1               Valle del Cauca  Recuperado    34    M    Importado   Leve   \n",
       "4                     Antioquia  Recuperado    25    M  Relacionado   Leve   \n",
       "5                     Antioquia  Recuperado    27    F  Relacionado   Leve   \n",
       "7                   Bogotá D.C.  Recuperado    22    F    Importado   Leve   \n",
       "...                         ...         ...   ...  ...          ...    ...   \n",
       "327842                 Putumayo        Casa    29    F   En estudio   Leve   \n",
       "327843                 Putumayo        Casa    21    M   En estudio   Leve   \n",
       "327844                 Putumayo        Casa    31    M   En estudio   Leve   \n",
       "327845                 Putumayo        Casa    19    M   En estudio   Leve   \n",
       "327849                    Sucre        Casa    24    F   En estudio   Leve   \n",
       "\n",
       "       Fecha de muerte  \n",
       "0                  NaN  \n",
       "1                  NaN  \n",
       "4                  NaN  \n",
       "5                  NaN  \n",
       "7                  NaN  \n",
       "...                ...  \n",
       "327842             NaN  \n",
       "327843             NaN  \n",
       "327844             NaN  \n",
       "327845             NaN  \n",
       "327849             NaN  \n",
       "\n",
       "[192655 rows x 10 columns]"
      ]
     },
     "execution_count": 8,
     "metadata": {},
     "output_type": "execute_result"
    }
   ],
   "source": [
    "filtro = df['Edad'].isin(edades)\n",
    "todosetareos = df.loc[filtro,:]\n",
    "todosetareos['ID de caso'].count()\n",
    "todosetareos"
   ]
  },
  {
   "cell_type": "code",
   "execution_count": 14,
   "metadata": {
    "scrolled": false
   },
   "outputs": [
    {
     "data": {
      "text/html": [
       "<div>\n",
       "<style scoped>\n",
       "    .dataframe tbody tr th:only-of-type {\n",
       "        vertical-align: middle;\n",
       "    }\n",
       "\n",
       "    .dataframe tbody tr th {\n",
       "        vertical-align: top;\n",
       "    }\n",
       "\n",
       "    .dataframe thead th {\n",
       "        text-align: right;\n",
       "    }\n",
       "</style>\n",
       "<table border=\"1\" class=\"dataframe\">\n",
       "  <thead>\n",
       "    <tr style=\"text-align: right;\">\n",
       "      <th></th>\n",
       "      <th>ID de caso</th>\n",
       "      <th>Fecha de notificación</th>\n",
       "      <th>Ciudad de ubicación</th>\n",
       "      <th>Departamento o Distrito</th>\n",
       "      <th>atención</th>\n",
       "      <th>Edad</th>\n",
       "      <th>Sexo</th>\n",
       "      <th>Tipo</th>\n",
       "      <th>Estado</th>\n",
       "      <th>Fecha de muerte</th>\n",
       "    </tr>\n",
       "  </thead>\n",
       "  <tbody>\n",
       "    <tr>\n",
       "      <th>122</th>\n",
       "      <td>123</td>\n",
       "      <td>2020-03-17</td>\n",
       "      <td>Viterbo</td>\n",
       "      <td>Caldas</td>\n",
       "      <td>Recuperado</td>\n",
       "      <td>38</td>\n",
       "      <td>F</td>\n",
       "      <td>Importado</td>\n",
       "      <td>Leve</td>\n",
       "      <td>NaN</td>\n",
       "    </tr>\n",
       "    <tr>\n",
       "      <th>180</th>\n",
       "      <td>181</td>\n",
       "      <td>2020-03-18</td>\n",
       "      <td>Manizales</td>\n",
       "      <td>Caldas</td>\n",
       "      <td>Recuperado</td>\n",
       "      <td>22</td>\n",
       "      <td>F</td>\n",
       "      <td>Importado</td>\n",
       "      <td>Leve</td>\n",
       "      <td>NaN</td>\n",
       "    </tr>\n",
       "    <tr>\n",
       "      <th>217</th>\n",
       "      <td>218</td>\n",
       "      <td>2020-03-19</td>\n",
       "      <td>La Dorada</td>\n",
       "      <td>Caldas</td>\n",
       "      <td>Recuperado</td>\n",
       "      <td>24</td>\n",
       "      <td>F</td>\n",
       "      <td>Relacionado</td>\n",
       "      <td>Leve</td>\n",
       "      <td>NaN</td>\n",
       "    </tr>\n",
       "    <tr>\n",
       "      <th>278</th>\n",
       "      <td>279</td>\n",
       "      <td>2020-03-21</td>\n",
       "      <td>Villamaría</td>\n",
       "      <td>Caldas</td>\n",
       "      <td>Recuperado</td>\n",
       "      <td>29</td>\n",
       "      <td>M</td>\n",
       "      <td>Importado</td>\n",
       "      <td>Leve</td>\n",
       "      <td>NaN</td>\n",
       "    </tr>\n",
       "    <tr>\n",
       "      <th>322</th>\n",
       "      <td>323</td>\n",
       "      <td>2020-03-19</td>\n",
       "      <td>Viterbo</td>\n",
       "      <td>Caldas</td>\n",
       "      <td>Recuperado</td>\n",
       "      <td>15</td>\n",
       "      <td>F</td>\n",
       "      <td>Relacionado</td>\n",
       "      <td>Asintomático</td>\n",
       "      <td>NaN</td>\n",
       "    </tr>\n",
       "    <tr>\n",
       "      <th>...</th>\n",
       "      <td>...</td>\n",
       "      <td>...</td>\n",
       "      <td>...</td>\n",
       "      <td>...</td>\n",
       "      <td>...</td>\n",
       "      <td>...</td>\n",
       "      <td>...</td>\n",
       "      <td>...</td>\n",
       "      <td>...</td>\n",
       "      <td>...</td>\n",
       "    </tr>\n",
       "    <tr>\n",
       "      <th>320113</th>\n",
       "      <td>320154</td>\n",
       "      <td>2020-08-01</td>\n",
       "      <td>Manizales</td>\n",
       "      <td>Caldas</td>\n",
       "      <td>Casa</td>\n",
       "      <td>30</td>\n",
       "      <td>M</td>\n",
       "      <td>En estudio</td>\n",
       "      <td>Leve</td>\n",
       "      <td>NaN</td>\n",
       "    </tr>\n",
       "    <tr>\n",
       "      <th>320114</th>\n",
       "      <td>320155</td>\n",
       "      <td>2020-08-01</td>\n",
       "      <td>Manizales</td>\n",
       "      <td>Caldas</td>\n",
       "      <td>Casa</td>\n",
       "      <td>31</td>\n",
       "      <td>F</td>\n",
       "      <td>En estudio</td>\n",
       "      <td>Leve</td>\n",
       "      <td>NaN</td>\n",
       "    </tr>\n",
       "    <tr>\n",
       "      <th>320116</th>\n",
       "      <td>320157</td>\n",
       "      <td>2020-07-15</td>\n",
       "      <td>Villamaría</td>\n",
       "      <td>Caldas</td>\n",
       "      <td>Casa</td>\n",
       "      <td>36</td>\n",
       "      <td>F</td>\n",
       "      <td>En estudio</td>\n",
       "      <td>Leve</td>\n",
       "      <td>NaN</td>\n",
       "    </tr>\n",
       "    <tr>\n",
       "      <th>325207</th>\n",
       "      <td>325248</td>\n",
       "      <td>2020-07-20</td>\n",
       "      <td>Riosucio</td>\n",
       "      <td>Caldas</td>\n",
       "      <td>Casa</td>\n",
       "      <td>26</td>\n",
       "      <td>M</td>\n",
       "      <td>En estudio</td>\n",
       "      <td>Leve</td>\n",
       "      <td>NaN</td>\n",
       "    </tr>\n",
       "    <tr>\n",
       "      <th>325374</th>\n",
       "      <td>325415</td>\n",
       "      <td>2020-07-20</td>\n",
       "      <td>Manizales</td>\n",
       "      <td>Caldas</td>\n",
       "      <td>Casa</td>\n",
       "      <td>42</td>\n",
       "      <td>M</td>\n",
       "      <td>En estudio</td>\n",
       "      <td>Leve</td>\n",
       "      <td>NaN</td>\n",
       "    </tr>\n",
       "  </tbody>\n",
       "</table>\n",
       "<p>560 rows × 10 columns</p>\n",
       "</div>"
      ],
      "text/plain": [
       "        ID de caso Fecha de notificación Ciudad de ubicación  \\\n",
       "122            123            2020-03-17             Viterbo   \n",
       "180            181            2020-03-18           Manizales   \n",
       "217            218            2020-03-19           La Dorada   \n",
       "278            279            2020-03-21          Villamaría   \n",
       "322            323            2020-03-19             Viterbo   \n",
       "...            ...                   ...                 ...   \n",
       "320113      320154            2020-08-01           Manizales   \n",
       "320114      320155            2020-08-01           Manizales   \n",
       "320116      320157            2020-07-15          Villamaría   \n",
       "325207      325248            2020-07-20            Riosucio   \n",
       "325374      325415            2020-07-20           Manizales   \n",
       "\n",
       "       Departamento o Distrito     atención  Edad Sexo         Tipo  \\\n",
       "122                      Caldas  Recuperado    38    F    Importado   \n",
       "180                      Caldas  Recuperado    22    F    Importado   \n",
       "217                      Caldas  Recuperado    24    F  Relacionado   \n",
       "278                      Caldas  Recuperado    29    M    Importado   \n",
       "322                      Caldas  Recuperado    15    F  Relacionado   \n",
       "...                         ...         ...   ...  ...          ...   \n",
       "320113                   Caldas        Casa    30    M   En estudio   \n",
       "320114                   Caldas        Casa    31    F   En estudio   \n",
       "320116                   Caldas        Casa    36    F   En estudio   \n",
       "325207                   Caldas        Casa    26    M   En estudio   \n",
       "325374                   Caldas        Casa    42    M   En estudio   \n",
       "\n",
       "              Estado Fecha de muerte  \n",
       "122             Leve             NaN  \n",
       "180             Leve             NaN  \n",
       "217             Leve             NaN  \n",
       "278             Leve             NaN  \n",
       "322     Asintomático             NaN  \n",
       "...              ...             ...  \n",
       "320113          Leve             NaN  \n",
       "320114          Leve             NaN  \n",
       "320116          Leve             NaN  \n",
       "325207          Leve             NaN  \n",
       "325374          Leve             NaN  \n",
       "\n",
       "[560 rows x 10 columns]"
      ]
     },
     "execution_count": 14,
     "metadata": {},
     "output_type": "execute_result"
    }
   ],
   "source": [
    "filtro = todosetareos['Departamento o Distrito '] == departamento\n",
    "dfetareosdpto = todosetareos.loc[filtro, :]\n",
    "dfetareosdpto"
   ]
  },
  {
   "cell_type": "code",
   "execution_count": 9,
   "metadata": {},
   "outputs": [
    {
     "data": {
      "text/plain": [
       "560"
      ]
     },
     "execution_count": 9,
     "metadata": {},
     "output_type": "execute_result"
    }
   ],
   "source": [
    "filtro = todosetareos['Departamento o Distrito '] == departamento \n",
    "EtareosDpto = todosetareos[filtro].count()['ID de caso']\n",
    "EtareosDpto"
   ]
  },
  {
   "cell_type": "code",
   "execution_count": 10,
   "metadata": {},
   "outputs": [
    {
     "data": {
      "text/plain": [
       "0"
      ]
     },
     "execution_count": 10,
     "metadata": {},
     "output_type": "execute_result"
    }
   ],
   "source": [
    "estado = df['Estado'] == ESTADO \n",
    "estadoporDpto = todosetareos.loc[estado]\n",
    "filtro = estadoporDpto['Departamento o Distrito '] == departamento\n",
    "fallecidospordepartamentoygrupoetareo = estadoporDpto.loc[filtro,'ID de caso'].count()\n",
    "\n",
    "fallecidospordepartamentoygrupoetareo\n"
   ]
  },
  {
   "cell_type": "code",
   "execution_count": 11,
   "metadata": {},
   "outputs": [
    {
     "data": {
      "text/plain": [
       "0.0"
      ]
     },
     "execution_count": 11,
     "metadata": {},
     "output_type": "execute_result"
    }
   ],
   "source": [
    "TasaLetalidadxGrupoEtareo = (fallecidospordepartamentoygrupoetareo/EtareosDpto)*100\n",
    "TasaLetalidadxGrupoEtareo"
   ]
  },
  {
   "cell_type": "code",
   "execution_count": 12,
   "metadata": {},
   "outputs": [
    {
     "data": {
      "text/plain": [
       "173    435989\n",
       "Name: 2020, dtype: int64"
      ]
     },
     "execution_count": 12,
     "metadata": {},
     "output_type": "execute_result"
    }
   ],
   "source": [
    "filtro = daneEtareos['REGION'] == departamento\n",
    "PoblacionDptoEtareos = daneEtareos.loc[filtro]\n",
    "PoblacionDptoEtareos\n",
    "filtro1 = PoblacionDptoEtareos['Grupos de edad'] == etareo\n",
    "poblacionxGrupoEtareo = PoblacionDptoEtareos.loc[filtro1]['2020']\n",
    "poblacionxGrupoEtareo"
   ]
  },
  {
   "cell_type": "code",
   "execution_count": 13,
   "metadata": {},
   "outputs": [
    {
     "data": {
      "text/plain": [
       "173    0.0\n",
       "Name: 2020, dtype: float64"
      ]
     },
     "execution_count": 13,
     "metadata": {},
     "output_type": "execute_result"
    }
   ],
   "source": [
    "MortalidadGrupoEtareo =(fallecidospordepartamentoygrupoetareo/poblacionxGrupoEtareo)*1000000\n",
    "MortalidadGrupoEtareo"
   ]
  },
  {
   "cell_type": "code",
   "execution_count": 15,
   "metadata": {
    "scrolled": true
   },
   "outputs": [
    {
     "data": {
      "text/plain": [
       "560"
      ]
     },
     "execution_count": 15,
     "metadata": {},
     "output_type": "execute_result"
    }
   ],
   "source": [
    "casosXgrupoEtareo = dfetareosdpto['ID de caso'].count()\n",
    "casosXgrupoEtareo"
   ]
  },
  {
   "cell_type": "code",
   "execution_count": 16,
   "metadata": {},
   "outputs": [
    {
     "data": {
      "text/plain": [
       "0.0"
      ]
     },
     "execution_count": 16,
     "metadata": {},
     "output_type": "execute_result"
    }
   ],
   "source": [
    "Letalidad = fallecidospordepartamentoygrupoetareo/casosXgrupoEtareo\n",
    "Letalidad"
   ]
  },
  {
   "cell_type": "code",
   "execution_count": 17,
   "metadata": {},
   "outputs": [
    {
     "data": {
      "text/plain": [
       "173    0.0\n",
       "Name: 2020, dtype: float64"
      ]
     },
     "execution_count": 17,
     "metadata": {},
     "output_type": "execute_result"
    }
   ],
   "source": [
    "mortalidad = fallecidospordepartamentoygrupoetareo/poblacionxGrupoEtareo\n",
    "mortalidad"
   ]
  },
  {
   "cell_type": "code",
   "execution_count": null,
   "metadata": {},
   "outputs": [],
   "source": []
  }
 ],
 "metadata": {
  "kernelspec": {
   "display_name": "Python 3",
   "language": "python",
   "name": "python3"
  },
  "language_info": {
   "codemirror_mode": {
    "name": "ipython",
    "version": 3
   },
   "file_extension": ".py",
   "mimetype": "text/x-python",
   "name": "python",
   "nbconvert_exporter": "python",
   "pygments_lexer": "ipython3",
   "version": "3.7.0"
  }
 },
 "nbformat": 4,
 "nbformat_minor": 4
}
