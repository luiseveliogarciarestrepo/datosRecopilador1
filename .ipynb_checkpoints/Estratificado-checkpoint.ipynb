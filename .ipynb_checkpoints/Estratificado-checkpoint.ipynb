{
 "cells": [
  {
   "cell_type": "code",
   "execution_count": 1,
   "metadata": {},
   "outputs": [],
   "source": [
    "import pandas as pd\n",
    "import numpy as np"
   ]
  },
  {
   "cell_type": "code",
   "execution_count": 2,
   "metadata": {},
   "outputs": [],
   "source": [
    "df = pd.read_csv('CovidColombia.csv', usecols=['ID de caso', 'Fecha de notificación',\n",
    "       'Ciudad de ubicación', 'Departamento o Distrito ', 'atención', 'Edad',\n",
    "       'Sexo', 'Tipo', 'Estado','Fecha de muerte'],parse_dates=['Fecha de notificación','Fecha de muerte'], low_memory=False)"
   ]
  },
  {
   "cell_type": "code",
   "execution_count": 3,
   "metadata": {},
   "outputs": [
    {
     "data": {
      "text/html": [
       "<div>\n",
       "<style scoped>\n",
       "    .dataframe tbody tr th:only-of-type {\n",
       "        vertical-align: middle;\n",
       "    }\n",
       "\n",
       "    .dataframe tbody tr th {\n",
       "        vertical-align: top;\n",
       "    }\n",
       "\n",
       "    .dataframe thead th {\n",
       "        text-align: right;\n",
       "    }\n",
       "</style>\n",
       "<table border=\"1\" class=\"dataframe\">\n",
       "  <thead>\n",
       "    <tr style=\"text-align: right;\">\n",
       "      <th></th>\n",
       "      <th>REGION</th>\n",
       "      <th>Grupos de edad</th>\n",
       "      <th>2020</th>\n",
       "    </tr>\n",
       "  </thead>\n",
       "  <tbody>\n",
       "    <tr>\n",
       "      <th>0</th>\n",
       "      <td>COLOMBIA</td>\n",
       "      <td>Todas</td>\n",
       "      <td>50372424</td>\n",
       "    </tr>\n",
       "    <tr>\n",
       "      <th>1</th>\n",
       "      <td>COLOMBIA</td>\n",
       "      <td>01-04</td>\n",
       "      <td>3927256</td>\n",
       "    </tr>\n",
       "    <tr>\n",
       "      <th>2</th>\n",
       "      <td>COLOMBIA</td>\n",
       "      <td>05-09</td>\n",
       "      <td>3936569</td>\n",
       "    </tr>\n",
       "    <tr>\n",
       "      <th>3</th>\n",
       "      <td>COLOMBIA</td>\n",
       "      <td>10-14</td>\n",
       "      <td>3975771</td>\n",
       "    </tr>\n",
       "    <tr>\n",
       "      <th>4</th>\n",
       "      <td>COLOMBIA</td>\n",
       "      <td>05-14</td>\n",
       "      <td>7912340</td>\n",
       "    </tr>\n",
       "    <tr>\n",
       "      <th>...</th>\n",
       "      <td>...</td>\n",
       "      <td>...</td>\n",
       "      <td>...</td>\n",
       "    </tr>\n",
       "    <tr>\n",
       "      <th>913</th>\n",
       "      <td>Vichada</td>\n",
       "      <td>85-89</td>\n",
       "      <td>174</td>\n",
       "    </tr>\n",
       "    <tr>\n",
       "      <th>914</th>\n",
       "      <td>Vichada</td>\n",
       "      <td>90-94</td>\n",
       "      <td>74</td>\n",
       "    </tr>\n",
       "    <tr>\n",
       "      <th>915</th>\n",
       "      <td>Vichada</td>\n",
       "      <td>95-99</td>\n",
       "      <td>32</td>\n",
       "    </tr>\n",
       "    <tr>\n",
       "      <th>916</th>\n",
       "      <td>Vichada</td>\n",
       "      <td>85-99</td>\n",
       "      <td>280</td>\n",
       "    </tr>\n",
       "    <tr>\n",
       "      <th>917</th>\n",
       "      <td>Vichada</td>\n",
       "      <td>100-120</td>\n",
       "      <td>23</td>\n",
       "    </tr>\n",
       "  </tbody>\n",
       "</table>\n",
       "<p>918 rows × 3 columns</p>\n",
       "</div>"
      ],
      "text/plain": [
       "       REGION Grupos de edad      2020\n",
       "0    COLOMBIA          Todas  50372424\n",
       "1    COLOMBIA          01-04   3927256\n",
       "2    COLOMBIA          05-09   3936569\n",
       "3    COLOMBIA          10-14   3975771\n",
       "4    COLOMBIA          05-14   7912340\n",
       "..        ...            ...       ...\n",
       "913   Vichada          85-89       174\n",
       "914   Vichada          90-94        74\n",
       "915   Vichada          95-99        32\n",
       "916   Vichada          85-99       280\n",
       "917   Vichada        100-120        23\n",
       "\n",
       "[918 rows x 3 columns]"
      ]
     },
     "execution_count": 3,
     "metadata": {},
     "output_type": "execute_result"
    }
   ],
   "source": [
    "daneEtareos= pd.read_csv('DaneEtareos.csv', sep=',', usecols = ['REGION', 'Grupos de edad', '2020'])\n",
    "daneEtareos\n"
   ]
  },
  {
   "cell_type": "code",
   "execution_count": 4,
   "metadata": {},
   "outputs": [],
   "source": [
    "menordeUno= df['Edad'] < 1\n",
    "UnoCuatro = np.logical_and(df['Edad'] > 0, df['Edad'] < 5)\n",
    "CincoCatorce = np.logical_and(df['Edad'] > 4, df['Edad'] < 15)\n",
    "QuinceCuarentayCuatro = np.logical_and(df['Edad'] > 14, df['Edad'] < 45)\n",
    "CuarentayCincoSesentayCuatro  = np.logical_and(df['Edad'] > 44, df['Edad'] < 65)\n",
    "SesentayCincoOchentayCuatro = np.logical_and(df['Edad'] > 64, df['Edad'] < 85)\n",
    "OchentayCincoNoventayNueve = np.logical_and(df['Edad'] > 84, df['Edad'] < 100)\n",
    "masdeCien = df['Edad'] > 99"
   ]
  },
  {
   "cell_type": "code",
   "execution_count": 326,
   "metadata": {},
   "outputs": [],
   "source": [
    "#departamento = 'Atlántico'\n",
    "#departamento = 'Antioquia'\n",
    "departamento = 'Risaralda'\n"
   ]
  },
  {
   "cell_type": "code",
   "execution_count": 327,
   "metadata": {},
   "outputs": [],
   "source": [
    "grupoEdad = masdeCien\n",
    "etareo = '100-120'\n",
    "                    \n",
    "\n"
   ]
  },
  {
   "cell_type": "code",
   "execution_count": 328,
   "metadata": {},
   "outputs": [],
   "source": [
    "GruposEtareos = df.loc[grupoEdad,['ID de caso','Fecha de notificación', 'Ciudad de ubicación',\n",
    "       'Departamento o Distrito ', 'atención', 'Edad', 'Sexo', 'Tipo',\n",
    "       'Estado', 'Fecha de muerte']]"
   ]
  },
  {
   "cell_type": "code",
   "execution_count": 329,
   "metadata": {},
   "outputs": [
    {
     "data": {
      "text/html": [
       "<div>\n",
       "<style scoped>\n",
       "    .dataframe tbody tr th:only-of-type {\n",
       "        vertical-align: middle;\n",
       "    }\n",
       "\n",
       "    .dataframe tbody tr th {\n",
       "        vertical-align: top;\n",
       "    }\n",
       "\n",
       "    .dataframe thead th {\n",
       "        text-align: right;\n",
       "    }\n",
       "</style>\n",
       "<table border=\"1\" class=\"dataframe\">\n",
       "  <thead>\n",
       "    <tr style=\"text-align: right;\">\n",
       "      <th></th>\n",
       "      <th>REGION</th>\n",
       "      <th>Grupos de edad</th>\n",
       "      <th>2020</th>\n",
       "    </tr>\n",
       "  </thead>\n",
       "  <tbody>\n",
       "    <tr>\n",
       "      <th>0</th>\n",
       "      <td>COLOMBIA</td>\n",
       "      <td>Todas</td>\n",
       "      <td>50372424</td>\n",
       "    </tr>\n",
       "    <tr>\n",
       "      <th>1</th>\n",
       "      <td>COLOMBIA</td>\n",
       "      <td>01-04</td>\n",
       "      <td>3927256</td>\n",
       "    </tr>\n",
       "    <tr>\n",
       "      <th>2</th>\n",
       "      <td>COLOMBIA</td>\n",
       "      <td>05-09</td>\n",
       "      <td>3936569</td>\n",
       "    </tr>\n",
       "    <tr>\n",
       "      <th>3</th>\n",
       "      <td>COLOMBIA</td>\n",
       "      <td>10-14</td>\n",
       "      <td>3975771</td>\n",
       "    </tr>\n",
       "    <tr>\n",
       "      <th>4</th>\n",
       "      <td>COLOMBIA</td>\n",
       "      <td>05-14</td>\n",
       "      <td>7912340</td>\n",
       "    </tr>\n",
       "    <tr>\n",
       "      <th>...</th>\n",
       "      <td>...</td>\n",
       "      <td>...</td>\n",
       "      <td>...</td>\n",
       "    </tr>\n",
       "    <tr>\n",
       "      <th>913</th>\n",
       "      <td>Vichada</td>\n",
       "      <td>85-89</td>\n",
       "      <td>174</td>\n",
       "    </tr>\n",
       "    <tr>\n",
       "      <th>914</th>\n",
       "      <td>Vichada</td>\n",
       "      <td>90-94</td>\n",
       "      <td>74</td>\n",
       "    </tr>\n",
       "    <tr>\n",
       "      <th>915</th>\n",
       "      <td>Vichada</td>\n",
       "      <td>95-99</td>\n",
       "      <td>32</td>\n",
       "    </tr>\n",
       "    <tr>\n",
       "      <th>916</th>\n",
       "      <td>Vichada</td>\n",
       "      <td>85-99</td>\n",
       "      <td>280</td>\n",
       "    </tr>\n",
       "    <tr>\n",
       "      <th>917</th>\n",
       "      <td>Vichada</td>\n",
       "      <td>100-120</td>\n",
       "      <td>23</td>\n",
       "    </tr>\n",
       "  </tbody>\n",
       "</table>\n",
       "<p>918 rows × 3 columns</p>\n",
       "</div>"
      ],
      "text/plain": [
       "       REGION Grupos de edad      2020\n",
       "0    COLOMBIA          Todas  50372424\n",
       "1    COLOMBIA          01-04   3927256\n",
       "2    COLOMBIA          05-09   3936569\n",
       "3    COLOMBIA          10-14   3975771\n",
       "4    COLOMBIA          05-14   7912340\n",
       "..        ...            ...       ...\n",
       "913   Vichada          85-89       174\n",
       "914   Vichada          90-94        74\n",
       "915   Vichada          95-99        32\n",
       "916   Vichada          85-99       280\n",
       "917   Vichada        100-120        23\n",
       "\n",
       "[918 rows x 3 columns]"
      ]
     },
     "execution_count": 329,
     "metadata": {},
     "output_type": "execute_result"
    }
   ],
   "source": [
    "daneEtareos"
   ]
  },
  {
   "cell_type": "code",
   "execution_count": 330,
   "metadata": {},
   "outputs": [
    {
     "data": {
      "text/plain": [
       "0"
      ]
     },
     "execution_count": 330,
     "metadata": {},
     "output_type": "execute_result"
    }
   ],
   "source": [
    "ESTADO = 'Fallecido'\n",
    "estado = df['Estado'] == ESTADO \n",
    "estadoporDpto = GruposEtareos.loc[estado]\n",
    "filtro = estadoporDpto['Departamento o Distrito '] == departamento\n",
    "fallecidospordepartamentoygrupoetareo = estadoporDpto.loc[filtro,'ID de caso'].count()\n",
    "fallecidospordepartamentoygrupoetareo\n"
   ]
  },
  {
   "cell_type": "code",
   "execution_count": 331,
   "metadata": {},
   "outputs": [
    {
     "data": {
      "text/plain": [
       "Index(['ID de caso', 'Fecha de notificación', 'Ciudad de ubicación',\n",
       "       'Departamento o Distrito ', 'atención', 'Edad', 'Sexo', 'Tipo',\n",
       "       'Estado', 'Fecha de muerte'],\n",
       "      dtype='object')"
      ]
     },
     "execution_count": 331,
     "metadata": {},
     "output_type": "execute_result"
    }
   ],
   "source": [
    "GruposEtareos.columns"
   ]
  },
  {
   "cell_type": "code",
   "execution_count": 332,
   "metadata": {},
   "outputs": [
    {
     "data": {
      "text/plain": [
       "0"
      ]
     },
     "execution_count": 332,
     "metadata": {},
     "output_type": "execute_result"
    }
   ],
   "source": [
    "filtro = GruposEtareos['Departamento o Distrito '] == departamento \n",
    "Persona_por_Grupos_Etareos = GruposEtareos[filtro].count()['ID de caso']\n",
    "Persona_por_Grupos_Etareos"
   ]
  },
  {
   "cell_type": "code",
   "execution_count": 333,
   "metadata": {},
   "outputs": [
    {
     "name": "stderr",
     "output_type": "stream",
     "text": [
      "/Library/Frameworks/Python.framework/Versions/3.7/lib/python3.7/site-packages/ipykernel_launcher.py:1: RuntimeWarning: invalid value encountered in long_scalars\n",
      "  \"\"\"Entry point for launching an IPython kernel.\n"
     ]
    },
    {
     "data": {
      "text/plain": [
       "nan"
      ]
     },
     "execution_count": 333,
     "metadata": {},
     "output_type": "execute_result"
    }
   ],
   "source": [
    "TasaLetalidadxGrupoEtareo = (fallecidospordepartamentoygrupoetareo/Persona_por_Grupos_Etareos)*100\n",
    "TasaLetalidadxGrupoEtareo"
   ]
  },
  {
   "cell_type": "code",
   "execution_count": 334,
   "metadata": {},
   "outputs": [
    {
     "data": {
      "text/plain": [
       "566    542\n",
       "Name: 2020, dtype: int64"
      ]
     },
     "execution_count": 334,
     "metadata": {},
     "output_type": "execute_result"
    }
   ],
   "source": [
    "\n",
    "filtro = daneEtareos['REGION'] == departamento\n",
    "totalDptoEtareos = daneEtareos.loc[filtro]\n",
    "filtro1 = totalDptoEtareos['Grupos de edad'] == etareo\n",
    "total = totalDptoEtareos.loc[filtro1]['2020'].astype(int)\n",
    "total"
   ]
  },
  {
   "cell_type": "code",
   "execution_count": 335,
   "metadata": {},
   "outputs": [
    {
     "data": {
      "text/plain": [
       "566    0.0\n",
       "Name: 2020, dtype: float64"
      ]
     },
     "execution_count": 335,
     "metadata": {},
     "output_type": "execute_result"
    }
   ],
   "source": [
    "MortalidadGrupoEtareo =(fallecidospordepartamentoygrupoetareo/total)*1000000\n",
    "MortalidadGrupoEtareo"
   ]
  },
  {
   "cell_type": "markdown",
   "metadata": {},
   "source": [
    "##### "
   ]
  },
  {
   "cell_type": "code",
   "execution_count": null,
   "metadata": {},
   "outputs": [],
   "source": []
  },
  {
   "cell_type": "code",
   "execution_count": null,
   "metadata": {},
   "outputs": [],
   "source": []
  }
 ],
 "metadata": {
  "kernelspec": {
   "display_name": "Python 3",
   "language": "python",
   "name": "python3"
  },
  "language_info": {
   "codemirror_mode": {
    "name": "ipython",
    "version": 3
   },
   "file_extension": ".py",
   "mimetype": "text/x-python",
   "name": "python",
   "nbconvert_exporter": "python",
   "pygments_lexer": "ipython3",
   "version": "3.7.0"
  }
 },
 "nbformat": 4,
 "nbformat_minor": 4
}
