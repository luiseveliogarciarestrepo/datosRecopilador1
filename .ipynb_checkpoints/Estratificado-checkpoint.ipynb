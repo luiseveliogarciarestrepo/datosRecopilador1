{
 "cells": [
  {
   "cell_type": "code",
   "execution_count": 46,
   "metadata": {},
   "outputs": [],
   "source": [
    "import pandas as pd\n",
    "import numpy as np"
   ]
  },
  {
   "cell_type": "code",
   "execution_count": 47,
   "metadata": {},
   "outputs": [],
   "source": [
    "df = pd.read_csv('CovidColombia.csv', usecols=['ID de caso', 'Fecha de notificación',\n",
    "       'Ciudad de ubicación', 'Departamento o Distrito ', 'atención', 'Edad',\n",
    "       'Sexo', 'Tipo', 'Estado','Fecha de muerte'],parse_dates=['Fecha de notificación','Fecha de muerte'], low_memory=False)"
   ]
  },
  {
   "cell_type": "code",
   "execution_count": null,
   "metadata": {},
   "outputs": [],
   "source": []
  },
  {
   "cell_type": "code",
   "execution_count": 76,
   "metadata": {},
   "outputs": [],
   "source": [
    "menordeUno= df['Edad'] < 1\n",
    "UnoCuatro = np.logical_and(df['Edad'] > 0, df['Edad'] < 5)\n",
    "CincoCatorce = np.logical_and(df['Edad'] > 4, df['Edad'] < 15)\n",
    "QuinceCuarentayCuatro = np.logical_and(df['Edad'] > 14, df['Edad'] < 45)\n",
    "CuarentayCincoSesentayCuatro  = np.logical_and(df['Edad'] > 44, df['Edad'] < 65)\n",
    "SesentayCincoOchentayCuatro = np.logical_and(df['Edad'] > 64, df['Edad'] < 85)\n",
    "OchentayCincoNoventayNueve = np.logical_and(df['Edad'] > 84, df['Edad'] < 100)\n",
    "masdeCien = df['Edad'] > 99"
   ]
  },
  {
   "cell_type": "code",
   "execution_count": 124,
   "metadata": {},
   "outputs": [],
   "source": [
    "departamento = 'Caldas'"
   ]
  },
  {
   "cell_type": "code",
   "execution_count": 141,
   "metadata": {},
   "outputs": [],
   "source": [
    "grupoEdad = masdeCien\n",
    "GruposEtareos = df.loc[grupoEdad,['ID de caso','Fecha de notificación', 'Ciudad de ubicación',\n",
    "       'Departamento o Distrito ', 'atención', 'Edad', 'Sexo', 'Tipo',\n",
    "       'Estado', 'Fecha de muerte']]"
   ]
  },
  {
   "cell_type": "code",
   "execution_count": 142,
   "metadata": {},
   "outputs": [
    {
     "data": {
      "text/plain": [
       "0"
      ]
     },
     "execution_count": 142,
     "metadata": {},
     "output_type": "execute_result"
    }
   ],
   "source": [
    "ESTADO = 'Fallecido'\n",
    "estado = df['Estado'] == ESTADO \n",
    "estadoporDpto = GruposEtareos.loc[estado]\n",
    "filtro = estadoporDpto['Departamento o Distrito '] == departamento\n",
    "fallecidospordepartamentoygrupoetareo = estadoporDpto.loc[filtro,'ID de caso'].count()\n",
    "fallecidospordepartamentoygrupoetareo\n"
   ]
  },
  {
   "cell_type": "code",
   "execution_count": 58,
   "metadata": {},
   "outputs": [
    {
     "data": {
      "text/plain": [
       "60430"
      ]
     },
     "execution_count": 58,
     "metadata": {},
     "output_type": "execute_result"
    }
   ],
   "source": [
    "Persona_por_Grupos_Etareos = GruposEtareos['ID de caso'].count()\n",
    "Persona_por_Grupos_Etareos"
   ]
  },
  {
   "cell_type": "code",
   "execution_count": 59,
   "metadata": {},
   "outputs": [
    {
     "data": {
      "text/plain": [
       "2386"
      ]
     },
     "execution_count": 59,
     "metadata": {},
     "output_type": "execute_result"
    }
   ],
   "source": [
    "estado_Grupo_etareo = GruposEtareos.loc[estado,'ID de caso'].count()\n",
    "estado_Grupo_etareo "
   ]
  },
  {
   "cell_type": "code",
   "execution_count": 60,
   "metadata": {},
   "outputs": [
    {
     "data": {
      "text/plain": [
       "3.9483700148932646"
      ]
     },
     "execution_count": 60,
     "metadata": {},
     "output_type": "execute_result"
    }
   ],
   "source": [
    "TasaLetalidadxGrupoEtareo = (estado_Grupo_etareo/Persona_por_Grupos_Etareos)*100\n",
    "TasaLetalidadxGrupoEtareo"
   ]
  },
  {
   "cell_type": "code",
   "execution_count": 61,
   "metadata": {},
   "outputs": [
    {
     "data": {
      "text/html": [
       "<div>\n",
       "<style scoped>\n",
       "    .dataframe tbody tr th:only-of-type {\n",
       "        vertical-align: middle;\n",
       "    }\n",
       "\n",
       "    .dataframe tbody tr th {\n",
       "        vertical-align: top;\n",
       "    }\n",
       "\n",
       "    .dataframe thead th {\n",
       "        text-align: right;\n",
       "    }\n",
       "</style>\n",
       "<table border=\"1\" class=\"dataframe\">\n",
       "  <thead>\n",
       "    <tr style=\"text-align: right;\">\n",
       "      <th></th>\n",
       "      <th>Dpto</th>\n",
       "      <th>Municipio</th>\n",
       "      <th>Género</th>\n",
       "      <th>2020</th>\n",
       "    </tr>\n",
       "  </thead>\n",
       "  <tbody>\n",
       "    <tr>\n",
       "      <th>0</th>\n",
       "      <td>Antioquia</td>\n",
       "      <td>Medellín</td>\n",
       "      <td>AMBOS SEXOS</td>\n",
       "      <td>2533424</td>\n",
       "    </tr>\n",
       "    <tr>\n",
       "      <th>1</th>\n",
       "      <td>Antioquia</td>\n",
       "      <td>Medellín</td>\n",
       "      <td>HOMBRES</td>\n",
       "      <td>1193791</td>\n",
       "    </tr>\n",
       "    <tr>\n",
       "      <th>2</th>\n",
       "      <td>Antioquia</td>\n",
       "      <td>Medellín</td>\n",
       "      <td>MUJERES</td>\n",
       "      <td>1339633</td>\n",
       "    </tr>\n",
       "    <tr>\n",
       "      <th>3</th>\n",
       "      <td>Antioquia</td>\n",
       "      <td>Abejorral</td>\n",
       "      <td>AMBOS SEXOS</td>\n",
       "      <td>20287</td>\n",
       "    </tr>\n",
       "    <tr>\n",
       "      <th>4</th>\n",
       "      <td>Antioquia</td>\n",
       "      <td>Abejorral</td>\n",
       "      <td>HOMBRES</td>\n",
       "      <td>10558</td>\n",
       "    </tr>\n",
       "    <tr>\n",
       "      <th>...</th>\n",
       "      <td>...</td>\n",
       "      <td>...</td>\n",
       "      <td>...</td>\n",
       "      <td>...</td>\n",
       "    </tr>\n",
       "    <tr>\n",
       "      <th>3364</th>\n",
       "      <td>Vichada</td>\n",
       "      <td>Cumaribo</td>\n",
       "      <td>HOMBRES</td>\n",
       "      <td>41840</td>\n",
       "    </tr>\n",
       "    <tr>\n",
       "      <th>3365</th>\n",
       "      <td>Vichada</td>\n",
       "      <td>Cumaribo</td>\n",
       "      <td>MUJERES</td>\n",
       "      <td>37023</td>\n",
       "    </tr>\n",
       "    <tr>\n",
       "      <th>3366</th>\n",
       "      <td>País_Col</td>\n",
       "      <td>País_Col</td>\n",
       "      <td>AMBOS SEXOS</td>\n",
       "      <td>50372424</td>\n",
       "    </tr>\n",
       "    <tr>\n",
       "      <th>3367</th>\n",
       "      <td>País_Col</td>\n",
       "      <td>País_Col</td>\n",
       "      <td>HOMBRES</td>\n",
       "      <td>24594882</td>\n",
       "    </tr>\n",
       "    <tr>\n",
       "      <th>3368</th>\n",
       "      <td>País_Col</td>\n",
       "      <td>País_Col</td>\n",
       "      <td>MUJERES</td>\n",
       "      <td>25777542</td>\n",
       "    </tr>\n",
       "  </tbody>\n",
       "</table>\n",
       "<p>3369 rows × 4 columns</p>\n",
       "</div>"
      ],
      "text/plain": [
       "           Dpto  Municipio       Género      2020\n",
       "0     Antioquia   Medellín  AMBOS SEXOS   2533424\n",
       "1     Antioquia   Medellín      HOMBRES   1193791\n",
       "2     Antioquia   Medellín      MUJERES   1339633\n",
       "3     Antioquia  Abejorral  AMBOS SEXOS     20287\n",
       "4     Antioquia  Abejorral      HOMBRES     10558\n",
       "...         ...        ...          ...       ...\n",
       "3364    Vichada   Cumaribo      HOMBRES     41840\n",
       "3365    Vichada   Cumaribo      MUJERES     37023\n",
       "3366   País_Col   País_Col  AMBOS SEXOS  50372424\n",
       "3367   País_Col   País_Col      HOMBRES  24594882\n",
       "3368   País_Col   País_Col      MUJERES  25777542\n",
       "\n",
       "[3369 rows x 4 columns]"
      ]
     },
     "execution_count": 61,
     "metadata": {},
     "output_type": "execute_result"
    }
   ],
   "source": [
    "dane= pd.read_csv('Dane2018_2023.csv', usecols= ['Dpto', 'Municipio', 'Género','2020'])\n",
    "dane"
   ]
  },
  {
   "cell_type": "code",
   "execution_count": 62,
   "metadata": {},
   "outputs": [
    {
     "data": {
      "text/html": [
       "<div>\n",
       "<style scoped>\n",
       "    .dataframe tbody tr th:only-of-type {\n",
       "        vertical-align: middle;\n",
       "    }\n",
       "\n",
       "    .dataframe tbody tr th {\n",
       "        vertical-align: top;\n",
       "    }\n",
       "\n",
       "    .dataframe thead th {\n",
       "        text-align: right;\n",
       "    }\n",
       "</style>\n",
       "<table border=\"1\" class=\"dataframe\">\n",
       "  <thead>\n",
       "    <tr style=\"text-align: right;\">\n",
       "      <th></th>\n",
       "      <th>Dpto</th>\n",
       "      <th>Municipio</th>\n",
       "      <th>2020</th>\n",
       "    </tr>\n",
       "  </thead>\n",
       "  <tbody>\n",
       "    <tr>\n",
       "      <th>0</th>\n",
       "      <td>Antioquia</td>\n",
       "      <td>Medellín</td>\n",
       "      <td>2533424</td>\n",
       "    </tr>\n",
       "    <tr>\n",
       "      <th>3</th>\n",
       "      <td>Antioquia</td>\n",
       "      <td>Abejorral</td>\n",
       "      <td>20287</td>\n",
       "    </tr>\n",
       "    <tr>\n",
       "      <th>6</th>\n",
       "      <td>Antioquia</td>\n",
       "      <td>Abriaquí</td>\n",
       "      <td>2735</td>\n",
       "    </tr>\n",
       "    <tr>\n",
       "      <th>9</th>\n",
       "      <td>Antioquia</td>\n",
       "      <td>Alejandría</td>\n",
       "      <td>4698</td>\n",
       "    </tr>\n",
       "    <tr>\n",
       "      <th>12</th>\n",
       "      <td>Antioquia</td>\n",
       "      <td>Amagá</td>\n",
       "      <td>31283</td>\n",
       "    </tr>\n",
       "    <tr>\n",
       "      <th>...</th>\n",
       "      <td>...</td>\n",
       "      <td>...</td>\n",
       "      <td>...</td>\n",
       "    </tr>\n",
       "    <tr>\n",
       "      <th>3354</th>\n",
       "      <td>Vichada</td>\n",
       "      <td>Puerto Carreño</td>\n",
       "      <td>20294</td>\n",
       "    </tr>\n",
       "    <tr>\n",
       "      <th>3357</th>\n",
       "      <td>Vichada</td>\n",
       "      <td>La Primavera</td>\n",
       "      <td>9608</td>\n",
       "    </tr>\n",
       "    <tr>\n",
       "      <th>3360</th>\n",
       "      <td>Vichada</td>\n",
       "      <td>Santa Rosalía</td>\n",
       "      <td>4193</td>\n",
       "    </tr>\n",
       "    <tr>\n",
       "      <th>3363</th>\n",
       "      <td>Vichada</td>\n",
       "      <td>Cumaribo</td>\n",
       "      <td>78863</td>\n",
       "    </tr>\n",
       "    <tr>\n",
       "      <th>3366</th>\n",
       "      <td>País_Col</td>\n",
       "      <td>País_Col</td>\n",
       "      <td>50372424</td>\n",
       "    </tr>\n",
       "  </tbody>\n",
       "</table>\n",
       "<p>1123 rows × 3 columns</p>\n",
       "</div>"
      ],
      "text/plain": [
       "           Dpto       Municipio      2020\n",
       "0     Antioquia        Medellín   2533424\n",
       "3     Antioquia       Abejorral     20287\n",
       "6     Antioquia        Abriaquí      2735\n",
       "9     Antioquia      Alejandría      4698\n",
       "12    Antioquia           Amagá     31283\n",
       "...         ...             ...       ...\n",
       "3354    Vichada  Puerto Carreño     20294\n",
       "3357    Vichada    La Primavera      9608\n",
       "3360    Vichada   Santa Rosalía      4193\n",
       "3363    Vichada        Cumaribo     78863\n",
       "3366   País_Col        País_Col  50372424\n",
       "\n",
       "[1123 rows x 3 columns]"
      ]
     },
     "execution_count": 62,
     "metadata": {},
     "output_type": "execute_result"
    }
   ],
   "source": [
    "filtro = dane['Género'] == 'AMBOS SEXOS'\n",
    "Poblacion = dane.loc[filtro].drop(columns = 'Género')\n",
    "Poblacion"
   ]
  },
  {
   "cell_type": "code",
   "execution_count": 63,
   "metadata": {},
   "outputs": [
    {
     "data": {
      "text/plain": [
       "446160"
      ]
     },
     "execution_count": 63,
     "metadata": {},
     "output_type": "execute_result"
    }
   ],
   "source": [
    "PoblacionColombia = Poblacion.groupby(['Dpto', 'Municipio'])['2020'].sum().loc[departamento,municipio].sum()\n",
    "PoblacionColombia"
   ]
  },
  {
   "cell_type": "code",
   "execution_count": 143,
   "metadata": {},
   "outputs": [],
   "source": [
    "daneEtareos = pd.read_csv('DaneEtareos.csv')"
   ]
  },
  {
   "cell_type": "code",
   "execution_count": 144,
   "metadata": {},
   "outputs": [
    {
     "data": {
      "text/html": [
       "<div>\n",
       "<style scoped>\n",
       "    .dataframe tbody tr th:only-of-type {\n",
       "        vertical-align: middle;\n",
       "    }\n",
       "\n",
       "    .dataframe tbody tr th {\n",
       "        vertical-align: top;\n",
       "    }\n",
       "\n",
       "    .dataframe thead th {\n",
       "        text-align: right;\n",
       "    }\n",
       "</style>\n",
       "<table border=\"1\" class=\"dataframe\">\n",
       "  <thead>\n",
       "    <tr style=\"text-align: right;\">\n",
       "      <th></th>\n",
       "      <th>REGION</th>\n",
       "      <th>Grupos de edad</th>\n",
       "      <th>2020</th>\n",
       "      <th>2021</th>\n",
       "      <th>2022</th>\n",
       "      <th>2023</th>\n",
       "    </tr>\n",
       "  </thead>\n",
       "  <tbody>\n",
       "    <tr>\n",
       "      <th>0</th>\n",
       "      <td>COLOMBIA</td>\n",
       "      <td>00-120</td>\n",
       "      <td>50372424</td>\n",
       "      <td>51049498</td>\n",
       "      <td>51609474</td>\n",
       "      <td>52156254</td>\n",
       "    </tr>\n",
       "    <tr>\n",
       "      <th>1</th>\n",
       "      <td>COLOMBIA</td>\n",
       "      <td>00-04</td>\n",
       "      <td>3927256</td>\n",
       "      <td>3922169</td>\n",
       "      <td>3903808</td>\n",
       "      <td>3879605</td>\n",
       "    </tr>\n",
       "    <tr>\n",
       "      <th>2</th>\n",
       "      <td>COLOMBIA</td>\n",
       "      <td>05-09</td>\n",
       "      <td>3936569</td>\n",
       "      <td>3957795</td>\n",
       "      <td>3969070</td>\n",
       "      <td>3979773</td>\n",
       "    </tr>\n",
       "    <tr>\n",
       "      <th>3</th>\n",
       "      <td>COLOMBIA</td>\n",
       "      <td>10-14</td>\n",
       "      <td>3975771</td>\n",
       "      <td>3973505</td>\n",
       "      <td>3968201</td>\n",
       "      <td>3967071</td>\n",
       "    </tr>\n",
       "    <tr>\n",
       "      <th>4</th>\n",
       "      <td>COLOMBIA</td>\n",
       "      <td>15-19</td>\n",
       "      <td>4136556</td>\n",
       "      <td>4102336</td>\n",
       "      <td>4063544</td>\n",
       "      <td>4031577</td>\n",
       "    </tr>\n",
       "    <tr>\n",
       "      <th>...</th>\n",
       "      <td>...</td>\n",
       "      <td>...</td>\n",
       "      <td>...</td>\n",
       "      <td>...</td>\n",
       "      <td>...</td>\n",
       "      <td>...</td>\n",
       "    </tr>\n",
       "    <tr>\n",
       "      <th>743</th>\n",
       "      <td>Vichada</td>\n",
       "      <td>80-84</td>\n",
       "      <td>346</td>\n",
       "      <td>367</td>\n",
       "      <td>396</td>\n",
       "      <td>420</td>\n",
       "    </tr>\n",
       "    <tr>\n",
       "      <th>744</th>\n",
       "      <td>Vichada</td>\n",
       "      <td>85-89</td>\n",
       "      <td>174</td>\n",
       "      <td>188</td>\n",
       "      <td>195</td>\n",
       "      <td>207</td>\n",
       "    </tr>\n",
       "    <tr>\n",
       "      <th>745</th>\n",
       "      <td>Vichada</td>\n",
       "      <td>90-94</td>\n",
       "      <td>74</td>\n",
       "      <td>77</td>\n",
       "      <td>82</td>\n",
       "      <td>85</td>\n",
       "    </tr>\n",
       "    <tr>\n",
       "      <th>746</th>\n",
       "      <td>Vichada</td>\n",
       "      <td>95-99</td>\n",
       "      <td>32</td>\n",
       "      <td>32</td>\n",
       "      <td>32</td>\n",
       "      <td>32</td>\n",
       "    </tr>\n",
       "    <tr>\n",
       "      <th>747</th>\n",
       "      <td>Vichada</td>\n",
       "      <td>100-120</td>\n",
       "      <td>23</td>\n",
       "      <td>21</td>\n",
       "      <td>18</td>\n",
       "      <td>18</td>\n",
       "    </tr>\n",
       "  </tbody>\n",
       "</table>\n",
       "<p>748 rows × 6 columns</p>\n",
       "</div>"
      ],
      "text/plain": [
       "       REGION Grupos de edad      2020      2021      2022      2023\n",
       "0    COLOMBIA         00-120  50372424  51049498  51609474  52156254\n",
       "1    COLOMBIA          00-04   3927256   3922169   3903808   3879605\n",
       "2    COLOMBIA          05-09   3936569   3957795   3969070   3979773\n",
       "3    COLOMBIA          10-14   3975771   3973505   3968201   3967071\n",
       "4    COLOMBIA          15-19   4136556   4102336   4063544   4031577\n",
       "..        ...            ...       ...       ...       ...       ...\n",
       "743   Vichada          80-84       346       367       396       420\n",
       "744   Vichada          85-89       174       188       195       207\n",
       "745   Vichada          90-94        74        77        82        85\n",
       "746   Vichada          95-99        32        32        32        32\n",
       "747   Vichada        100-120        23        21        18        18\n",
       "\n",
       "[748 rows x 6 columns]"
      ]
     },
     "execution_count": 144,
     "metadata": {},
     "output_type": "execute_result"
    }
   ],
   "source": [
    "daneEtareos"
   ]
  },
  {
   "cell_type": "code",
   "execution_count": 146,
   "metadata": {},
   "outputs": [
    {
     "data": {
      "text/html": [
       "<div>\n",
       "<style scoped>\n",
       "    .dataframe tbody tr th:only-of-type {\n",
       "        vertical-align: middle;\n",
       "    }\n",
       "\n",
       "    .dataframe tbody tr th {\n",
       "        vertical-align: top;\n",
       "    }\n",
       "\n",
       "    .dataframe thead th {\n",
       "        text-align: right;\n",
       "    }\n",
       "</style>\n",
       "<table border=\"1\" class=\"dataframe\">\n",
       "  <thead>\n",
       "    <tr style=\"text-align: right;\">\n",
       "      <th></th>\n",
       "      <th>REGION</th>\n",
       "      <th>Grupos de edad</th>\n",
       "      <th>2020</th>\n",
       "      <th>2021</th>\n",
       "      <th>2022</th>\n",
       "      <th>2023</th>\n",
       "    </tr>\n",
       "  </thead>\n",
       "  <tbody>\n",
       "    <tr>\n",
       "      <th>132</th>\n",
       "      <td>Caldas</td>\n",
       "      <td>00-120</td>\n",
       "      <td>1018453</td>\n",
       "      <td>1027314</td>\n",
       "      <td>1036455</td>\n",
       "      <td>1046418</td>\n",
       "    </tr>\n",
       "    <tr>\n",
       "      <th>133</th>\n",
       "      <td>Caldas</td>\n",
       "      <td>00-04</td>\n",
       "      <td>64815</td>\n",
       "      <td>64897</td>\n",
       "      <td>64831</td>\n",
       "      <td>64591</td>\n",
       "    </tr>\n",
       "    <tr>\n",
       "      <th>134</th>\n",
       "      <td>Caldas</td>\n",
       "      <td>05-09</td>\n",
       "      <td>65170</td>\n",
       "      <td>65776</td>\n",
       "      <td>66441</td>\n",
       "      <td>67209</td>\n",
       "    </tr>\n",
       "    <tr>\n",
       "      <th>135</th>\n",
       "      <td>Caldas</td>\n",
       "      <td>10-14</td>\n",
       "      <td>67762</td>\n",
       "      <td>67491</td>\n",
       "      <td>67432</td>\n",
       "      <td>67599</td>\n",
       "    </tr>\n",
       "    <tr>\n",
       "      <th>136</th>\n",
       "      <td>Caldas</td>\n",
       "      <td>15-19</td>\n",
       "      <td>73975</td>\n",
       "      <td>72985</td>\n",
       "      <td>72090</td>\n",
       "      <td>71402</td>\n",
       "    </tr>\n",
       "    <tr>\n",
       "      <th>137</th>\n",
       "      <td>Caldas</td>\n",
       "      <td>20-24</td>\n",
       "      <td>77625</td>\n",
       "      <td>76845</td>\n",
       "      <td>76000</td>\n",
       "      <td>75187</td>\n",
       "    </tr>\n",
       "    <tr>\n",
       "      <th>138</th>\n",
       "      <td>Caldas</td>\n",
       "      <td>25-29</td>\n",
       "      <td>76957</td>\n",
       "      <td>77074</td>\n",
       "      <td>76950</td>\n",
       "      <td>76721</td>\n",
       "    </tr>\n",
       "    <tr>\n",
       "      <th>139</th>\n",
       "      <td>Caldas</td>\n",
       "      <td>30-34</td>\n",
       "      <td>71389</td>\n",
       "      <td>72674</td>\n",
       "      <td>73978</td>\n",
       "      <td>75197</td>\n",
       "    </tr>\n",
       "    <tr>\n",
       "      <th>140</th>\n",
       "      <td>Caldas</td>\n",
       "      <td>35-39</td>\n",
       "      <td>70347</td>\n",
       "      <td>70365</td>\n",
       "      <td>70483</td>\n",
       "      <td>71011</td>\n",
       "    </tr>\n",
       "    <tr>\n",
       "      <th>141</th>\n",
       "      <td>Caldas</td>\n",
       "      <td>40-44</td>\n",
       "      <td>65696</td>\n",
       "      <td>67558</td>\n",
       "      <td>69280</td>\n",
       "      <td>70645</td>\n",
       "    </tr>\n",
       "    <tr>\n",
       "      <th>142</th>\n",
       "      <td>Caldas</td>\n",
       "      <td>45-49</td>\n",
       "      <td>63209</td>\n",
       "      <td>62740</td>\n",
       "      <td>62839</td>\n",
       "      <td>63608</td>\n",
       "    </tr>\n",
       "    <tr>\n",
       "      <th>143</th>\n",
       "      <td>Caldas</td>\n",
       "      <td>50-54</td>\n",
       "      <td>66160</td>\n",
       "      <td>65639</td>\n",
       "      <td>65012</td>\n",
       "      <td>64333</td>\n",
       "    </tr>\n",
       "    <tr>\n",
       "      <th>144</th>\n",
       "      <td>Caldas</td>\n",
       "      <td>55-59</td>\n",
       "      <td>64930</td>\n",
       "      <td>65369</td>\n",
       "      <td>65632</td>\n",
       "      <td>65749</td>\n",
       "    </tr>\n",
       "    <tr>\n",
       "      <th>145</th>\n",
       "      <td>Caldas</td>\n",
       "      <td>60-64</td>\n",
       "      <td>58379</td>\n",
       "      <td>59577</td>\n",
       "      <td>60723</td>\n",
       "      <td>61813</td>\n",
       "    </tr>\n",
       "    <tr>\n",
       "      <th>146</th>\n",
       "      <td>Caldas</td>\n",
       "      <td>65-69</td>\n",
       "      <td>46913</td>\n",
       "      <td>48991</td>\n",
       "      <td>50955</td>\n",
       "      <td>52789</td>\n",
       "    </tr>\n",
       "    <tr>\n",
       "      <th>147</th>\n",
       "      <td>Caldas</td>\n",
       "      <td>70-74</td>\n",
       "      <td>34362</td>\n",
       "      <td>35961</td>\n",
       "      <td>37643</td>\n",
       "      <td>39424</td>\n",
       "    </tr>\n",
       "    <tr>\n",
       "      <th>148</th>\n",
       "      <td>Caldas</td>\n",
       "      <td>75-79</td>\n",
       "      <td>22953</td>\n",
       "      <td>24269</td>\n",
       "      <td>25626</td>\n",
       "      <td>27025</td>\n",
       "    </tr>\n",
       "    <tr>\n",
       "      <th>149</th>\n",
       "      <td>Caldas</td>\n",
       "      <td>80-84</td>\n",
       "      <td>13912</td>\n",
       "      <td>14652</td>\n",
       "      <td>15486</td>\n",
       "      <td>16381</td>\n",
       "    </tr>\n",
       "    <tr>\n",
       "      <th>150</th>\n",
       "      <td>Caldas</td>\n",
       "      <td>85-89</td>\n",
       "      <td>7791</td>\n",
       "      <td>8135</td>\n",
       "      <td>8515</td>\n",
       "      <td>8948</td>\n",
       "    </tr>\n",
       "    <tr>\n",
       "      <th>151</th>\n",
       "      <td>Caldas</td>\n",
       "      <td>90-94</td>\n",
       "      <td>3959</td>\n",
       "      <td>4072</td>\n",
       "      <td>4208</td>\n",
       "      <td>4363</td>\n",
       "    </tr>\n",
       "    <tr>\n",
       "      <th>152</th>\n",
       "      <td>Caldas</td>\n",
       "      <td>95-99</td>\n",
       "      <td>1668</td>\n",
       "      <td>1717</td>\n",
       "      <td>1791</td>\n",
       "      <td>1862</td>\n",
       "    </tr>\n",
       "    <tr>\n",
       "      <th>153</th>\n",
       "      <td>Caldas</td>\n",
       "      <td>100-120</td>\n",
       "      <td>481</td>\n",
       "      <td>527</td>\n",
       "      <td>540</td>\n",
       "      <td>561</td>\n",
       "    </tr>\n",
       "  </tbody>\n",
       "</table>\n",
       "</div>"
      ],
      "text/plain": [
       "     REGION Grupos de edad     2020     2021     2022     2023\n",
       "132  Caldas         00-120  1018453  1027314  1036455  1046418\n",
       "133  Caldas          00-04    64815    64897    64831    64591\n",
       "134  Caldas          05-09    65170    65776    66441    67209\n",
       "135  Caldas          10-14    67762    67491    67432    67599\n",
       "136  Caldas          15-19    73975    72985    72090    71402\n",
       "137  Caldas          20-24    77625    76845    76000    75187\n",
       "138  Caldas          25-29    76957    77074    76950    76721\n",
       "139  Caldas          30-34    71389    72674    73978    75197\n",
       "140  Caldas          35-39    70347    70365    70483    71011\n",
       "141  Caldas          40-44    65696    67558    69280    70645\n",
       "142  Caldas          45-49    63209    62740    62839    63608\n",
       "143  Caldas          50-54    66160    65639    65012    64333\n",
       "144  Caldas          55-59    64930    65369    65632    65749\n",
       "145  Caldas          60-64    58379    59577    60723    61813\n",
       "146  Caldas          65-69    46913    48991    50955    52789\n",
       "147  Caldas          70-74    34362    35961    37643    39424\n",
       "148  Caldas          75-79    22953    24269    25626    27025\n",
       "149  Caldas          80-84    13912    14652    15486    16381\n",
       "150  Caldas          85-89     7791     8135     8515     8948\n",
       "151  Caldas          90-94     3959     4072     4208     4363\n",
       "152  Caldas          95-99     1668     1717     1791     1862\n",
       "153  Caldas        100-120      481      527      540      561"
      ]
     },
     "execution_count": 146,
     "metadata": {},
     "output_type": "execute_result"
    }
   ],
   "source": [
    "filtro = daneEtareos['REGION'] == departamento\n",
    "totalDptoEtareos = daneEtareos.loc[filtro]\n",
    "totalDptoEtareos"
   ]
  },
  {
   "cell_type": "code",
   "execution_count": 167,
   "metadata": {},
   "outputs": [
    {
     "data": {
      "text/plain": [
       "REGION            object\n",
       "Grupos de edad    object\n",
       "2020               int64\n",
       "2021               int64\n",
       "2022               int64\n",
       "2023               int64\n",
       "dtype: object"
      ]
     },
     "execution_count": 167,
     "metadata": {},
     "output_type": "execute_result"
    }
   ],
   "source": [
    "totalDptoEtareos.dtypes"
   ]
  },
  {
   "cell_type": "code",
   "execution_count": null,
   "metadata": {},
   "outputs": [],
   "source": [
    "etareoElegido0= '45-49'\n",
    "etareoElegido1 = '50-54'\n",
    "etareoElegido2 = '55-59'\n",
    "etareoElegido3 = '60-64'"
   ]
  },
  {
   "cell_type": "code",
   "execution_count": 187,
   "metadata": {},
   "outputs": [
    {
     "data": {
      "text/plain": [
       "142    63209.0\n",
       "Name: 2020, dtype: float64"
      ]
     },
     "execution_count": 187,
     "metadata": {},
     "output_type": "execute_result"
    }
   ],
   "source": [
    "etareo0 = totalDptoEtareos['Grupos de edad'] == etareoElegido0\n",
    "Total0 = totalDptoEtareos.loc[etareo0]['2020'].astype(float)\n",
    "pd.to_numeric(Total0)"
   ]
  },
  {
   "cell_type": "code",
   "execution_count": 188,
   "metadata": {},
   "outputs": [
    {
     "data": {
      "text/plain": [
       "143    66160.0\n",
       "Name: 2020, dtype: float64"
      ]
     },
     "execution_count": 188,
     "metadata": {},
     "output_type": "execute_result"
    }
   ],
   "source": [
    "etareo1 = totalDptoEtareos['Grupos de edad'] == etareoElegido1\n",
    "Total1 = totalDptoEtareos.loc[etareo1]['2020'].astype(float)\n",
    "pd.to_numeric(Total1)"
   ]
  },
  {
   "cell_type": "code",
   "execution_count": 190,
   "metadata": {},
   "outputs": [
    {
     "data": {
      "text/plain": [
       "144    64930.0\n",
       "Name: 2020, dtype: float64"
      ]
     },
     "execution_count": 190,
     "metadata": {},
     "output_type": "execute_result"
    }
   ],
   "source": [
    "etareo2 = totalDptoEtareos['Grupos de edad'] == etareoElegido2\n",
    "Total2 = totalDptoEtareos.loc[etareo2]['2020'].astype(float)\n",
    "pd.to_numeric(Total2)"
   ]
  },
  {
   "cell_type": "code",
   "execution_count": 189,
   "metadata": {},
   "outputs": [
    {
     "data": {
      "text/plain": [
       "145    58379.0\n",
       "Name: 2020, dtype: float64"
      ]
     },
     "execution_count": 189,
     "metadata": {},
     "output_type": "execute_result"
    }
   ],
   "source": [
    "etareo3 = totalDptoEtareos['Grupos de edad'] == etareoElegido3\n",
    "Total3 = totalDptoEtareos.loc[etareo3]['2020'].astype(float)\n",
    "pd.to_numeric(Total3)"
   ]
  },
  {
   "cell_type": "code",
   "execution_count": 198,
   "metadata": {},
   "outputs": [
    {
     "ename": "IndexingError",
     "evalue": "Too many indexers",
     "output_type": "error",
     "traceback": [
      "\u001b[0;31m---------------------------------------------------------------------------\u001b[0m",
      "\u001b[0;31mIndexingError\u001b[0m                             Traceback (most recent call last)",
      "\u001b[0;32m<ipython-input-198-d372a2b15ade>\u001b[0m in \u001b[0;36m<module>\u001b[0;34m\u001b[0m\n\u001b[0;32m----> 1\u001b[0;31m \u001b[0mTotal0\u001b[0m\u001b[0;34m.\u001b[0m\u001b[0miloc\u001b[0m\u001b[0;34m[\u001b[0m\u001b[0;36m0\u001b[0m\u001b[0;34m,\u001b[0m\u001b[0;36m1\u001b[0m\u001b[0;34m]\u001b[0m\u001b[0;34m\u001b[0m\u001b[0;34m\u001b[0m\u001b[0m\n\u001b[0m",
      "\u001b[0;32m~/.local/lib/python3.6/site-packages/pandas/core/indexing.py\u001b[0m in \u001b[0;36m__getitem__\u001b[0;34m(self, key)\u001b[0m\n\u001b[1;32m   1760\u001b[0m                 \u001b[0;32mexcept\u001b[0m \u001b[0;34m(\u001b[0m\u001b[0mKeyError\u001b[0m\u001b[0;34m,\u001b[0m \u001b[0mIndexError\u001b[0m\u001b[0;34m,\u001b[0m \u001b[0mAttributeError\u001b[0m\u001b[0;34m)\u001b[0m\u001b[0;34m:\u001b[0m\u001b[0;34m\u001b[0m\u001b[0;34m\u001b[0m\u001b[0m\n\u001b[1;32m   1761\u001b[0m                     \u001b[0;32mpass\u001b[0m\u001b[0;34m\u001b[0m\u001b[0;34m\u001b[0m\u001b[0m\n\u001b[0;32m-> 1762\u001b[0;31m             \u001b[0;32mreturn\u001b[0m \u001b[0mself\u001b[0m\u001b[0;34m.\u001b[0m\u001b[0m_getitem_tuple\u001b[0m\u001b[0;34m(\u001b[0m\u001b[0mkey\u001b[0m\u001b[0;34m)\u001b[0m\u001b[0;34m\u001b[0m\u001b[0;34m\u001b[0m\u001b[0m\n\u001b[0m\u001b[1;32m   1763\u001b[0m         \u001b[0;32melse\u001b[0m\u001b[0;34m:\u001b[0m\u001b[0;34m\u001b[0m\u001b[0;34m\u001b[0m\u001b[0m\n\u001b[1;32m   1764\u001b[0m             \u001b[0;31m# we by definition only have the 0th axis\u001b[0m\u001b[0;34m\u001b[0m\u001b[0;34m\u001b[0m\u001b[0;34m\u001b[0m\u001b[0m\n",
      "\u001b[0;32m~/.local/lib/python3.6/site-packages/pandas/core/indexing.py\u001b[0m in \u001b[0;36m_getitem_tuple\u001b[0;34m(self, tup)\u001b[0m\n\u001b[1;32m   2065\u001b[0m     \u001b[0;32mdef\u001b[0m \u001b[0m_getitem_tuple\u001b[0m\u001b[0;34m(\u001b[0m\u001b[0mself\u001b[0m\u001b[0;34m,\u001b[0m \u001b[0mtup\u001b[0m\u001b[0;34m:\u001b[0m \u001b[0mTuple\u001b[0m\u001b[0;34m)\u001b[0m\u001b[0;34m:\u001b[0m\u001b[0;34m\u001b[0m\u001b[0;34m\u001b[0m\u001b[0m\n\u001b[1;32m   2066\u001b[0m \u001b[0;34m\u001b[0m\u001b[0m\n\u001b[0;32m-> 2067\u001b[0;31m         \u001b[0mself\u001b[0m\u001b[0;34m.\u001b[0m\u001b[0m_has_valid_tuple\u001b[0m\u001b[0;34m(\u001b[0m\u001b[0mtup\u001b[0m\u001b[0;34m)\u001b[0m\u001b[0;34m\u001b[0m\u001b[0;34m\u001b[0m\u001b[0m\n\u001b[0m\u001b[1;32m   2068\u001b[0m         \u001b[0;32mtry\u001b[0m\u001b[0;34m:\u001b[0m\u001b[0;34m\u001b[0m\u001b[0;34m\u001b[0m\u001b[0m\n\u001b[1;32m   2069\u001b[0m             \u001b[0;32mreturn\u001b[0m \u001b[0mself\u001b[0m\u001b[0;34m.\u001b[0m\u001b[0m_getitem_lowerdim\u001b[0m\u001b[0;34m(\u001b[0m\u001b[0mtup\u001b[0m\u001b[0;34m)\u001b[0m\u001b[0;34m\u001b[0m\u001b[0;34m\u001b[0m\u001b[0m\n",
      "\u001b[0;32m~/.local/lib/python3.6/site-packages/pandas/core/indexing.py\u001b[0m in \u001b[0;36m_has_valid_tuple\u001b[0;34m(self, key)\u001b[0m\n\u001b[1;32m    699\u001b[0m         \u001b[0;32mfor\u001b[0m \u001b[0mi\u001b[0m\u001b[0;34m,\u001b[0m \u001b[0mk\u001b[0m \u001b[0;32min\u001b[0m \u001b[0menumerate\u001b[0m\u001b[0;34m(\u001b[0m\u001b[0mkey\u001b[0m\u001b[0;34m)\u001b[0m\u001b[0;34m:\u001b[0m\u001b[0;34m\u001b[0m\u001b[0;34m\u001b[0m\u001b[0m\n\u001b[1;32m    700\u001b[0m             \u001b[0;32mif\u001b[0m \u001b[0mi\u001b[0m \u001b[0;34m>=\u001b[0m \u001b[0mself\u001b[0m\u001b[0;34m.\u001b[0m\u001b[0mndim\u001b[0m\u001b[0;34m:\u001b[0m\u001b[0;34m\u001b[0m\u001b[0;34m\u001b[0m\u001b[0m\n\u001b[0;32m--> 701\u001b[0;31m                 \u001b[0;32mraise\u001b[0m \u001b[0mIndexingError\u001b[0m\u001b[0;34m(\u001b[0m\u001b[0;34m\"Too many indexers\"\u001b[0m\u001b[0;34m)\u001b[0m\u001b[0;34m\u001b[0m\u001b[0;34m\u001b[0m\u001b[0m\n\u001b[0m\u001b[1;32m    702\u001b[0m             \u001b[0;32mtry\u001b[0m\u001b[0;34m:\u001b[0m\u001b[0;34m\u001b[0m\u001b[0;34m\u001b[0m\u001b[0m\n\u001b[1;32m    703\u001b[0m                 \u001b[0mself\u001b[0m\u001b[0;34m.\u001b[0m\u001b[0m_validate_key\u001b[0m\u001b[0;34m(\u001b[0m\u001b[0mk\u001b[0m\u001b[0;34m,\u001b[0m \u001b[0mi\u001b[0m\u001b[0;34m)\u001b[0m\u001b[0;34m\u001b[0m\u001b[0;34m\u001b[0m\u001b[0m\n",
      "\u001b[0;31mIndexingError\u001b[0m: Too many indexers"
     ]
    }
   ],
   "source": [
    "\n"
   ]
  },
  {
   "cell_type": "code",
   "execution_count": 174,
   "metadata": {},
   "outputs": [
    {
     "data": {
      "text/plain": [
       "142   NaN\n",
       "143   NaN\n",
       "144   NaN\n",
       "145   NaN\n",
       "Name: 2020, dtype: float64"
      ]
     },
     "execution_count": 174,
     "metadata": {},
     "output_type": "execute_result"
    }
   ],
   "source": []
  },
  {
   "cell_type": "code",
   "execution_count": 162,
   "metadata": {},
   "outputs": [
    {
     "data": {
      "text/plain": [
       "146    0.0\n",
       "Name: 2020, dtype: float64"
      ]
     },
     "execution_count": 162,
     "metadata": {},
     "output_type": "execute_result"
    }
   ],
   "source": [
    "MortalidadGrupoEtareo =(fallecidospordepartamentoygrupoetareo/TotalPoblacionGrupoEtareo)*10000000\n",
    "MortalidadGrupoEtareo"
   ]
  },
  {
   "cell_type": "code",
   "execution_count": null,
   "metadata": {},
   "outputs": [],
   "source": []
  },
  {
   "cell_type": "code",
   "execution_count": null,
   "metadata": {},
   "outputs": [],
   "source": []
  }
 ],
 "metadata": {
  "kernelspec": {
   "display_name": "Python 3",
   "language": "python",
   "name": "python3"
  },
  "language_info": {
   "codemirror_mode": {
    "name": "ipython",
    "version": 3
   },
   "file_extension": ".py",
   "mimetype": "text/x-python",
   "name": "python",
   "nbconvert_exporter": "python",
   "pygments_lexer": "ipython3",
   "version": "3.6.9"
  }
 },
 "nbformat": 4,
 "nbformat_minor": 4
}
