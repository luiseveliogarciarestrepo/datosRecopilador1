{
 "cells": [
  {
   "cell_type": "code",
   "execution_count": 63,
   "metadata": {},
   "outputs": [],
   "source": [
    "import pandas as pd\n",
    "pd.set_option(\"display.precision\", 2)"
   ]
  },
  {
   "cell_type": "markdown",
   "metadata": {},
   "source": [
    "#### Bases de datos ONU, OMS, INS, DANE."
   ]
  },
  {
   "cell_type": "code",
   "execution_count": 64,
   "metadata": {},
   "outputs": [],
   "source": [
    "mundo= pd.read_csv('poblacionMundial.csv')#\n",
    "\n",
    "mundo.set_index('Spanish', inplace=True)"
   ]
  },
  {
   "cell_type": "code",
   "execution_count": 65,
   "metadata": {},
   "outputs": [],
   "source": [
    "covMun= pd.read_csv('CovidMundoT.csv')"
   ]
  },
  {
   "cell_type": "code",
   "execution_count": 66,
   "metadata": {},
   "outputs": [],
   "source": [
    "covCol = pd.read_csv('CovidColombia.csv', usecols= ['Fecha de notificación', \n",
    "       'Ciudad de ubicación', 'Departamento o Distrito ', 'atención', 'Edad',\n",
    "       'Sexo', 'Tipo', 'Estado', 'País de procedencia', 'Fecha recuperado', 'Fecha diagnostico','Fecha de muerte', \n",
    "       'Tipo recuperación'], parse_dates = ['Fecha de notificación','Fecha de muerte', 'Fecha diagnostico','Fecha recuperado'], low_memory=False)\n",
    "\n",
    "covCol['Fecha de muerte'] = pd.to_datetime(covCol['Fecha de muerte'], errors='coerce')\n",
    "\n",
    "fechas =['Fecha de notificación']\n",
    "for i in fechas:\n",
    "    covCol[i] = pd.to_datetime(covCol[i])"
   ]
  },
  {
   "cell_type": "code",
   "execution_count": 67,
   "metadata": {},
   "outputs": [],
   "source": [
    "Col = pd.read_csv('Dane2018_2023.csv').drop(columns = ['2018',\n",
    "       '2019','2021', '2022', '2023' ])"
   ]
  },
  {
   "cell_type": "code",
   "execution_count": 68,
   "metadata": {
    "scrolled": true
   },
   "outputs": [],
   "source": [
    "#covCol\n",
    "#covMun\n",
    "#Col\n",
    "#mundo"
   ]
  },
  {
   "cell_type": "markdown",
   "metadata": {},
   "source": [
    "#### Variables a ingresar"
   ]
  },
  {
   "cell_type": "code",
   "execution_count": 69,
   "metadata": {},
   "outputs": [],
   "source": [
    "pais = 'Colombia'\n",
    "\n",
    "departamento = 'Caldas'\n",
    "\n",
    "municipio = ''\n",
    "\n",
    "variable_buscar = 'Estado'  # puede ser 'Atención' o 'Estado'\n",
    "\n",
    "estado = 'Asintomático'  # Si atención:  ['Recuperado', 'Hospital', 'Hospital UCI', nan, 'Casa']\n",
    "                   # Si Estado:   ['Leve', 'Asintomático', 'Fallecido', 'Moderado', 'Grave', nan]\n",
    "\n",
    "ano = '2020'"
   ]
  },
  {
   "cell_type": "markdown",
   "metadata": {},
   "source": [
    "#### Poblaciones"
   ]
  },
  {
   "cell_type": "code",
   "execution_count": 70,
   "metadata": {},
   "outputs": [
    {
     "data": {
      "text/plain": [
       "50883000"
      ]
     },
     "execution_count": 70,
     "metadata": {},
     "output_type": "execute_result"
    }
   ],
   "source": [
    "Poblacion_pais = mundo.loc[pais, ano]\n",
    "Poblacion_pais"
   ]
  },
  {
   "cell_type": "code",
   "execution_count": 71,
   "metadata": {},
   "outputs": [
    {
     "data": {
      "text/plain": [
       "345714"
      ]
     },
     "execution_count": 71,
     "metadata": {},
     "output_type": "execute_result"
    }
   ],
   "source": [
    "total_casos_covid_colombia = covCol['Fecha de notificación'].count()\n",
    "total_casos_covid_colombia"
   ]
  },
  {
   "cell_type": "code",
   "execution_count": 72,
   "metadata": {},
   "outputs": [
    {
     "data": {
      "text/plain": [
       "12192"
      ]
     },
     "execution_count": 72,
     "metadata": {},
     "output_type": "execute_result"
    }
   ],
   "source": [
    "Fallecidos_pais = covCol['Fecha de muerte'].count()\n",
    "Fallecidos_pais"
   ]
  },
  {
   "cell_type": "markdown",
   "metadata": {},
   "source": [
    "#### Seleccionar totales;  igualar nombre de Series seleccionadas en las dataFrame; establecer índice y subíndice."
   ]
  },
  {
   "cell_type": "code",
   "execution_count": 73,
   "metadata": {},
   "outputs": [],
   "source": [
    "filtro = Col['Género'] == 'AMBOS SEXOS'\n",
    "Col = Col.loc[filtro, :].drop(columns=['Género'])\n",
    "\n",
    "Col.set_index(['Dpto', 'Municipio'], inplace=True)"
   ]
  },
  {
   "cell_type": "code",
   "execution_count": 74,
   "metadata": {},
   "outputs": [],
   "source": [
    "covCol.rename(columns={\"Departamento o Distrito \": \"Dpto\", \"Ciudad de ubicación\": \"Municipio\", \"atención\":\"Atención\", \"Fecha diagnostico\":\"Fecha diagnóstico\"}, inplace=True)\n",
    "\n",
    "covCol.set_index(['Dpto', 'Municipio'], inplace = True)"
   ]
  },
  {
   "cell_type": "markdown",
   "metadata": {},
   "source": [
    "#### Unir las dataFrames"
   ]
  },
  {
   "cell_type": "code",
   "execution_count": 75,
   "metadata": {},
   "outputs": [
    {
     "data": {
      "text/html": [
       "<div>\n",
       "<style scoped>\n",
       "    .dataframe tbody tr th:only-of-type {\n",
       "        vertical-align: middle;\n",
       "    }\n",
       "\n",
       "    .dataframe tbody tr th {\n",
       "        vertical-align: top;\n",
       "    }\n",
       "\n",
       "    .dataframe thead th {\n",
       "        text-align: right;\n",
       "    }\n",
       "</style>\n",
       "<table border=\"1\" class=\"dataframe\">\n",
       "  <thead>\n",
       "    <tr style=\"text-align: right;\">\n",
       "      <th></th>\n",
       "      <th>Dpto</th>\n",
       "      <th>Municipio</th>\n",
       "      <th>Fecha de notificación</th>\n",
       "      <th>Atención</th>\n",
       "      <th>Edad</th>\n",
       "      <th>Sexo</th>\n",
       "      <th>Tipo</th>\n",
       "      <th>Estado</th>\n",
       "      <th>País de procedencia</th>\n",
       "      <th>Fecha de muerte</th>\n",
       "      <th>Fecha diagnóstico</th>\n",
       "      <th>Fecha recuperado</th>\n",
       "      <th>Tipo recuperación</th>\n",
       "      <th>2020</th>\n",
       "    </tr>\n",
       "  </thead>\n",
       "  <tbody>\n",
       "    <tr>\n",
       "      <th>0</th>\n",
       "      <td>Amazonas</td>\n",
       "      <td>Leticia</td>\n",
       "      <td>2020-04-14</td>\n",
       "      <td>Recuperado</td>\n",
       "      <td>26</td>\n",
       "      <td>M</td>\n",
       "      <td>Relacionado</td>\n",
       "      <td>Leve</td>\n",
       "      <td>NaN</td>\n",
       "      <td>NaT</td>\n",
       "      <td>2020-04-17</td>\n",
       "      <td>2020-05-19</td>\n",
       "      <td>PCR</td>\n",
       "      <td>49737</td>\n",
       "    </tr>\n",
       "    <tr>\n",
       "      <th>1</th>\n",
       "      <td>Amazonas</td>\n",
       "      <td>Leticia</td>\n",
       "      <td>2020-04-13</td>\n",
       "      <td>Recuperado</td>\n",
       "      <td>47</td>\n",
       "      <td>F</td>\n",
       "      <td>Importado</td>\n",
       "      <td>Leve</td>\n",
       "      <td>BRASIL</td>\n",
       "      <td>NaT</td>\n",
       "      <td>2020-04-18</td>\n",
       "      <td>2020-05-31</td>\n",
       "      <td>Tiempo</td>\n",
       "      <td>49737</td>\n",
       "    </tr>\n",
       "    <tr>\n",
       "      <th>2</th>\n",
       "      <td>Amazonas</td>\n",
       "      <td>Leticia</td>\n",
       "      <td>2020-04-14</td>\n",
       "      <td>Recuperado</td>\n",
       "      <td>16</td>\n",
       "      <td>F</td>\n",
       "      <td>Relacionado</td>\n",
       "      <td>Leve</td>\n",
       "      <td>NaN</td>\n",
       "      <td>NaT</td>\n",
       "      <td>2020-04-18</td>\n",
       "      <td>2020-05-29</td>\n",
       "      <td>PCR</td>\n",
       "      <td>49737</td>\n",
       "    </tr>\n",
       "    <tr>\n",
       "      <th>3</th>\n",
       "      <td>Amazonas</td>\n",
       "      <td>Leticia</td>\n",
       "      <td>2020-04-14</td>\n",
       "      <td>Recuperado</td>\n",
       "      <td>41</td>\n",
       "      <td>F</td>\n",
       "      <td>Importado</td>\n",
       "      <td>Leve</td>\n",
       "      <td>BRASIL</td>\n",
       "      <td>NaT</td>\n",
       "      <td>2020-04-18</td>\n",
       "      <td>2020-05-29</td>\n",
       "      <td>PCR</td>\n",
       "      <td>49737</td>\n",
       "    </tr>\n",
       "    <tr>\n",
       "      <th>4</th>\n",
       "      <td>Amazonas</td>\n",
       "      <td>Leticia</td>\n",
       "      <td>2020-04-16</td>\n",
       "      <td>Recuperado</td>\n",
       "      <td>54</td>\n",
       "      <td>M</td>\n",
       "      <td>Relacionado</td>\n",
       "      <td>Leve</td>\n",
       "      <td>NaN</td>\n",
       "      <td>NaT</td>\n",
       "      <td>2020-04-21</td>\n",
       "      <td>2020-04-29</td>\n",
       "      <td>PCR</td>\n",
       "      <td>49737</td>\n",
       "    </tr>\n",
       "    <tr>\n",
       "      <th>...</th>\n",
       "      <td>...</td>\n",
       "      <td>...</td>\n",
       "      <td>...</td>\n",
       "      <td>...</td>\n",
       "      <td>...</td>\n",
       "      <td>...</td>\n",
       "      <td>...</td>\n",
       "      <td>...</td>\n",
       "      <td>...</td>\n",
       "      <td>...</td>\n",
       "      <td>...</td>\n",
       "      <td>...</td>\n",
       "      <td>...</td>\n",
       "      <td>...</td>\n",
       "    </tr>\n",
       "    <tr>\n",
       "      <th>333755</th>\n",
       "      <td>Vichada</td>\n",
       "      <td>La Primavera</td>\n",
       "      <td>2020-07-15</td>\n",
       "      <td>Hospital</td>\n",
       "      <td>78</td>\n",
       "      <td>F</td>\n",
       "      <td>En estudio</td>\n",
       "      <td>Moderado</td>\n",
       "      <td>NaN</td>\n",
       "      <td>NaT</td>\n",
       "      <td>2020-07-17</td>\n",
       "      <td>NaT</td>\n",
       "      <td>NaN</td>\n",
       "      <td>9608</td>\n",
       "    </tr>\n",
       "    <tr>\n",
       "      <th>333756</th>\n",
       "      <td>Vichada</td>\n",
       "      <td>Puerto Carreño</td>\n",
       "      <td>2020-05-29</td>\n",
       "      <td>Recuperado</td>\n",
       "      <td>20</td>\n",
       "      <td>M</td>\n",
       "      <td>En estudio</td>\n",
       "      <td>Asintomático</td>\n",
       "      <td>NaN</td>\n",
       "      <td>NaT</td>\n",
       "      <td>2020-05-29</td>\n",
       "      <td>2020-06-07</td>\n",
       "      <td>PCR</td>\n",
       "      <td>20294</td>\n",
       "    </tr>\n",
       "    <tr>\n",
       "      <th>333757</th>\n",
       "      <td>Vichada</td>\n",
       "      <td>Puerto Carreño</td>\n",
       "      <td>2020-07-22</td>\n",
       "      <td>Casa</td>\n",
       "      <td>19</td>\n",
       "      <td>M</td>\n",
       "      <td>En estudio</td>\n",
       "      <td>Leve</td>\n",
       "      <td>NaN</td>\n",
       "      <td>NaT</td>\n",
       "      <td>2020-08-02</td>\n",
       "      <td>NaT</td>\n",
       "      <td>NaN</td>\n",
       "      <td>20294</td>\n",
       "    </tr>\n",
       "    <tr>\n",
       "      <th>333758</th>\n",
       "      <td>Vichada</td>\n",
       "      <td>Puerto Carreño</td>\n",
       "      <td>2020-07-22</td>\n",
       "      <td>Casa</td>\n",
       "      <td>20</td>\n",
       "      <td>M</td>\n",
       "      <td>En estudio</td>\n",
       "      <td>Leve</td>\n",
       "      <td>NaN</td>\n",
       "      <td>NaT</td>\n",
       "      <td>2020-08-02</td>\n",
       "      <td>NaT</td>\n",
       "      <td>NaN</td>\n",
       "      <td>20294</td>\n",
       "    </tr>\n",
       "    <tr>\n",
       "      <th>333759</th>\n",
       "      <td>Vichada</td>\n",
       "      <td>Puerto Carreño</td>\n",
       "      <td>2020-07-22</td>\n",
       "      <td>Casa</td>\n",
       "      <td>19</td>\n",
       "      <td>M</td>\n",
       "      <td>En estudio</td>\n",
       "      <td>Leve</td>\n",
       "      <td>NaN</td>\n",
       "      <td>NaT</td>\n",
       "      <td>2020-08-02</td>\n",
       "      <td>NaT</td>\n",
       "      <td>NaN</td>\n",
       "      <td>20294</td>\n",
       "    </tr>\n",
       "  </tbody>\n",
       "</table>\n",
       "<p>333760 rows × 14 columns</p>\n",
       "</div>"
      ],
      "text/plain": [
       "            Dpto       Municipio Fecha de notificación    Atención  Edad Sexo  \\\n",
       "0       Amazonas         Leticia            2020-04-14  Recuperado    26    M   \n",
       "1       Amazonas         Leticia            2020-04-13  Recuperado    47    F   \n",
       "2       Amazonas         Leticia            2020-04-14  Recuperado    16    F   \n",
       "3       Amazonas         Leticia            2020-04-14  Recuperado    41    F   \n",
       "4       Amazonas         Leticia            2020-04-16  Recuperado    54    M   \n",
       "...          ...             ...                   ...         ...   ...  ...   \n",
       "333755   Vichada    La Primavera            2020-07-15    Hospital    78    F   \n",
       "333756   Vichada  Puerto Carreño            2020-05-29  Recuperado    20    M   \n",
       "333757   Vichada  Puerto Carreño            2020-07-22        Casa    19    M   \n",
       "333758   Vichada  Puerto Carreño            2020-07-22        Casa    20    M   \n",
       "333759   Vichada  Puerto Carreño            2020-07-22        Casa    19    M   \n",
       "\n",
       "               Tipo        Estado País de procedencia Fecha de muerte  \\\n",
       "0       Relacionado          Leve                 NaN             NaT   \n",
       "1         Importado          Leve              BRASIL             NaT   \n",
       "2       Relacionado          Leve                 NaN             NaT   \n",
       "3         Importado          Leve              BRASIL             NaT   \n",
       "4       Relacionado          Leve                 NaN             NaT   \n",
       "...             ...           ...                 ...             ...   \n",
       "333755   En estudio      Moderado                 NaN             NaT   \n",
       "333756   En estudio  Asintomático                 NaN             NaT   \n",
       "333757   En estudio          Leve                 NaN             NaT   \n",
       "333758   En estudio          Leve                 NaN             NaT   \n",
       "333759   En estudio          Leve                 NaN             NaT   \n",
       "\n",
       "       Fecha diagnóstico Fecha recuperado Tipo recuperación   2020  \n",
       "0             2020-04-17       2020-05-19               PCR  49737  \n",
       "1             2020-04-18       2020-05-31            Tiempo  49737  \n",
       "2             2020-04-18       2020-05-29               PCR  49737  \n",
       "3             2020-04-18       2020-05-29               PCR  49737  \n",
       "4             2020-04-21       2020-04-29               PCR  49737  \n",
       "...                  ...              ...               ...    ...  \n",
       "333755        2020-07-17              NaT               NaN   9608  \n",
       "333756        2020-05-29       2020-06-07               PCR  20294  \n",
       "333757        2020-08-02              NaT               NaN  20294  \n",
       "333758        2020-08-02              NaT               NaN  20294  \n",
       "333759        2020-08-02              NaT               NaN  20294  \n",
       "\n",
       "[333760 rows x 14 columns]"
      ]
     },
     "execution_count": 75,
     "metadata": {},
     "output_type": "execute_result"
    }
   ],
   "source": [
    "Tasas = pd.merge(covCol, Col, left_index=True, right_index=True).reset_index()\n",
    "\n",
    "Tasas"
   ]
  },
  {
   "cell_type": "markdown",
   "metadata": {},
   "source": [
    "#### Municipios con casos reportados por SARS CoV-2"
   ]
  },
  {
   "cell_type": "code",
   "execution_count": 76,
   "metadata": {},
   "outputs": [
    {
     "data": {
      "text/plain": [
       "array(['Leticia', 'Puerto Nariño', 'Abejorral', 'Abriaquí', 'Amagá',\n",
       "       'Amalfi', 'Andes', 'Angostura', 'Anorí', 'Apartadó', 'Arboletes',\n",
       "       'Argelia', 'Armenia', 'Barbosa', 'Bello', 'Belmira', 'Betania',\n",
       "       'Betulia', 'Briceño', 'Buriticá', 'Caicedo', 'Caldas',\n",
       "       'Campamento', 'Caracolí', 'Carepa', 'Carolina', 'Caucasia',\n",
       "       'Cañasgordas', 'Chigorodó', 'Cisneros', 'Ciudad Bolívar',\n",
       "       'Cocorná', 'Concepción', 'Concordia', 'Copacabana', 'Cáceres',\n",
       "       'Dabeiba', 'Ebéjico', 'El Bagre', 'El Carmen de Viboral',\n",
       "       'El Santuario', 'Envigado', 'Fredonia', 'Frontino', 'Giraldo',\n",
       "       'Girardota', 'Granada', 'Guadalupe', 'Guarne', 'Guatapé',\n",
       "       'Gómez Plata', 'Heliconia', 'Hispania', 'Ituango', 'Jericó',\n",
       "       'La Ceja', 'La Estrella', 'La Pintada', 'La Unión', 'Liborina',\n",
       "       'Maceo', 'Marinilla', 'Medellín', 'Montebello', 'Murindó',\n",
       "       'Mutatá', 'Nechí', 'Necoclí', 'Olaya', 'Peque', 'Peñol',\n",
       "       'Puerto Berrío', 'Puerto Nare', 'Puerto Triunfo', 'Remedios',\n",
       "       'Retiro', 'Rionegro', 'Sabanalarga', 'Sabaneta', 'Salgar',\n",
       "       'San Carlos', 'San Francisco', 'San Jerónimo', 'San Juan de Urabá',\n",
       "       'San Luis', 'San Pedro de Urabá', 'San Rafael', 'San Roque',\n",
       "       'Santa Bárbara', 'Santa Rosa de Osos', 'Santo Domingo', 'Segovia',\n",
       "       'Sonsón', 'Sopetrán', 'Tarazá', 'Tarso', 'Titiribí', 'Toledo',\n",
       "       'Turbo', 'Támesis', 'Uramita', 'Urrao', 'Valdivia', 'Valparaíso',\n",
       "       'Venecia', 'Vigía del Fuerte', 'Yarumal', 'Yolombó', 'Yondó',\n",
       "       'Zaragoza', 'Arauca', 'Arauquita', 'Saravena', 'Tame',\n",
       "       'Providencia', 'San Andrés', 'Baranoa', 'Candelaria', 'Galapa',\n",
       "       'Juan de Acosta', 'Luruaco', 'Malambo', 'Manatí',\n",
       "       'Palmar de Varela', 'Piojó', 'Polonuevo', 'Ponedera',\n",
       "       'Puerto Colombia', 'Repelón', 'Sabanagrande', 'Santa Lucía',\n",
       "       'Santo Tomás', 'Soledad', 'Suan', 'Tubará', 'Usiacurí',\n",
       "       'Barranquilla', 'Bogotá D.C.', 'Achí', 'Altos del Rosario',\n",
       "       'Arenal', 'Arjona', 'Arroyohondo', 'Barranco de Loba', 'Calamar',\n",
       "       'Cantagallo', 'Cicuco', 'Clemencia', 'Córdoba',\n",
       "       'El Carmen de Bolívar', 'El Guamo', 'El Peñón', 'Hatillo de Loba',\n",
       "       'Magangué', 'Mahates', 'Margarita', 'Mompós', 'Montecristo',\n",
       "       'Morales', 'Norosí', 'Pinillos', 'Regidor', 'San Cristóbal',\n",
       "       'San Estanislao', 'San Fernando', 'San Jacinto',\n",
       "       'San Jacinto del Cauca', 'San Juan Nepomuceno',\n",
       "       'San Martín de Loba', 'San Pablo', 'Santa Catalina', 'Santa Rosa',\n",
       "       'Santa Rosa del Sur', 'Soplaviento', 'Talaigua Nuevo', 'Tiquisio',\n",
       "       'Turbaco', 'Turbaná', 'Villanueva', 'Zambrano', 'Aquitania',\n",
       "       'Arcabuco', 'Belén', 'Boyacá', 'Buenavista', 'Chiquinquirá',\n",
       "       'Chíquiza', 'Ciénega', 'Coper', 'Corrales', 'Covarachía', 'Cubará',\n",
       "       'Cucaita', 'Cuítiva', 'Cómbita', 'Duitama', 'Firavitoba',\n",
       "       'Garagoa', 'Guateque', 'Guayatá', 'Iza', 'La Uvita', 'Maripí',\n",
       "       'Miraflores', 'Monguí', 'Moniquirá', 'Motavita', 'Muzo', 'Nobsa',\n",
       "       'Nuevo Colón', 'Oicatá', 'Paipa', 'Pauna', 'Paya', 'Pesca',\n",
       "       'Puerto Boyacá', 'Quípama', 'Ramiriquí', 'Saboyá', 'Samacá',\n",
       "       'San Miguel de Sema', 'Santa Rosa de Viterbo', 'Santa Sofía',\n",
       "       'Santana', 'Siachoque', 'Soatá', 'Socha', 'Sogamoso', 'Soracá',\n",
       "       'Susacón', 'Sutamarchán', 'Sáchica', 'Tasco', 'Tenza', 'Tibaná',\n",
       "       'Tibasosa', 'Tinjacá', 'Tipacoque', 'Toca', 'Togüí', 'Tunja',\n",
       "       'Turmequé', 'Tuta', 'Ventaquemada', 'Villa de Leyva', 'Viracachá',\n",
       "       'Buenaventura', 'Aguadas', 'Anserma', 'Aranzazu', 'Belalcázar',\n",
       "       'Chinchiná', 'La Dorada', 'La Merced', 'Manizales', 'Manzanares',\n",
       "       'Marmato', 'Marquetalia', 'Neira', 'Norcasia', 'Palestina',\n",
       "       'Pácora', 'Riosucio', 'Risaralda', 'Salamina', 'Samaná', 'Supía',\n",
       "       'Villamaría', 'Viterbo', 'Albania', 'Cartagena del Chairá',\n",
       "       'Curillo', 'El Doncello', 'Florencia', 'La Montañita', 'Milán',\n",
       "       'Morelia', 'Puerto Rico', 'San José del Fragua',\n",
       "       'San Vicente del Caguán', 'Solano', 'Solita',\n",
       "       'Cartagena de Indias', 'Aguazul', 'Hato Corozal', 'Maní',\n",
       "       'Monterrey', 'Orocué', 'Paz de Ariporo', 'Pore', 'Tauramena',\n",
       "       'Trinidad', 'Yopal', 'Balboa', 'Bolívar', 'Buenos Aires',\n",
       "       'Cajibío', 'Caldono', 'Caloto', 'Corinto', 'El Tambo', 'Jambaló',\n",
       "       'La Sierra', 'La Vega', 'Mercaderes', 'Miranda', 'Padilla',\n",
       "       'Patía', 'Piendamó', 'Popayán', 'Puerto Tejada', 'Rosas',\n",
       "       'Santander de Quilichao', 'Silvia', 'Suárez', 'Timbiquí', 'Timbío',\n",
       "       'Totoró', 'Aguachica', 'Agustín Codazzi', 'Astrea', 'Becerril',\n",
       "       'Bosconia', 'Chimichagua', 'Chiriguaná', 'Curumaní', 'El Copey',\n",
       "       'El Paso', 'Gamarra', 'González', 'La Gloria',\n",
       "       'La Jagua de Ibirico', 'La Paz', 'Pailitas', 'Pelaya',\n",
       "       'Pueblo Bello', 'Río de Oro', 'San Alberto', 'San Diego',\n",
       "       'San Martín', 'Tamalameque', 'Valledupar', 'Acandí', 'Atrato',\n",
       "       'Bagadó', 'Bahía Solano', 'Bajo Baudó', 'Condoto', 'Cértegui',\n",
       "       'El Carmen de Atrato', 'Istmina', 'Lloró', 'Medio Atrato',\n",
       "       'Medio Baudó', 'Medio San Juan', 'Nuquí', 'Nóvita', 'Quibdó',\n",
       "       'Río Quito', 'Tadó', 'Unguía', 'Unión Panamericana',\n",
       "       'Agua de Dios', 'Albán', 'Anapoima', 'Anolaima', 'Apulo',\n",
       "       'Arbeláez', 'Beltrán', 'Bituima', 'Bojacá', 'Cabrera', 'Cachipay',\n",
       "       'Cajicá', 'Caparrapí', 'Carmen de Carupa', 'Chaguaní', 'Chipaque',\n",
       "       'Choachí', 'Chocontá', 'Chía', 'Cogua', 'Cota', 'Cucunubá',\n",
       "       'El Colegio', 'El Rosal', 'Facatativá', 'Fosca', 'Funza',\n",
       "       'Fusagasugá', 'Fúquene', 'Gachancipá', 'Gachetá', 'Gama',\n",
       "       'Girardot', 'Guachetá', 'Guaduas', 'Guasca', 'Guataquí',\n",
       "       'Guatavita', 'Junín', 'La Calera', 'La Mesa', 'La Palma',\n",
       "       'Lenguazaque', 'Madrid', 'Manta', 'Mosquera', 'Nariño', 'Nemocón',\n",
       "       'Nilo', 'Nimaima', 'Pacho', 'Pandi', 'Pasca', 'Puerto Salgar',\n",
       "       'Quebradanegra', 'Quetame', 'Ricaurte',\n",
       "       'San Antonio del Tequendama', 'San Bernardo', 'Sasaima',\n",
       "       'Sesquilé', 'Sibaté', 'Silvania', 'Simijaca', 'Soacha', 'Sopó',\n",
       "       'Subachoque', 'Suesca', 'Tabio', 'Tausa', 'Tena', 'Tenjo',\n",
       "       'Tocaima', 'Tocancipá', 'Ubalá', 'Ubaque', 'Une', 'Vianí',\n",
       "       'Villagómez', 'Villapinzón', 'Villeta', 'Viotá', 'Yacopí',\n",
       "       'Zipacón', 'Zipaquirá', 'Útica', 'Inírida',\n",
       "       'San José del Guaviare', 'Acevedo', 'Agrado', 'Aipe', 'Algeciras',\n",
       "       'Altamira', 'Baraya', 'Campoalegre', 'Colombia', 'Garzón',\n",
       "       'Gigante', 'Hobo', 'Isnos', 'La Argentina', 'La Plata', 'Neiva',\n",
       "       'Nátaga', 'Oporapa', 'Paicol', 'Palermo', 'Pital', 'Pitalito',\n",
       "       'Rivera', 'Saladoblanco', 'San Agustín', 'Santa María', 'Suaza',\n",
       "       'Tarqui', 'Tello', 'Teruel', 'Timaná', 'Villavieja', 'Yaguará',\n",
       "       'Barrancas', 'Dibulla', 'Distracción', 'El Molino', 'Fonseca',\n",
       "       'Hatonuevo', 'La Jagua del Pilar', 'Maicao', 'Manaure', 'Riohacha',\n",
       "       'San Juan del Cesar', 'Uribia', 'Urumita', 'Algarrobo',\n",
       "       'Aracataca', 'Ariguaní', 'Chivolo', 'Ciénaga', 'El Banco',\n",
       "       'El Retén', 'Fundación', 'Guamal', 'Nueva Granada', 'Pedraza',\n",
       "       'Pijiño del Carmen', 'Pivijay', 'Plato', 'Puebloviejo', 'Remolino',\n",
       "       'San Sebastián de Buenavista', 'San Zenón', 'Santa Ana',\n",
       "       'Santa Bárbara de Pinto', 'Sitionuevo', 'Zapayán', 'Zona Bananera',\n",
       "       'Acacías', 'Cabuyaro', 'Castilla la Nueva', 'Cumaral',\n",
       "       'El Castillo', 'Fuente de Oro', 'Mapiripán', 'Mesetas',\n",
       "       'Puerto Gaitán', 'Puerto López', 'Restrepo',\n",
       "       'San Carlos de Guaroa', 'San Juan de Arama', 'Villavicencio',\n",
       "       'Vistahermosa', 'Aldana', 'Ancuyá', 'Arboleda', 'Barbacoas',\n",
       "       'Buesaco', 'Chachagüí', 'Colón', 'Contadero', 'Cumbal',\n",
       "       'Cumbitara', 'El Charco', 'El Peñol', 'Francisco Pizarro', 'Funes',\n",
       "       'Guachucal', 'Guaitarilla', 'Gualmatán', 'Iles', 'Imués',\n",
       "       'Ipiales', 'La Cruz', 'La Florida', 'La Llanada', 'La Tola',\n",
       "       'Leiva', 'Linares', 'Los Andes', 'Mallama', 'Olaya Herrera',\n",
       "       'Pasto', 'Potosí', 'Puerres', 'Pupiales', 'Roberto Payán',\n",
       "       'Samaniego', 'San Andrés de Tumaco', 'San Lorenzo',\n",
       "       'San Pedro de Cartago', 'Sandoná', 'Santacruz', 'Taminango',\n",
       "       'Tangua', 'Túquerres', 'Yacuanquer', 'Arboledas', 'Bochalema',\n",
       "       'Chinácota', 'Chitagá', 'Convención', 'Cácota', 'Cúcuta',\n",
       "       'Durania', 'El Carmen', 'El Tarra', 'El Zulia', 'Gramalote',\n",
       "       'La Esperanza', 'La Playa', 'Labateca', 'Los Patios', 'Mutiscua',\n",
       "       'Ocaña', 'Pamplona', 'Pamplonita', 'Puerto Santander',\n",
       "       'Ragonvalia', 'San Calixto', 'San Cayetano', 'Santiago',\n",
       "       'Sardinata', 'Silos', 'Teorama', 'Tibú', 'Villa del Rosario',\n",
       "       'Mocoa', 'Orito', 'Puerto Asís', 'Puerto Caicedo', 'Puerto Guzmán',\n",
       "       'San Miguel', 'Sibundoy', 'Valle del Guamuez', 'Villagarzón',\n",
       "       'Circasia', 'Filandia', 'Génova', 'La Tebaida', 'Montenegro',\n",
       "       'Quimbaya', 'Salento', 'Apía', 'Belén de Umbría', 'Dosquebradas',\n",
       "       'La Celia', 'La Virginia', 'Marsella', 'Pereira', 'Pueblo Rico',\n",
       "       'Quinchía', 'Santa Rosa de Cabal', 'Santuario', 'Santa Marta',\n",
       "       'Aguada', 'Aratoca', 'Barichara', 'Barrancabermeja', 'Bucaramanga',\n",
       "       'California', 'Carcasí', 'Cepitá', 'Cimitarra', 'Confines',\n",
       "       'Curití', 'El Carmen de Chucurí', 'El Guacamayo', 'El Playón',\n",
       "       'Floridablanca', 'Galán', 'Girón', 'Guapotá', 'Hato', 'La Belleza',\n",
       "       'Landázuri', 'Lebrija', 'Los Santos', 'Matanza', 'Mogotes',\n",
       "       'Málaga', 'Oiba', 'Onzaga', 'Piedecuesta', 'Pinchote',\n",
       "       'Puerto Parra', 'Puerto Wilches', 'Páramo', 'Sabana de Torres',\n",
       "       'San Benito', 'San Gil', 'San Joaquín', 'San José de Miranda',\n",
       "       'San Vicente de Chucurí', 'Santa Helena del Opón', 'Socorro',\n",
       "       'Suaita', 'Sucre', 'Valle de San José', 'Vélez', 'Zapatoca',\n",
       "       'Caimito', 'Chalán', 'Coloso', 'Corozal', 'Coveñas', 'El Roble',\n",
       "       'Galeras', 'Guaranda', 'Los Palmitos', 'Majagual', 'Morroa',\n",
       "       'Ovejas', 'Palmito', 'Sampués', 'San Juan de Betulia',\n",
       "       'San Luis de Sincé', 'San Marcos', 'San Onofre', 'San Pedro',\n",
       "       'Santiago de Tolú', 'Sincelejo', 'Tolú Viejo', 'Alpujarra',\n",
       "       'Alvarado', 'Ambalema', 'Anzoátegui', 'Ataco', 'Cajamarca',\n",
       "       'Carmen de Apicalá', 'Casabianca', 'Chaparral', 'Coyaima',\n",
       "       'Dolores', 'Espinal', 'Flandes', 'Fresno', 'Guamo', 'Herveo',\n",
       "       'Honda', 'Ibagué', 'Icononzo', 'Lérida', 'Líbano', 'Melgar',\n",
       "       'Natagaima', 'Ortega', 'Piedras', 'Planadas', 'Prado',\n",
       "       'Purificación', 'Rioblanco', 'Rovira', 'Saldaña', 'San Antonio',\n",
       "       'Venadillo', 'Villarrica', 'Alcalá', 'Andalucía', 'Ansermanuevo',\n",
       "       'Bugalagrande', 'Caicedonia', 'Cali', 'Calima', 'Cartago', 'Dagua',\n",
       "       'El Cairo', 'El Cerrito', 'El Dovio', 'El Águila', 'Florida',\n",
       "       'Ginebra', 'Guacarí', 'Guadalajara de Buga', 'Jamundí',\n",
       "       'La Cumbre', 'La Victoria', 'Obando', 'Palmira', 'Pradera',\n",
       "       'Roldanillo', 'Sevilla', 'Toro', 'Trujillo', 'Tuluá', 'Ulloa',\n",
       "       'Versalles', 'Vijes', 'Yotoco', 'Yumbo', 'Zarzal', 'Mitú',\n",
       "       'Taraira', 'La Primavera', 'Puerto Carreño'], dtype=object)"
      ]
     },
     "execution_count": 76,
     "metadata": {},
     "output_type": "execute_result"
    }
   ],
   "source": [
    "Tasas['Municipio'].unique()"
   ]
  },
  {
   "cell_type": "markdown",
   "metadata": {},
   "source": [
    "####  Agrupar por Departamento o Municipio para hacer dataFrame con Total casos, Fallecidos y Recuperados"
   ]
  },
  {
   "cell_type": "code",
   "execution_count": 77,
   "metadata": {},
   "outputs": [],
   "source": [
    "Casos_a_Fecha = Tasas.groupby(['Dpto', 'Municipio'])[['Fecha de notificación', 'Fecha de muerte',\n",
    "        'Fecha recuperado']].count().loc[[departamento, municipio]]"
   ]
  },
  {
   "cell_type": "code",
   "execution_count": 78,
   "metadata": {},
   "outputs": [],
   "source": [
    "Cuadro_Tasas = pd.merge(Casos_a_Fecha, Col, left_index=True, right_index=True)"
   ]
  },
  {
   "cell_type": "code",
   "execution_count": 79,
   "metadata": {},
   "outputs": [],
   "source": [
    "Cuadro_Tasas.rename({'Fecha de notificación':'Total casos', \n",
    "                     'Fecha de muerte':'Fallecidos', \n",
    "                     'Fecha recuperado': 'Recuperados', \n",
    "                     '2020': 'Población'}, axis = 'columns', inplace=True)"
   ]
  },
  {
   "cell_type": "code",
   "execution_count": 80,
   "metadata": {},
   "outputs": [],
   "source": [
    "Cuadro_Tasas['Tasa de letalidad por 100 habitantes'] = (Cuadro_Tasas['Fallecidos']/Cuadro_Tasas['Total casos'])*100\n",
    "Cuadro_Tasas['Tasa de mortalidad por 100.000 habitantes'] = (Cuadro_Tasas['Fallecidos']/Cuadro_Tasas['Población'])*100000"
   ]
  },
  {
   "cell_type": "markdown",
   "metadata": {},
   "source": [
    "##### Tasas de letalidad y de mortalidad por Departamento o Municipio"
   ]
  },
  {
   "cell_type": "code",
   "execution_count": 81,
   "metadata": {},
   "outputs": [
    {
     "data": {
      "text/html": [
       "<div>\n",
       "<style scoped>\n",
       "    .dataframe tbody tr th:only-of-type {\n",
       "        vertical-align: middle;\n",
       "    }\n",
       "\n",
       "    .dataframe tbody tr th {\n",
       "        vertical-align: top;\n",
       "    }\n",
       "\n",
       "    .dataframe thead th {\n",
       "        text-align: right;\n",
       "    }\n",
       "</style>\n",
       "<table border=\"1\" class=\"dataframe\">\n",
       "  <thead>\n",
       "    <tr style=\"text-align: right;\">\n",
       "      <th></th>\n",
       "      <th></th>\n",
       "      <th>Total casos</th>\n",
       "      <th>Fallecidos</th>\n",
       "      <th>Recuperados</th>\n",
       "      <th>Población</th>\n",
       "      <th>Tasa de letalidad por 100 habitantes</th>\n",
       "      <th>Tasa de mortalidad por 100.000 habitantes</th>\n",
       "    </tr>\n",
       "    <tr>\n",
       "      <th>Dpto</th>\n",
       "      <th>Municipio</th>\n",
       "      <th></th>\n",
       "      <th></th>\n",
       "      <th></th>\n",
       "      <th></th>\n",
       "      <th></th>\n",
       "      <th></th>\n",
       "    </tr>\n",
       "  </thead>\n",
       "  <tbody>\n",
       "    <tr>\n",
       "      <th rowspan=\"22\" valign=\"top\">Caldas</th>\n",
       "      <th>La Merced</th>\n",
       "      <td>1</td>\n",
       "      <td>0</td>\n",
       "      <td>0</td>\n",
       "      <td>5882</td>\n",
       "      <td>0.00</td>\n",
       "      <td>0.00</td>\n",
       "    </tr>\n",
       "    <tr>\n",
       "      <th>La Dorada</th>\n",
       "      <td>188</td>\n",
       "      <td>3</td>\n",
       "      <td>96</td>\n",
       "      <td>74006</td>\n",
       "      <td>1.60</td>\n",
       "      <td>4.05</td>\n",
       "    </tr>\n",
       "    <tr>\n",
       "      <th>Supía</th>\n",
       "      <td>26</td>\n",
       "      <td>2</td>\n",
       "      <td>1</td>\n",
       "      <td>29363</td>\n",
       "      <td>7.69</td>\n",
       "      <td>6.81</td>\n",
       "    </tr>\n",
       "    <tr>\n",
       "      <th>Chinchiná</th>\n",
       "      <td>52</td>\n",
       "      <td>1</td>\n",
       "      <td>17</td>\n",
       "      <td>52267</td>\n",
       "      <td>1.92</td>\n",
       "      <td>1.91</td>\n",
       "    </tr>\n",
       "    <tr>\n",
       "      <th>Aguadas</th>\n",
       "      <td>44</td>\n",
       "      <td>0</td>\n",
       "      <td>4</td>\n",
       "      <td>23048</td>\n",
       "      <td>0.00</td>\n",
       "      <td>0.00</td>\n",
       "    </tr>\n",
       "    <tr>\n",
       "      <th>Aranzazu</th>\n",
       "      <td>2</td>\n",
       "      <td>0</td>\n",
       "      <td>1</td>\n",
       "      <td>10556</td>\n",
       "      <td>0.00</td>\n",
       "      <td>0.00</td>\n",
       "    </tr>\n",
       "    <tr>\n",
       "      <th>Manizales</th>\n",
       "      <td>590</td>\n",
       "      <td>9</td>\n",
       "      <td>197</td>\n",
       "      <td>446160</td>\n",
       "      <td>1.53</td>\n",
       "      <td>2.02</td>\n",
       "    </tr>\n",
       "    <tr>\n",
       "      <th>Neira</th>\n",
       "      <td>12</td>\n",
       "      <td>2</td>\n",
       "      <td>4</td>\n",
       "      <td>21114</td>\n",
       "      <td>16.67</td>\n",
       "      <td>9.47</td>\n",
       "    </tr>\n",
       "    <tr>\n",
       "      <th>Anserma</th>\n",
       "      <td>22</td>\n",
       "      <td>0</td>\n",
       "      <td>4</td>\n",
       "      <td>36691</td>\n",
       "      <td>0.00</td>\n",
       "      <td>0.00</td>\n",
       "    </tr>\n",
       "    <tr>\n",
       "      <th>Norcasia</th>\n",
       "      <td>1</td>\n",
       "      <td>1</td>\n",
       "      <td>0</td>\n",
       "      <td>6128</td>\n",
       "      <td>100.00</td>\n",
       "      <td>16.32</td>\n",
       "    </tr>\n",
       "    <tr>\n",
       "      <th>Marmato</th>\n",
       "      <td>49</td>\n",
       "      <td>0</td>\n",
       "      <td>18</td>\n",
       "      <td>9167</td>\n",
       "      <td>0.00</td>\n",
       "      <td>0.00</td>\n",
       "    </tr>\n",
       "    <tr>\n",
       "      <th>Marquetalia</th>\n",
       "      <td>8</td>\n",
       "      <td>0</td>\n",
       "      <td>8</td>\n",
       "      <td>13490</td>\n",
       "      <td>0.00</td>\n",
       "      <td>0.00</td>\n",
       "    </tr>\n",
       "    <tr>\n",
       "      <th>Risaralda</th>\n",
       "      <td>2</td>\n",
       "      <td>0</td>\n",
       "      <td>1</td>\n",
       "      <td>10568</td>\n",
       "      <td>0.00</td>\n",
       "      <td>0.00</td>\n",
       "    </tr>\n",
       "    <tr>\n",
       "      <th>Belalcázar</th>\n",
       "      <td>1</td>\n",
       "      <td>0</td>\n",
       "      <td>0</td>\n",
       "      <td>10650</td>\n",
       "      <td>0.00</td>\n",
       "      <td>0.00</td>\n",
       "    </tr>\n",
       "    <tr>\n",
       "      <th>Palestina</th>\n",
       "      <td>1</td>\n",
       "      <td>0</td>\n",
       "      <td>1</td>\n",
       "      <td>15681</td>\n",
       "      <td>0.00</td>\n",
       "      <td>0.00</td>\n",
       "    </tr>\n",
       "    <tr>\n",
       "      <th>Riosucio</th>\n",
       "      <td>27</td>\n",
       "      <td>0</td>\n",
       "      <td>7</td>\n",
       "      <td>51956</td>\n",
       "      <td>0.00</td>\n",
       "      <td>0.00</td>\n",
       "    </tr>\n",
       "    <tr>\n",
       "      <th>Manzanares</th>\n",
       "      <td>18</td>\n",
       "      <td>1</td>\n",
       "      <td>4</td>\n",
       "      <td>17794</td>\n",
       "      <td>5.56</td>\n",
       "      <td>5.62</td>\n",
       "    </tr>\n",
       "    <tr>\n",
       "      <th>Villamaría</th>\n",
       "      <td>47</td>\n",
       "      <td>2</td>\n",
       "      <td>17</td>\n",
       "      <td>67429</td>\n",
       "      <td>4.26</td>\n",
       "      <td>2.97</td>\n",
       "    </tr>\n",
       "    <tr>\n",
       "      <th>Salamina</th>\n",
       "      <td>3</td>\n",
       "      <td>0</td>\n",
       "      <td>0</td>\n",
       "      <td>19393</td>\n",
       "      <td>0.00</td>\n",
       "      <td>0.00</td>\n",
       "    </tr>\n",
       "    <tr>\n",
       "      <th>Viterbo</th>\n",
       "      <td>9</td>\n",
       "      <td>0</td>\n",
       "      <td>3</td>\n",
       "      <td>12853</td>\n",
       "      <td>0.00</td>\n",
       "      <td>0.00</td>\n",
       "    </tr>\n",
       "    <tr>\n",
       "      <th>Pácora</th>\n",
       "      <td>3</td>\n",
       "      <td>0</td>\n",
       "      <td>1</td>\n",
       "      <td>15324</td>\n",
       "      <td>0.00</td>\n",
       "      <td>0.00</td>\n",
       "    </tr>\n",
       "    <tr>\n",
       "      <th>Samaná</th>\n",
       "      <td>5</td>\n",
       "      <td>0</td>\n",
       "      <td>2</td>\n",
       "      <td>19967</td>\n",
       "      <td>0.00</td>\n",
       "      <td>0.00</td>\n",
       "    </tr>\n",
       "  </tbody>\n",
       "</table>\n",
       "</div>"
      ],
      "text/plain": [
       "                    Total casos  Fallecidos  Recuperados  Población  \\\n",
       "Dpto   Municipio                                                      \n",
       "Caldas La Merced              1           0            0       5882   \n",
       "       La Dorada            188           3           96      74006   \n",
       "       Supía                 26           2            1      29363   \n",
       "       Chinchiná             52           1           17      52267   \n",
       "       Aguadas               44           0            4      23048   \n",
       "       Aranzazu               2           0            1      10556   \n",
       "       Manizales            590           9          197     446160   \n",
       "       Neira                 12           2            4      21114   \n",
       "       Anserma               22           0            4      36691   \n",
       "       Norcasia               1           1            0       6128   \n",
       "       Marmato               49           0           18       9167   \n",
       "       Marquetalia            8           0            8      13490   \n",
       "       Risaralda              2           0            1      10568   \n",
       "       Belalcázar             1           0            0      10650   \n",
       "       Palestina              1           0            1      15681   \n",
       "       Riosucio              27           0            7      51956   \n",
       "       Manzanares            18           1            4      17794   \n",
       "       Villamaría            47           2           17      67429   \n",
       "       Salamina               3           0            0      19393   \n",
       "       Viterbo                9           0            3      12853   \n",
       "       Pácora                 3           0            1      15324   \n",
       "       Samaná                 5           0            2      19967   \n",
       "\n",
       "                    Tasa de letalidad por 100 habitantes  \\\n",
       "Dpto   Municipio                                           \n",
       "Caldas La Merced                                    0.00   \n",
       "       La Dorada                                    1.60   \n",
       "       Supía                                        7.69   \n",
       "       Chinchiná                                    1.92   \n",
       "       Aguadas                                      0.00   \n",
       "       Aranzazu                                     0.00   \n",
       "       Manizales                                    1.53   \n",
       "       Neira                                       16.67   \n",
       "       Anserma                                      0.00   \n",
       "       Norcasia                                   100.00   \n",
       "       Marmato                                      0.00   \n",
       "       Marquetalia                                  0.00   \n",
       "       Risaralda                                    0.00   \n",
       "       Belalcázar                                   0.00   \n",
       "       Palestina                                    0.00   \n",
       "       Riosucio                                     0.00   \n",
       "       Manzanares                                   5.56   \n",
       "       Villamaría                                   4.26   \n",
       "       Salamina                                     0.00   \n",
       "       Viterbo                                      0.00   \n",
       "       Pácora                                       0.00   \n",
       "       Samaná                                       0.00   \n",
       "\n",
       "                    Tasa de mortalidad por 100.000 habitantes  \n",
       "Dpto   Municipio                                               \n",
       "Caldas La Merced                                         0.00  \n",
       "       La Dorada                                         4.05  \n",
       "       Supía                                             6.81  \n",
       "       Chinchiná                                         1.91  \n",
       "       Aguadas                                           0.00  \n",
       "       Aranzazu                                          0.00  \n",
       "       Manizales                                         2.02  \n",
       "       Neira                                             9.47  \n",
       "       Anserma                                           0.00  \n",
       "       Norcasia                                         16.32  \n",
       "       Marmato                                           0.00  \n",
       "       Marquetalia                                       0.00  \n",
       "       Risaralda                                         0.00  \n",
       "       Belalcázar                                        0.00  \n",
       "       Palestina                                         0.00  \n",
       "       Riosucio                                          0.00  \n",
       "       Manzanares                                        5.62  \n",
       "       Villamaría                                        2.97  \n",
       "       Salamina                                          0.00  \n",
       "       Viterbo                                           0.00  \n",
       "       Pácora                                            0.00  \n",
       "       Samaná                                            0.00  "
      ]
     },
     "execution_count": 81,
     "metadata": {},
     "output_type": "execute_result"
    }
   ],
   "source": [
    "Cuadro_Tasas"
   ]
  },
  {
   "cell_type": "markdown",
   "metadata": {},
   "source": [
    "#### Condiciones de búsqueda"
   ]
  },
  {
   "cell_type": "code",
   "execution_count": 82,
   "metadata": {},
   "outputs": [],
   "source": [
    "if departamento == '' and municipio== '':\n",
    "    print('Debe ingresar mínimo el Departamento.  Inténtelo nuevamente')\n",
    "    pass\n",
    "else:\n",
    "    if municipio == '':\n",
    "        Total_casos = Cuadro_Tasas.loc[departamento, 'Total casos'].astype(int) \n",
    "        Fallecidos_dpto_munic = Cuadro_Tasas.loc[(departamento), 'Fallecidos'].astype(int)\n",
    "        Poblacion_dpto_munic = Cuadro_Tasas.loc[(departamento), 'Población'].astype(int)\n",
    "    \n",
    "    else:\n",
    "        Total_casos = Cuadro_Tasas.loc[(departamento, municipio), 'Total casos'].astype(int)\n",
    "        Fallecidos_dpto_munic = Cuadro_Tasas.loc[(departamento, municipio), 'Fallecidos'].astype(int)\n",
    "        Poblacion_dpto_munic = Cuadro_Tasas.loc[(departamento, municipio), 'Población'].astype(int)\n",
    "    "
   ]
  },
  {
   "cell_type": "code",
   "execution_count": 83,
   "metadata": {},
   "outputs": [
    {
     "data": {
      "text/plain": [
       "345714"
      ]
     },
     "execution_count": 83,
     "metadata": {},
     "output_type": "execute_result"
    }
   ],
   "source": [
    "total_casos_covid_colombia"
   ]
  },
  {
   "cell_type": "code",
   "execution_count": 84,
   "metadata": {},
   "outputs": [
    {
     "data": {
      "text/plain": [
       "Municipio\n",
       "La Merced      0\n",
       "La Dorada      3\n",
       "Supía          2\n",
       "Chinchiná      1\n",
       "Aguadas        0\n",
       "Aranzazu       0\n",
       "Manizales      9\n",
       "Neira          2\n",
       "Anserma        0\n",
       "Norcasia       1\n",
       "Marmato        0\n",
       "Marquetalia    0\n",
       "Risaralda      0\n",
       "Belalcázar     0\n",
       "Palestina      0\n",
       "Riosucio       0\n",
       "Manzanares     1\n",
       "Villamaría     2\n",
       "Salamina       0\n",
       "Viterbo        0\n",
       "Pácora         0\n",
       "Samaná         0\n",
       "Name: Fallecidos, dtype: int64"
      ]
     },
     "execution_count": 84,
     "metadata": {},
     "output_type": "execute_result"
    }
   ],
   "source": [
    "Fallecidos_dpto_munic    "
   ]
  },
  {
   "cell_type": "code",
   "execution_count": 85,
   "metadata": {},
   "outputs": [
    {
     "data": {
      "text/plain": [
       "12192"
      ]
     },
     "execution_count": 85,
     "metadata": {},
     "output_type": "execute_result"
    }
   ],
   "source": [
    "Fallecidos_pais"
   ]
  },
  {
   "cell_type": "code",
   "execution_count": 86,
   "metadata": {},
   "outputs": [
    {
     "data": {
      "text/plain": [
       "Municipio\n",
       "La Merced        5882\n",
       "La Dorada       74006\n",
       "Supía           29363\n",
       "Chinchiná       52267\n",
       "Aguadas         23048\n",
       "Aranzazu        10556\n",
       "Manizales      446160\n",
       "Neira           21114\n",
       "Anserma         36691\n",
       "Norcasia         6128\n",
       "Marmato          9167\n",
       "Marquetalia     13490\n",
       "Risaralda       10568\n",
       "Belalcázar      10650\n",
       "Palestina       15681\n",
       "Riosucio        51956\n",
       "Manzanares      17794\n",
       "Villamaría      67429\n",
       "Salamina        19393\n",
       "Viterbo         12853\n",
       "Pácora          15324\n",
       "Samaná          19967\n",
       "Name: Población, dtype: int64"
      ]
     },
     "execution_count": 86,
     "metadata": {},
     "output_type": "execute_result"
    }
   ],
   "source": [
    "Poblacion_dpto_munic"
   ]
  },
  {
   "cell_type": "markdown",
   "metadata": {},
   "source": [
    "#### Población en áreas afectadas"
   ]
  },
  {
   "cell_type": "code",
   "execution_count": 87,
   "metadata": {},
   "outputs": [
    {
     "data": {
      "text/plain": [
       "969487"
      ]
     },
     "execution_count": 87,
     "metadata": {},
     "output_type": "execute_result"
    }
   ],
   "source": [
    "Poblacion_dpto_munic.sum()"
   ]
  },
  {
   "cell_type": "markdown",
   "metadata": {},
   "source": [
    "#### Población Departamental o Municipal "
   ]
  },
  {
   "cell_type": "code",
   "execution_count": 88,
   "metadata": {},
   "outputs": [
    {
     "data": {
      "text/plain": [
       "1018453"
      ]
     },
     "execution_count": 88,
     "metadata": {},
     "output_type": "execute_result"
    }
   ],
   "source": [
    "poblacionDpto = Col.loc[(departamento),'2020'].sum()\n",
    "poblacionDpto"
   ]
  },
  {
   "cell_type": "code",
   "execution_count": 89,
   "metadata": {},
   "outputs": [
    {
     "data": {
      "text/plain": [
       "50883000"
      ]
     },
     "execution_count": 89,
     "metadata": {},
     "output_type": "execute_result"
    }
   ],
   "source": [
    "Poblacion_pais"
   ]
  },
  {
   "cell_type": "code",
   "execution_count": 90,
   "metadata": {},
   "outputs": [
    {
     "data": {
      "text/plain": [
       "Municipio\n",
       "La Merced        1\n",
       "La Dorada      188\n",
       "Supía           26\n",
       "Chinchiná       52\n",
       "Aguadas         44\n",
       "Aranzazu         2\n",
       "Manizales      590\n",
       "Neira           12\n",
       "Anserma         22\n",
       "Norcasia         1\n",
       "Marmato         49\n",
       "Marquetalia      8\n",
       "Risaralda        2\n",
       "Belalcázar       1\n",
       "Palestina        1\n",
       "Riosucio        27\n",
       "Manzanares      18\n",
       "Villamaría      47\n",
       "Salamina         3\n",
       "Viterbo          9\n",
       "Pácora           3\n",
       "Samaná           5\n",
       "Name: Total casos, dtype: int64"
      ]
     },
     "execution_count": 90,
     "metadata": {},
     "output_type": "execute_result"
    }
   ],
   "source": [
    "Total_casos"
   ]
  },
  {
   "cell_type": "code",
   "execution_count": 91,
   "metadata": {},
   "outputs": [
    {
     "data": {
      "text/plain": [
       "1111"
      ]
     },
     "execution_count": 91,
     "metadata": {},
     "output_type": "execute_result"
    }
   ],
   "source": [
    "Total_casos_dpto = Total_casos.sum()\n",
    "\n",
    "Total_casos_dpto"
   ]
  },
  {
   "cell_type": "markdown",
   "metadata": {},
   "source": [
    "#### Aplicar filtro propuesto en variable \"estado\" por Departamento o Municipio"
   ]
  },
  {
   "cell_type": "code",
   "execution_count": 92,
   "metadata": {},
   "outputs": [],
   "source": [
    "hoy = pd.Timestamp.today()\n"
   ]
  },
  {
   "cell_type": "code",
   "execution_count": 93,
   "metadata": {
    "scrolled": false
   },
   "outputs": [
    {
     "name": "stdout",
     "output_type": "stream",
     "text": [
      "Según datos reportados al  2020-08-06 12:28:44.970415  por el INS Colombiano, de los 1111 casos de Caldas, 37 casos, es decir el 3.33 %, está en condición: Estado Asintomático y representan el 0.003633 %  de los 1018453 habitantes de Caldas\n",
      "La tasa de mortalidad en los municipios del Departamento de Caldas por cien mil habitantes es: Municipio\n",
      "La Merced      0.00\n",
      "La Dorada      0.29\n",
      "Supía          0.20\n",
      "Chinchiná      0.10\n",
      "Aguadas        0.00\n",
      "Aranzazu       0.00\n",
      "Manizales      0.88\n",
      "Neira          0.20\n",
      "Anserma        0.00\n",
      "Norcasia       0.10\n",
      "Marmato        0.00\n",
      "Marquetalia    0.00\n",
      "Risaralda      0.00\n",
      "Belalcázar     0.00\n",
      "Palestina      0.00\n",
      "Riosucio       0.00\n",
      "Manzanares     0.10\n",
      "Villamaría     0.20\n",
      "Salamina       0.00\n",
      "Viterbo        0.00\n",
      "Pácora         0.00\n",
      "Samaná         0.00\n",
      "Name: Fallecidos, dtype: float64\n",
      "La tasa de letalidad en los municipios del Departamento de Caldas por cien enfermos de CoVid-19, es: Municipio\n",
      "La Merced        0.00\n",
      "La Dorada        1.60\n",
      "Supía            7.69\n",
      "Chinchiná        1.92\n",
      "Aguadas          0.00\n",
      "Aranzazu         0.00\n",
      "Manizales        1.53\n",
      "Neira           16.67\n",
      "Anserma          0.00\n",
      "Norcasia       100.00\n",
      "Marmato          0.00\n",
      "Marquetalia      0.00\n",
      "Risaralda        0.00\n",
      "Belalcázar       0.00\n",
      "Palestina        0.00\n",
      "Riosucio         0.00\n",
      "Manzanares       5.56\n",
      "Villamaría       4.26\n",
      "Salamina         0.00\n",
      "Viterbo          0.00\n",
      "Pácora           0.00\n",
      "Samaná           0.00\n",
      "dtype: float64\n",
      "La tasa de mortalidad de Colombia por CoV-2 es de 239.6 por millón de habitantes. \n",
      "\n",
      "La tasa de letalidad de Colombia por CoV-2 es de 3.53 por cien enfermos de CoVid-19. \n",
      "\n"
     ]
    }
   ],
   "source": [
    "filtro= Tasas[variable_buscar]== estado\n",
    "if municipio == '':\n",
    "    Cuadro_filtrados = Tasas.loc[filtro, 'Atención': 'Tipo recuperación'].loc[(Tasas['Dpto'] == departamento)]\n",
    "    numero_estados= Cuadro_filtrados.loc[:, variable_buscar].count()\n",
    "    print('Según datos reportados al ', hoy, ' por el INS Colombiano, de los ' + str(Total_casos_dpto)\n",
    "          + ' casos de '+ departamento + ', ' + str(numero_estados) +' casos, es decir el '\n",
    "          + str(((numero_estados/Total_casos_dpto)*100).round(2))+' %, está en condición: '\n",
    "          + variable_buscar + ' ' + estado + ' y representan el ' \n",
    "          + str(((numero_estados/Col.loc[(departamento),'2020'].sum())*100).round(6)) \n",
    "          + ' %  de los '+ str(Col.loc[(departamento),'2020'].sum()) + ' habitantes de ' + departamento)\n",
    "   \n",
    "    print('La tasa de mortalidad en los municipios del Departamento de ' + departamento + ' por cien mil habitantes es: '\n",
    "          + str(((Fallecidos_dpto_munic/poblacionDpto)*100000).round(2)))\n",
    "    \n",
    "    print('La tasa de letalidad en los municipios del Departamento de ' + departamento + \n",
    "          ' por cien enfermos de CoVid-19, es: ' + str(((Fallecidos_dpto_munic/Total_casos)*100).round(2)))\n",
    "\n",
    "else:\n",
    "    Cuadro_filtrados = Tasas.loc[filtro, 'Atención': 'Tipo recuperación'].loc[(Tasas['Dpto'] == departamento) & (Tasas['Municipio']== municipio)]\n",
    "    numero_estados= Cuadro_filtrados.loc[:, variable_buscar].count()\n",
    "    print('Según datos reportados al', hoy, 'por el INS Colombiano, de los ' + str(Total_casos) + ' casos de '+ municipio + ', ' \n",
    "          + str(numero_estados) +' casos, es decir el '+ str(((numero_estados/Total_casos)*100).round(2))\n",
    "          +' %, están en '+ variable_buscar + ': ' + estado + ' y representan el '\n",
    "          + str(((numero_estados/Poblacion_dpto_munic.sum())*100).round(6)) \n",
    "          + ' % de los ' + str(Poblacion_dpto_munic.sum()) + ' habitantes de ' + municipio +'.','\\n')\n",
    "    \n",
    "    print('La tasa de letalidad en el municipio de '+ municipio + ',' + ' Departamento de ' \n",
    "          + departamento + ' es de ' + str(((Fallecidos_dpto_munic/Total_casos)*100).round(2)) \n",
    "          + ' por cien enfermos de CoVid-19.','\\n')\n",
    "    \n",
    "    print('La tasa de mortalidad en el municipio de '+ municipio + ',' + ' Departamento de ' \n",
    "          + departamento + ' es de ' + str(((Fallecidos_dpto_munic/Poblacion_dpto_munic)*100000).round(2)) \n",
    "          + ' por cien mil habitantes.','\\n')\n",
    "    \n",
    "print('La tasa de mortalidad de ' + pais+ ' por CoV-2 ' + 'es de ' + str(((Fallecidos_pais/Poblacion_pais)*1000000).round(1))+ ' por millón de habitantes.','\\n')\n",
    "\n",
    "print('La tasa de letalidad de '+pais+ ' por CoV-2 ' + 'es de ' + str(((Fallecidos_pais/total_casos_covid_colombia)*100).round(2))+ ' por cien enfermos de CoVid-19.','\\n')"
   ]
  },
  {
   "cell_type": "code",
   "execution_count": null,
   "metadata": {},
   "outputs": [],
   "source": []
  }
 ],
 "metadata": {
  "kernelspec": {
   "display_name": "Python 3",
   "language": "python",
   "name": "python3"
  },
  "language_info": {
   "codemirror_mode": {
    "name": "ipython",
    "version": 3
   },
   "file_extension": ".py",
   "mimetype": "text/x-python",
   "name": "python",
   "nbconvert_exporter": "python",
   "pygments_lexer": "ipython3",
   "version": "3.7.0"
  }
 },
 "nbformat": 4,
 "nbformat_minor": 4
}
