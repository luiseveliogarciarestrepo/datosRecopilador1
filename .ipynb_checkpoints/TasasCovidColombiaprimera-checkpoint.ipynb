{
 "cells": [
  {
   "cell_type": "markdown",
   "metadata": {},
   "source": [
    "# Bases de datos \n",
    "\n",
    "Para los análisis se toman las bases de datos, última actualización, de organizaciones internacionales y nacionales:\n",
    "\n",
    "    - ONU \n",
    "    - OMS \n",
    "    - INS \n",
    "    - DANE"
   ]
  },
  {
   "cell_type": "markdown",
   "metadata": {},
   "source": [
    "### Variables para análisis:"
   ]
  },
  {
   "cell_type": "code",
   "execution_count": 245,
   "metadata": {},
   "outputs": [],
   "source": [
    "pais = 'Colombia'\n",
    "\n",
    "departamento = 'Barranquilla D.E.'\n",
    "\n",
    "municipio = ''\n",
    "\n",
    "variable_buscar = 'Estado'  # puede ser 'Atención' o 'Estado'\n",
    "\n",
    "estado = 'Grave'  # Si atención:  ['Recuperado', 'Hospital', 'Hospital UCI', nan, 'Casa']\n",
    "                   # Si Estado:   ['Leve', 'Asintomático', 'Fallecido', 'Moderado', 'Grave', nan]\n",
    "\n",
    "ano = '2020'"
   ]
  },
  {
   "cell_type": "code",
   "execution_count": 246,
   "metadata": {},
   "outputs": [],
   "source": [
    "import pandas as pd\n",
    "pd.set_option(\"display.precision\", 2)"
   ]
  },
  {
   "cell_type": "markdown",
   "metadata": {},
   "source": [
    "## Población mundial por países y proyección 2020  a 2100"
   ]
  },
  {
   "cell_type": "code",
   "execution_count": 247,
   "metadata": {},
   "outputs": [
    {
     "data": {
      "text/html": [
       "<div>\n",
       "<style scoped>\n",
       "    .dataframe tbody tr th:only-of-type {\n",
       "        vertical-align: middle;\n",
       "    }\n",
       "\n",
       "    .dataframe tbody tr th {\n",
       "        vertical-align: top;\n",
       "    }\n",
       "\n",
       "    .dataframe thead th {\n",
       "        text-align: right;\n",
       "    }\n",
       "</style>\n",
       "<table border=\"1\" class=\"dataframe\">\n",
       "  <thead>\n",
       "    <tr style=\"text-align: right;\">\n",
       "      <th></th>\n",
       "      <th>Country</th>\n",
       "      <th>2020</th>\n",
       "    </tr>\n",
       "    <tr>\n",
       "      <th>Spanish</th>\n",
       "      <th></th>\n",
       "      <th></th>\n",
       "    </tr>\n",
       "  </thead>\n",
       "  <tbody>\n",
       "    <tr>\n",
       "      <th>MUNDO</th>\n",
       "      <td>WORLD</td>\n",
       "      <td>7794799000</td>\n",
       "    </tr>\n",
       "    <tr>\n",
       "      <th>África</th>\n",
       "      <td>Africa</td>\n",
       "      <td>1340598000</td>\n",
       "    </tr>\n",
       "    <tr>\n",
       "      <th>Asia</th>\n",
       "      <td>Asia</td>\n",
       "      <td>4641055000</td>\n",
       "    </tr>\n",
       "    <tr>\n",
       "      <th>Europa</th>\n",
       "      <td>Europe</td>\n",
       "      <td>747636000</td>\n",
       "    </tr>\n",
       "    <tr>\n",
       "      <th>América Latina y el Caribe</th>\n",
       "      <td>Latin America and the Caribbean</td>\n",
       "      <td>653962000</td>\n",
       "    </tr>\n",
       "    <tr>\n",
       "      <th>...</th>\n",
       "      <td>...</td>\n",
       "      <td>...</td>\n",
       "    </tr>\n",
       "    <tr>\n",
       "      <th>islas Bermudas</th>\n",
       "      <td>Bermuda</td>\n",
       "      <td>62000</td>\n",
       "    </tr>\n",
       "    <tr>\n",
       "      <th>Canadá</th>\n",
       "      <td>Canada</td>\n",
       "      <td>37742000</td>\n",
       "    </tr>\n",
       "    <tr>\n",
       "      <th>Groenlandia</th>\n",
       "      <td>Greenland</td>\n",
       "      <td>57000</td>\n",
       "    </tr>\n",
       "    <tr>\n",
       "      <th>San Pedro y Miquelón</th>\n",
       "      <td>Saint Pierre and Miquelon</td>\n",
       "      <td>6000</td>\n",
       "    </tr>\n",
       "    <tr>\n",
       "      <th>Estados Unidos de America</th>\n",
       "      <td>United States of America</td>\n",
       "      <td>331003000</td>\n",
       "    </tr>\n",
       "  </tbody>\n",
       "</table>\n",
       "<p>242 rows × 2 columns</p>\n",
       "</div>"
      ],
      "text/plain": [
       "                                                    Country        2020\n",
       "Spanish                                                                \n",
       "MUNDO                                                 WORLD  7794799000\n",
       "África                                               Africa  1340598000\n",
       "Asia                                                   Asia  4641055000\n",
       "Europa                                               Europe   747636000\n",
       "América Latina y el Caribe  Latin America and the Caribbean   653962000\n",
       "...                                                     ...         ...\n",
       "islas Bermudas                                      Bermuda       62000\n",
       "Canadá                                               Canada    37742000\n",
       "Groenlandia                                       Greenland       57000\n",
       "San Pedro y Miquelón              Saint Pierre and Miquelon        6000\n",
       "Estados Unidos de America          United States of America   331003000\n",
       "\n",
       "[242 rows x 2 columns]"
      ]
     },
     "execution_count": 247,
     "metadata": {},
     "output_type": "execute_result"
    }
   ],
   "source": [
    "mundo= pd.read_csv('poblacionMundial.csv', usecols= ['Country', '2020', 'Spanish'])\n",
    "\n",
    "mundo.set_index('Spanish', inplace=True)\n",
    "mundo"
   ]
  },
  {
   "cell_type": "markdown",
   "metadata": {},
   "source": [
    "## Total casos y número de fallecidos por país"
   ]
  },
  {
   "cell_type": "code",
   "execution_count": 248,
   "metadata": {},
   "outputs": [
    {
     "data": {
      "text/html": [
       "<div>\n",
       "<style scoped>\n",
       "    .dataframe tbody tr th:only-of-type {\n",
       "        vertical-align: middle;\n",
       "    }\n",
       "\n",
       "    .dataframe tbody tr th {\n",
       "        vertical-align: top;\n",
       "    }\n",
       "\n",
       "    .dataframe thead th {\n",
       "        text-align: right;\n",
       "    }\n",
       "</style>\n",
       "<table border=\"1\" class=\"dataframe\">\n",
       "  <thead>\n",
       "    <tr style=\"text-align: right;\">\n",
       "      <th></th>\n",
       "      <th>País</th>\n",
       "      <th>Total_Casos</th>\n",
       "      <th>Fallecidos</th>\n",
       "    </tr>\n",
       "  </thead>\n",
       "  <tbody>\n",
       "    <tr>\n",
       "      <th>0</th>\n",
       "      <td>Afghanistan</td>\n",
       "      <td>35289</td>\n",
       "      <td>1147</td>\n",
       "    </tr>\n",
       "    <tr>\n",
       "      <th>1</th>\n",
       "      <td>Albania</td>\n",
       "      <td>3906</td>\n",
       "      <td>107</td>\n",
       "    </tr>\n",
       "    <tr>\n",
       "      <th>2</th>\n",
       "      <td>Algeria</td>\n",
       "      <td>21948</td>\n",
       "      <td>1057</td>\n",
       "    </tr>\n",
       "    <tr>\n",
       "      <th>3</th>\n",
       "      <td>Andorra</td>\n",
       "      <td>880</td>\n",
       "      <td>52</td>\n",
       "    </tr>\n",
       "    <tr>\n",
       "      <th>4</th>\n",
       "      <td>Angola</td>\n",
       "      <td>638</td>\n",
       "      <td>29</td>\n",
       "    </tr>\n",
       "    <tr>\n",
       "      <th>...</th>\n",
       "      <td>...</td>\n",
       "      <td>...</td>\n",
       "      <td>...</td>\n",
       "    </tr>\n",
       "    <tr>\n",
       "      <th>211</th>\n",
       "      <td>Viet Nam</td>\n",
       "      <td>382</td>\n",
       "      <td>0</td>\n",
       "    </tr>\n",
       "    <tr>\n",
       "      <th>212</th>\n",
       "      <td>Yemen</td>\n",
       "      <td>1580</td>\n",
       "      <td>441</td>\n",
       "    </tr>\n",
       "    <tr>\n",
       "      <th>213</th>\n",
       "      <td>Zambia</td>\n",
       "      <td>2810</td>\n",
       "      <td>109</td>\n",
       "    </tr>\n",
       "    <tr>\n",
       "      <th>214</th>\n",
       "      <td>Zimbabwe</td>\n",
       "      <td>1420</td>\n",
       "      <td>24</td>\n",
       "    </tr>\n",
       "    <tr>\n",
       "      <th>215</th>\n",
       "      <td>occupied Palestinian territory, including east...</td>\n",
       "      <td>9055</td>\n",
       "      <td>57</td>\n",
       "    </tr>\n",
       "  </tbody>\n",
       "</table>\n",
       "<p>216 rows × 3 columns</p>\n",
       "</div>"
      ],
      "text/plain": [
       "                                                  País  Total_Casos  \\\n",
       "0                                          Afghanistan        35289   \n",
       "1                                              Albania         3906   \n",
       "2                                              Algeria        21948   \n",
       "3                                              Andorra          880   \n",
       "4                                               Angola          638   \n",
       "..                                                 ...          ...   \n",
       "211                                           Viet Nam          382   \n",
       "212                                              Yemen         1580   \n",
       "213                                             Zambia         2810   \n",
       "214                                           Zimbabwe         1420   \n",
       "215  occupied Palestinian territory, including east...         9055   \n",
       "\n",
       "     Fallecidos  \n",
       "0          1147  \n",
       "1           107  \n",
       "2          1057  \n",
       "3            52  \n",
       "4            29  \n",
       "..          ...  \n",
       "211           0  \n",
       "212         441  \n",
       "213         109  \n",
       "214          24  \n",
       "215          57  \n",
       "\n",
       "[216 rows x 3 columns]"
      ]
     },
     "execution_count": 248,
     "metadata": {},
     "output_type": "execute_result"
    }
   ],
   "source": [
    "covMun= pd.read_csv('CovidMundoT.csv', usecols= ['País', 'Total_Casos','Fallecidos'])\n",
    "covMun"
   ]
  },
  {
   "cell_type": "markdown",
   "metadata": {},
   "source": [
    "## Total casos y número de fallecidos Colombia por fecha, departamento, municipio, atención, edad, género, fechas de diagnóstico, recuperación o muerte."
   ]
  },
  {
   "cell_type": "code",
   "execution_count": 249,
   "metadata": {},
   "outputs": [
    {
     "data": {
      "text/html": [
       "<div>\n",
       "<style scoped>\n",
       "    .dataframe tbody tr th:only-of-type {\n",
       "        vertical-align: middle;\n",
       "    }\n",
       "\n",
       "    .dataframe tbody tr th {\n",
       "        vertical-align: top;\n",
       "    }\n",
       "\n",
       "    .dataframe thead th {\n",
       "        text-align: right;\n",
       "    }\n",
       "</style>\n",
       "<table border=\"1\" class=\"dataframe\">\n",
       "  <thead>\n",
       "    <tr style=\"text-align: right;\">\n",
       "      <th></th>\n",
       "      <th>Fecha de notificación</th>\n",
       "      <th>Ciudad de ubicación</th>\n",
       "      <th>Departamento o Distrito</th>\n",
       "      <th>atención</th>\n",
       "      <th>Edad</th>\n",
       "      <th>Sexo</th>\n",
       "      <th>Tipo</th>\n",
       "      <th>Estado</th>\n",
       "      <th>País de procedencia</th>\n",
       "      <th>Fecha de muerte</th>\n",
       "      <th>Fecha diagnostico</th>\n",
       "      <th>Fecha recuperado</th>\n",
       "      <th>Tipo recuperación</th>\n",
       "    </tr>\n",
       "  </thead>\n",
       "  <tbody>\n",
       "    <tr>\n",
       "      <th>0</th>\n",
       "      <td>2020-03-02</td>\n",
       "      <td>Bogotá D.C.</td>\n",
       "      <td>Bogotá D.C.</td>\n",
       "      <td>Recuperado</td>\n",
       "      <td>19</td>\n",
       "      <td>F</td>\n",
       "      <td>Importado</td>\n",
       "      <td>Leve</td>\n",
       "      <td>ITALIA</td>\n",
       "      <td>NaT</td>\n",
       "      <td>2020-03-06</td>\n",
       "      <td>2020-03-13</td>\n",
       "      <td>PCR</td>\n",
       "    </tr>\n",
       "    <tr>\n",
       "      <th>1</th>\n",
       "      <td>2020-03-06</td>\n",
       "      <td>Guadalajara de Buga</td>\n",
       "      <td>Valle del Cauca</td>\n",
       "      <td>Recuperado</td>\n",
       "      <td>34</td>\n",
       "      <td>M</td>\n",
       "      <td>Importado</td>\n",
       "      <td>Leve</td>\n",
       "      <td>ESPAÑA</td>\n",
       "      <td>NaT</td>\n",
       "      <td>2020-03-09</td>\n",
       "      <td>2020-03-19</td>\n",
       "      <td>PCR</td>\n",
       "    </tr>\n",
       "    <tr>\n",
       "      <th>2</th>\n",
       "      <td>2020-03-07</td>\n",
       "      <td>Medellín</td>\n",
       "      <td>Antioquia</td>\n",
       "      <td>Recuperado</td>\n",
       "      <td>50</td>\n",
       "      <td>F</td>\n",
       "      <td>Importado</td>\n",
       "      <td>Leve</td>\n",
       "      <td>ESPAÑA</td>\n",
       "      <td>NaT</td>\n",
       "      <td>2020-03-09</td>\n",
       "      <td>2020-03-15</td>\n",
       "      <td>PCR</td>\n",
       "    </tr>\n",
       "    <tr>\n",
       "      <th>3</th>\n",
       "      <td>2020-03-09</td>\n",
       "      <td>Medellín</td>\n",
       "      <td>Antioquia</td>\n",
       "      <td>Recuperado</td>\n",
       "      <td>55</td>\n",
       "      <td>M</td>\n",
       "      <td>Relacionado</td>\n",
       "      <td>Leve</td>\n",
       "      <td>NaN</td>\n",
       "      <td>NaT</td>\n",
       "      <td>2020-03-11</td>\n",
       "      <td>2020-03-26</td>\n",
       "      <td>PCR</td>\n",
       "    </tr>\n",
       "    <tr>\n",
       "      <th>4</th>\n",
       "      <td>2020-03-09</td>\n",
       "      <td>Medellín</td>\n",
       "      <td>Antioquia</td>\n",
       "      <td>Recuperado</td>\n",
       "      <td>25</td>\n",
       "      <td>M</td>\n",
       "      <td>Relacionado</td>\n",
       "      <td>Leve</td>\n",
       "      <td>NaN</td>\n",
       "      <td>NaT</td>\n",
       "      <td>2020-03-11</td>\n",
       "      <td>2020-03-23</td>\n",
       "      <td>PCR</td>\n",
       "    </tr>\n",
       "    <tr>\n",
       "      <th>...</th>\n",
       "      <td>...</td>\n",
       "      <td>...</td>\n",
       "      <td>...</td>\n",
       "      <td>...</td>\n",
       "      <td>...</td>\n",
       "      <td>...</td>\n",
       "      <td>...</td>\n",
       "      <td>...</td>\n",
       "      <td>...</td>\n",
       "      <td>...</td>\n",
       "      <td>...</td>\n",
       "      <td>...</td>\n",
       "      <td>...</td>\n",
       "    </tr>\n",
       "    <tr>\n",
       "      <th>387476</th>\n",
       "      <td>2020-07-31</td>\n",
       "      <td>Bogotá D.C.</td>\n",
       "      <td>Bogotá D.C.</td>\n",
       "      <td>Casa</td>\n",
       "      <td>10</td>\n",
       "      <td>M</td>\n",
       "      <td>En estudio</td>\n",
       "      <td>Leve</td>\n",
       "      <td>NaN</td>\n",
       "      <td>NaT</td>\n",
       "      <td>2020-08-07</td>\n",
       "      <td>NaT</td>\n",
       "      <td>NaN</td>\n",
       "    </tr>\n",
       "    <tr>\n",
       "      <th>387477</th>\n",
       "      <td>2020-07-31</td>\n",
       "      <td>Bogotá D.C.</td>\n",
       "      <td>Bogotá D.C.</td>\n",
       "      <td>Casa</td>\n",
       "      <td>21</td>\n",
       "      <td>M</td>\n",
       "      <td>En estudio</td>\n",
       "      <td>Leve</td>\n",
       "      <td>NaN</td>\n",
       "      <td>NaT</td>\n",
       "      <td>2020-08-07</td>\n",
       "      <td>NaT</td>\n",
       "      <td>NaN</td>\n",
       "    </tr>\n",
       "    <tr>\n",
       "      <th>387478</th>\n",
       "      <td>2020-07-31</td>\n",
       "      <td>Bogotá D.C.</td>\n",
       "      <td>Bogotá D.C.</td>\n",
       "      <td>Casa</td>\n",
       "      <td>39</td>\n",
       "      <td>F</td>\n",
       "      <td>En estudio</td>\n",
       "      <td>Leve</td>\n",
       "      <td>NaN</td>\n",
       "      <td>NaT</td>\n",
       "      <td>2020-08-07</td>\n",
       "      <td>NaT</td>\n",
       "      <td>NaN</td>\n",
       "    </tr>\n",
       "    <tr>\n",
       "      <th>387479</th>\n",
       "      <td>2020-07-31</td>\n",
       "      <td>Bogotá D.C.</td>\n",
       "      <td>Bogotá D.C.</td>\n",
       "      <td>Casa</td>\n",
       "      <td>55</td>\n",
       "      <td>M</td>\n",
       "      <td>En estudio</td>\n",
       "      <td>Leve</td>\n",
       "      <td>NaN</td>\n",
       "      <td>NaT</td>\n",
       "      <td>2020-08-07</td>\n",
       "      <td>NaT</td>\n",
       "      <td>NaN</td>\n",
       "    </tr>\n",
       "    <tr>\n",
       "      <th>387480</th>\n",
       "      <td>2020-07-01</td>\n",
       "      <td>Bogotá D.C.</td>\n",
       "      <td>Bogotá D.C.</td>\n",
       "      <td>Casa</td>\n",
       "      <td>44</td>\n",
       "      <td>F</td>\n",
       "      <td>En estudio</td>\n",
       "      <td>Leve</td>\n",
       "      <td>NaN</td>\n",
       "      <td>NaT</td>\n",
       "      <td>2020-07-22</td>\n",
       "      <td>NaT</td>\n",
       "      <td>NaN</td>\n",
       "    </tr>\n",
       "  </tbody>\n",
       "</table>\n",
       "<p>387481 rows × 13 columns</p>\n",
       "</div>"
      ],
      "text/plain": [
       "       Fecha de notificación  Ciudad de ubicación Departamento o Distrito   \\\n",
       "0                 2020-03-02          Bogotá D.C.              Bogotá D.C.   \n",
       "1                 2020-03-06  Guadalajara de Buga          Valle del Cauca   \n",
       "2                 2020-03-07             Medellín                Antioquia   \n",
       "3                 2020-03-09             Medellín                Antioquia   \n",
       "4                 2020-03-09             Medellín                Antioquia   \n",
       "...                      ...                  ...                      ...   \n",
       "387476            2020-07-31          Bogotá D.C.              Bogotá D.C.   \n",
       "387477            2020-07-31          Bogotá D.C.              Bogotá D.C.   \n",
       "387478            2020-07-31          Bogotá D.C.              Bogotá D.C.   \n",
       "387479            2020-07-31          Bogotá D.C.              Bogotá D.C.   \n",
       "387480            2020-07-01          Bogotá D.C.              Bogotá D.C.   \n",
       "\n",
       "          atención  Edad Sexo         Tipo Estado País de procedencia  \\\n",
       "0       Recuperado    19    F    Importado   Leve              ITALIA   \n",
       "1       Recuperado    34    M    Importado   Leve              ESPAÑA   \n",
       "2       Recuperado    50    F    Importado   Leve              ESPAÑA   \n",
       "3       Recuperado    55    M  Relacionado   Leve                 NaN   \n",
       "4       Recuperado    25    M  Relacionado   Leve                 NaN   \n",
       "...            ...   ...  ...          ...    ...                 ...   \n",
       "387476        Casa    10    M   En estudio   Leve                 NaN   \n",
       "387477        Casa    21    M   En estudio   Leve                 NaN   \n",
       "387478        Casa    39    F   En estudio   Leve                 NaN   \n",
       "387479        Casa    55    M   En estudio   Leve                 NaN   \n",
       "387480        Casa    44    F   En estudio   Leve                 NaN   \n",
       "\n",
       "       Fecha de muerte Fecha diagnostico Fecha recuperado Tipo recuperación  \n",
       "0                  NaT        2020-03-06       2020-03-13               PCR  \n",
       "1                  NaT        2020-03-09       2020-03-19               PCR  \n",
       "2                  NaT        2020-03-09       2020-03-15               PCR  \n",
       "3                  NaT        2020-03-11       2020-03-26               PCR  \n",
       "4                  NaT        2020-03-11       2020-03-23               PCR  \n",
       "...                ...               ...              ...               ...  \n",
       "387476             NaT        2020-08-07              NaT               NaN  \n",
       "387477             NaT        2020-08-07              NaT               NaN  \n",
       "387478             NaT        2020-08-07              NaT               NaN  \n",
       "387479             NaT        2020-08-07              NaT               NaN  \n",
       "387480             NaT        2020-07-22              NaT               NaN  \n",
       "\n",
       "[387481 rows x 13 columns]"
      ]
     },
     "execution_count": 249,
     "metadata": {},
     "output_type": "execute_result"
    }
   ],
   "source": [
    "covCol = pd.read_csv('CovidColombia.csv', usecols= ['Fecha de notificación', \n",
    "       'Ciudad de ubicación', 'Departamento o Distrito ', 'atención', 'Edad',\n",
    "       'Sexo', 'Tipo', 'Estado', 'País de procedencia', 'Fecha recuperado', 'Fecha diagnostico','Fecha de muerte', \n",
    "       'Tipo recuperación'], parse_dates = ['Fecha de notificación','Fecha de muerte', 'Fecha diagnostico','Fecha recuperado'], low_memory=False)\n",
    "\n",
    "covCol['Fecha de muerte'] = pd.to_datetime(covCol['Fecha de muerte'], errors='coerce')\n",
    "\n",
    "fechas =['Fecha de notificación']\n",
    "for i in fechas:\n",
    "    covCol[i] = pd.to_datetime(covCol[i])\n",
    "\n",
    "covCol"
   ]
  },
  {
   "cell_type": "markdown",
   "metadata": {},
   "source": [
    "## Población Colombia por departamento, municipio y género proyectada para el año 2020. "
   ]
  },
  {
   "cell_type": "code",
   "execution_count": 250,
   "metadata": {},
   "outputs": [
    {
     "data": {
      "text/html": [
       "<div>\n",
       "<style scoped>\n",
       "    .dataframe tbody tr th:only-of-type {\n",
       "        vertical-align: middle;\n",
       "    }\n",
       "\n",
       "    .dataframe tbody tr th {\n",
       "        vertical-align: top;\n",
       "    }\n",
       "\n",
       "    .dataframe thead th {\n",
       "        text-align: right;\n",
       "    }\n",
       "</style>\n",
       "<table border=\"1\" class=\"dataframe\">\n",
       "  <thead>\n",
       "    <tr style=\"text-align: right;\">\n",
       "      <th></th>\n",
       "      <th>Dpto</th>\n",
       "      <th>Municipio</th>\n",
       "      <th>Género</th>\n",
       "      <th>2020</th>\n",
       "    </tr>\n",
       "  </thead>\n",
       "  <tbody>\n",
       "    <tr>\n",
       "      <th>0</th>\n",
       "      <td>Antioquia</td>\n",
       "      <td>Medellín</td>\n",
       "      <td>AMBOS SEXOS</td>\n",
       "      <td>2533424</td>\n",
       "    </tr>\n",
       "    <tr>\n",
       "      <th>1</th>\n",
       "      <td>Antioquia</td>\n",
       "      <td>Medellín</td>\n",
       "      <td>HOMBRES</td>\n",
       "      <td>1193791</td>\n",
       "    </tr>\n",
       "    <tr>\n",
       "      <th>2</th>\n",
       "      <td>Antioquia</td>\n",
       "      <td>Medellín</td>\n",
       "      <td>MUJERES</td>\n",
       "      <td>1339633</td>\n",
       "    </tr>\n",
       "    <tr>\n",
       "      <th>3</th>\n",
       "      <td>Antioquia</td>\n",
       "      <td>Abejorral</td>\n",
       "      <td>AMBOS SEXOS</td>\n",
       "      <td>20287</td>\n",
       "    </tr>\n",
       "    <tr>\n",
       "      <th>4</th>\n",
       "      <td>Antioquia</td>\n",
       "      <td>Abejorral</td>\n",
       "      <td>HOMBRES</td>\n",
       "      <td>10558</td>\n",
       "    </tr>\n",
       "    <tr>\n",
       "      <th>...</th>\n",
       "      <td>...</td>\n",
       "      <td>...</td>\n",
       "      <td>...</td>\n",
       "      <td>...</td>\n",
       "    </tr>\n",
       "    <tr>\n",
       "      <th>3364</th>\n",
       "      <td>Vichada</td>\n",
       "      <td>Cumaribo</td>\n",
       "      <td>HOMBRES</td>\n",
       "      <td>41840</td>\n",
       "    </tr>\n",
       "    <tr>\n",
       "      <th>3365</th>\n",
       "      <td>Vichada</td>\n",
       "      <td>Cumaribo</td>\n",
       "      <td>MUJERES</td>\n",
       "      <td>37023</td>\n",
       "    </tr>\n",
       "    <tr>\n",
       "      <th>3366</th>\n",
       "      <td>País_Col</td>\n",
       "      <td>País_Col</td>\n",
       "      <td>AMBOS SEXOS</td>\n",
       "      <td>50372424</td>\n",
       "    </tr>\n",
       "    <tr>\n",
       "      <th>3367</th>\n",
       "      <td>País_Col</td>\n",
       "      <td>País_Col</td>\n",
       "      <td>HOMBRES</td>\n",
       "      <td>24594882</td>\n",
       "    </tr>\n",
       "    <tr>\n",
       "      <th>3368</th>\n",
       "      <td>País_Col</td>\n",
       "      <td>País_Col</td>\n",
       "      <td>MUJERES</td>\n",
       "      <td>25777542</td>\n",
       "    </tr>\n",
       "  </tbody>\n",
       "</table>\n",
       "<p>3369 rows × 4 columns</p>\n",
       "</div>"
      ],
      "text/plain": [
       "           Dpto  Municipio       Género      2020\n",
       "0     Antioquia   Medellín  AMBOS SEXOS   2533424\n",
       "1     Antioquia   Medellín      HOMBRES   1193791\n",
       "2     Antioquia   Medellín      MUJERES   1339633\n",
       "3     Antioquia  Abejorral  AMBOS SEXOS     20287\n",
       "4     Antioquia  Abejorral      HOMBRES     10558\n",
       "...         ...        ...          ...       ...\n",
       "3364    Vichada   Cumaribo      HOMBRES     41840\n",
       "3365    Vichada   Cumaribo      MUJERES     37023\n",
       "3366   País_Col   País_Col  AMBOS SEXOS  50372424\n",
       "3367   País_Col   País_Col      HOMBRES  24594882\n",
       "3368   País_Col   País_Col      MUJERES  25777542\n",
       "\n",
       "[3369 rows x 4 columns]"
      ]
     },
     "execution_count": 250,
     "metadata": {},
     "output_type": "execute_result"
    }
   ],
   "source": [
    "Col = pd.read_csv('Dane2018_2023.csv').drop(columns = ['2018',\n",
    "       '2019','2021', '2022', '2023' ])\n",
    "Col"
   ]
  },
  {
   "cell_type": "markdown",
   "metadata": {},
   "source": [
    "#### Poblaciones"
   ]
  },
  {
   "cell_type": "markdown",
   "metadata": {},
   "source": [
    "#### Colombia"
   ]
  },
  {
   "cell_type": "code",
   "execution_count": 251,
   "metadata": {},
   "outputs": [
    {
     "data": {
      "text/plain": [
       "50883000"
      ]
     },
     "execution_count": 251,
     "metadata": {},
     "output_type": "execute_result"
    }
   ],
   "source": [
    "Poblacion_pais = mundo.loc[pais, ano]\n",
    "Poblacion_pais"
   ]
  },
  {
   "cell_type": "markdown",
   "metadata": {},
   "source": [
    "#### Total casos COVID-19"
   ]
  },
  {
   "cell_type": "code",
   "execution_count": 252,
   "metadata": {},
   "outputs": [
    {
     "data": {
      "text/plain": [
       "387481"
      ]
     },
     "execution_count": 252,
     "metadata": {},
     "output_type": "execute_result"
    }
   ],
   "source": [
    "total_casos_covid_colombia = covCol['Fecha de notificación'].count()\n",
    "total_casos_covid_colombia"
   ]
  },
  {
   "cell_type": "markdown",
   "metadata": {},
   "source": [
    "#### Total Fallecidos por COVID-19"
   ]
  },
  {
   "cell_type": "code",
   "execution_count": 253,
   "metadata": {},
   "outputs": [
    {
     "data": {
      "text/plain": [
       "13502"
      ]
     },
     "execution_count": 253,
     "metadata": {},
     "output_type": "execute_result"
    }
   ],
   "source": [
    "Fallecidos_pais = covCol['Fecha de muerte'].count()\n",
    "Fallecidos_pais"
   ]
  },
  {
   "cell_type": "code",
   "execution_count": 254,
   "metadata": {},
   "outputs": [],
   "source": [
    "filtro = Col['Género'] == 'AMBOS SEXOS'\n",
    "Col = Col.loc[filtro, :].drop(columns=['Género'])\n",
    "\n",
    "Col.set_index(['Dpto', 'Municipio'], inplace=True)"
   ]
  },
  {
   "cell_type": "code",
   "execution_count": 255,
   "metadata": {},
   "outputs": [],
   "source": [
    "covCol.rename(columns={\"Departamento o Distrito \": \"Dpto\", \"Ciudad de ubicación\": \"Municipio\", \"atención\":\"Atención\", \"Fecha diagnostico\":\"Fecha diagnóstico\"}, inplace=True)\n",
    "\n",
    "covCol.set_index(['Dpto', 'Municipio'], inplace = True)"
   ]
  },
  {
   "cell_type": "markdown",
   "metadata": {},
   "source": [
    "#### Casos y poblaciones por departamento y municipio"
   ]
  },
  {
   "cell_type": "code",
   "execution_count": 256,
   "metadata": {
    "scrolled": true
   },
   "outputs": [
    {
     "data": {
      "text/html": [
       "<div>\n",
       "<style scoped>\n",
       "    .dataframe tbody tr th:only-of-type {\n",
       "        vertical-align: middle;\n",
       "    }\n",
       "\n",
       "    .dataframe tbody tr th {\n",
       "        vertical-align: top;\n",
       "    }\n",
       "\n",
       "    .dataframe thead th {\n",
       "        text-align: right;\n",
       "    }\n",
       "</style>\n",
       "<table border=\"1\" class=\"dataframe\">\n",
       "  <thead>\n",
       "    <tr style=\"text-align: right;\">\n",
       "      <th></th>\n",
       "      <th>Dpto</th>\n",
       "      <th>Municipio</th>\n",
       "      <th>Fecha de notificación</th>\n",
       "      <th>Atención</th>\n",
       "      <th>Edad</th>\n",
       "      <th>Sexo</th>\n",
       "      <th>Tipo</th>\n",
       "      <th>Estado</th>\n",
       "      <th>País de procedencia</th>\n",
       "      <th>Fecha de muerte</th>\n",
       "      <th>Fecha diagnóstico</th>\n",
       "      <th>Fecha recuperado</th>\n",
       "      <th>Tipo recuperación</th>\n",
       "      <th>2020</th>\n",
       "    </tr>\n",
       "  </thead>\n",
       "  <tbody>\n",
       "    <tr>\n",
       "      <th>0</th>\n",
       "      <td>Amazonas</td>\n",
       "      <td>Leticia</td>\n",
       "      <td>2020-04-14</td>\n",
       "      <td>Recuperado</td>\n",
       "      <td>26</td>\n",
       "      <td>M</td>\n",
       "      <td>Relacionado</td>\n",
       "      <td>Leve</td>\n",
       "      <td>NaN</td>\n",
       "      <td>NaT</td>\n",
       "      <td>2020-04-17</td>\n",
       "      <td>2020-05-19</td>\n",
       "      <td>PCR</td>\n",
       "      <td>49737</td>\n",
       "    </tr>\n",
       "    <tr>\n",
       "      <th>1</th>\n",
       "      <td>Amazonas</td>\n",
       "      <td>Leticia</td>\n",
       "      <td>2020-04-13</td>\n",
       "      <td>Recuperado</td>\n",
       "      <td>47</td>\n",
       "      <td>F</td>\n",
       "      <td>Importado</td>\n",
       "      <td>Leve</td>\n",
       "      <td>BRASIL</td>\n",
       "      <td>NaT</td>\n",
       "      <td>2020-04-18</td>\n",
       "      <td>2020-05-31</td>\n",
       "      <td>Tiempo</td>\n",
       "      <td>49737</td>\n",
       "    </tr>\n",
       "    <tr>\n",
       "      <th>2</th>\n",
       "      <td>Amazonas</td>\n",
       "      <td>Leticia</td>\n",
       "      <td>2020-04-14</td>\n",
       "      <td>Recuperado</td>\n",
       "      <td>16</td>\n",
       "      <td>F</td>\n",
       "      <td>Relacionado</td>\n",
       "      <td>Leve</td>\n",
       "      <td>NaN</td>\n",
       "      <td>NaT</td>\n",
       "      <td>2020-04-18</td>\n",
       "      <td>2020-05-29</td>\n",
       "      <td>PCR</td>\n",
       "      <td>49737</td>\n",
       "    </tr>\n",
       "    <tr>\n",
       "      <th>3</th>\n",
       "      <td>Amazonas</td>\n",
       "      <td>Leticia</td>\n",
       "      <td>2020-04-14</td>\n",
       "      <td>Recuperado</td>\n",
       "      <td>41</td>\n",
       "      <td>F</td>\n",
       "      <td>Importado</td>\n",
       "      <td>Leve</td>\n",
       "      <td>BRASIL</td>\n",
       "      <td>NaT</td>\n",
       "      <td>2020-04-18</td>\n",
       "      <td>2020-05-29</td>\n",
       "      <td>PCR</td>\n",
       "      <td>49737</td>\n",
       "    </tr>\n",
       "    <tr>\n",
       "      <th>4</th>\n",
       "      <td>Amazonas</td>\n",
       "      <td>Leticia</td>\n",
       "      <td>2020-04-16</td>\n",
       "      <td>Recuperado</td>\n",
       "      <td>54</td>\n",
       "      <td>M</td>\n",
       "      <td>Relacionado</td>\n",
       "      <td>Leve</td>\n",
       "      <td>NaN</td>\n",
       "      <td>NaT</td>\n",
       "      <td>2020-04-21</td>\n",
       "      <td>2020-04-29</td>\n",
       "      <td>PCR</td>\n",
       "      <td>49737</td>\n",
       "    </tr>\n",
       "    <tr>\n",
       "      <th>...</th>\n",
       "      <td>...</td>\n",
       "      <td>...</td>\n",
       "      <td>...</td>\n",
       "      <td>...</td>\n",
       "      <td>...</td>\n",
       "      <td>...</td>\n",
       "      <td>...</td>\n",
       "      <td>...</td>\n",
       "      <td>...</td>\n",
       "      <td>...</td>\n",
       "      <td>...</td>\n",
       "      <td>...</td>\n",
       "      <td>...</td>\n",
       "      <td>...</td>\n",
       "    </tr>\n",
       "    <tr>\n",
       "      <th>373075</th>\n",
       "      <td>Vichada</td>\n",
       "      <td>La Primavera</td>\n",
       "      <td>2020-07-15</td>\n",
       "      <td>Hospital</td>\n",
       "      <td>78</td>\n",
       "      <td>F</td>\n",
       "      <td>En estudio</td>\n",
       "      <td>Moderado</td>\n",
       "      <td>NaN</td>\n",
       "      <td>NaT</td>\n",
       "      <td>2020-07-17</td>\n",
       "      <td>NaT</td>\n",
       "      <td>NaN</td>\n",
       "      <td>9608</td>\n",
       "    </tr>\n",
       "    <tr>\n",
       "      <th>373076</th>\n",
       "      <td>Vichada</td>\n",
       "      <td>Puerto Carreño</td>\n",
       "      <td>2020-05-29</td>\n",
       "      <td>Recuperado</td>\n",
       "      <td>20</td>\n",
       "      <td>M</td>\n",
       "      <td>En estudio</td>\n",
       "      <td>Asintomático</td>\n",
       "      <td>NaN</td>\n",
       "      <td>NaT</td>\n",
       "      <td>2020-05-29</td>\n",
       "      <td>2020-06-07</td>\n",
       "      <td>PCR</td>\n",
       "      <td>20294</td>\n",
       "    </tr>\n",
       "    <tr>\n",
       "      <th>373077</th>\n",
       "      <td>Vichada</td>\n",
       "      <td>Puerto Carreño</td>\n",
       "      <td>2020-07-22</td>\n",
       "      <td>Casa</td>\n",
       "      <td>19</td>\n",
       "      <td>M</td>\n",
       "      <td>Relacionado</td>\n",
       "      <td>Leve</td>\n",
       "      <td>NaN</td>\n",
       "      <td>NaT</td>\n",
       "      <td>2020-08-02</td>\n",
       "      <td>NaT</td>\n",
       "      <td>NaN</td>\n",
       "      <td>20294</td>\n",
       "    </tr>\n",
       "    <tr>\n",
       "      <th>373078</th>\n",
       "      <td>Vichada</td>\n",
       "      <td>Puerto Carreño</td>\n",
       "      <td>2020-07-22</td>\n",
       "      <td>Casa</td>\n",
       "      <td>20</td>\n",
       "      <td>M</td>\n",
       "      <td>Relacionado</td>\n",
       "      <td>Leve</td>\n",
       "      <td>NaN</td>\n",
       "      <td>NaT</td>\n",
       "      <td>2020-08-02</td>\n",
       "      <td>NaT</td>\n",
       "      <td>NaN</td>\n",
       "      <td>20294</td>\n",
       "    </tr>\n",
       "    <tr>\n",
       "      <th>373079</th>\n",
       "      <td>Vichada</td>\n",
       "      <td>Puerto Carreño</td>\n",
       "      <td>2020-07-22</td>\n",
       "      <td>Casa</td>\n",
       "      <td>19</td>\n",
       "      <td>M</td>\n",
       "      <td>Relacionado</td>\n",
       "      <td>Leve</td>\n",
       "      <td>NaN</td>\n",
       "      <td>NaT</td>\n",
       "      <td>2020-08-02</td>\n",
       "      <td>NaT</td>\n",
       "      <td>NaN</td>\n",
       "      <td>20294</td>\n",
       "    </tr>\n",
       "  </tbody>\n",
       "</table>\n",
       "<p>373080 rows × 14 columns</p>\n",
       "</div>"
      ],
      "text/plain": [
       "            Dpto       Municipio Fecha de notificación    Atención  Edad Sexo  \\\n",
       "0       Amazonas         Leticia            2020-04-14  Recuperado    26    M   \n",
       "1       Amazonas         Leticia            2020-04-13  Recuperado    47    F   \n",
       "2       Amazonas         Leticia            2020-04-14  Recuperado    16    F   \n",
       "3       Amazonas         Leticia            2020-04-14  Recuperado    41    F   \n",
       "4       Amazonas         Leticia            2020-04-16  Recuperado    54    M   \n",
       "...          ...             ...                   ...         ...   ...  ...   \n",
       "373075   Vichada    La Primavera            2020-07-15    Hospital    78    F   \n",
       "373076   Vichada  Puerto Carreño            2020-05-29  Recuperado    20    M   \n",
       "373077   Vichada  Puerto Carreño            2020-07-22        Casa    19    M   \n",
       "373078   Vichada  Puerto Carreño            2020-07-22        Casa    20    M   \n",
       "373079   Vichada  Puerto Carreño            2020-07-22        Casa    19    M   \n",
       "\n",
       "               Tipo        Estado País de procedencia Fecha de muerte  \\\n",
       "0       Relacionado          Leve                 NaN             NaT   \n",
       "1         Importado          Leve              BRASIL             NaT   \n",
       "2       Relacionado          Leve                 NaN             NaT   \n",
       "3         Importado          Leve              BRASIL             NaT   \n",
       "4       Relacionado          Leve                 NaN             NaT   \n",
       "...             ...           ...                 ...             ...   \n",
       "373075   En estudio      Moderado                 NaN             NaT   \n",
       "373076   En estudio  Asintomático                 NaN             NaT   \n",
       "373077  Relacionado          Leve                 NaN             NaT   \n",
       "373078  Relacionado          Leve                 NaN             NaT   \n",
       "373079  Relacionado          Leve                 NaN             NaT   \n",
       "\n",
       "       Fecha diagnóstico Fecha recuperado Tipo recuperación   2020  \n",
       "0             2020-04-17       2020-05-19               PCR  49737  \n",
       "1             2020-04-18       2020-05-31            Tiempo  49737  \n",
       "2             2020-04-18       2020-05-29               PCR  49737  \n",
       "3             2020-04-18       2020-05-29               PCR  49737  \n",
       "4             2020-04-21       2020-04-29               PCR  49737  \n",
       "...                  ...              ...               ...    ...  \n",
       "373075        2020-07-17              NaT               NaN   9608  \n",
       "373076        2020-05-29       2020-06-07               PCR  20294  \n",
       "373077        2020-08-02              NaT               NaN  20294  \n",
       "373078        2020-08-02              NaT               NaN  20294  \n",
       "373079        2020-08-02              NaT               NaN  20294  \n",
       "\n",
       "[373080 rows x 14 columns]"
      ]
     },
     "execution_count": 256,
     "metadata": {},
     "output_type": "execute_result"
    }
   ],
   "source": [
    "Tasas = pd.merge(covCol, Col, left_index=True, right_index=True).reset_index()\n",
    "\n",
    "Tasas"
   ]
  },
  {
   "cell_type": "markdown",
   "metadata": {},
   "source": [
    "#### Municipios con casos reportados por SARS CoV-2 a:"
   ]
  },
  {
   "cell_type": "code",
   "execution_count": 257,
   "metadata": {},
   "outputs": [
    {
     "data": {
      "text/plain": [
       "Timestamp('2020-08-10 16:56:43.130196')"
      ]
     },
     "execution_count": 257,
     "metadata": {},
     "output_type": "execute_result"
    }
   ],
   "source": [
    "pd.Timestamp.today()"
   ]
  },
  {
   "cell_type": "code",
   "execution_count": 258,
   "metadata": {},
   "outputs": [
    {
     "data": {
      "text/plain": [
       "array(['Leticia', 'Puerto Nariño', 'Abejorral', 'Abriaquí', 'Amagá',\n",
       "       'Amalfi', 'Andes', 'Angostura', 'Anorí', 'Apartadó', 'Arboletes',\n",
       "       'Argelia', 'Armenia', 'Barbosa', 'Bello', 'Belmira', 'Betania',\n",
       "       'Betulia', 'Briceño', 'Buriticá', 'Caicedo', 'Caldas',\n",
       "       'Campamento', 'Caracolí', 'Caramanta', 'Carepa', 'Carolina',\n",
       "       'Caucasia', 'Cañasgordas', 'Chigorodó', 'Cisneros',\n",
       "       'Ciudad Bolívar', 'Cocorná', 'Concepción', 'Concordia',\n",
       "       'Copacabana', 'Cáceres', 'Dabeiba', 'Ebéjico', 'El Bagre',\n",
       "       'El Carmen de Viboral', 'El Santuario', 'Envigado', 'Fredonia',\n",
       "       'Frontino', 'Giraldo', 'Girardota', 'Granada', 'Guadalupe',\n",
       "       'Guarne', 'Guatapé', 'Gómez Plata', 'Heliconia', 'Hispania',\n",
       "       'Ituango', 'Jericó', 'La Ceja', 'La Estrella', 'La Pintada',\n",
       "       'La Unión', 'Liborina', 'Maceo', 'Marinilla', 'Medellín',\n",
       "       'Montebello', 'Murindó', 'Mutatá', 'Nechí', 'Necoclí', 'Olaya',\n",
       "       'Peque', 'Peñol', 'Puerto Berrío', 'Puerto Nare', 'Puerto Triunfo',\n",
       "       'Remedios', 'Retiro', 'Rionegro', 'Sabanalarga', 'Sabaneta',\n",
       "       'Salgar', 'San Andrés de Cuerquía', 'San Carlos', 'San Francisco',\n",
       "       'San Jerónimo', 'San Juan de Urabá', 'San Luis',\n",
       "       'San Pedro de Urabá', 'San Rafael', 'San Roque', 'Santa Bárbara',\n",
       "       'Santa Rosa de Osos', 'Santo Domingo', 'Segovia', 'Sonsón',\n",
       "       'Sopetrán', 'Tarazá', 'Tarso', 'Titiribí', 'Toledo', 'Turbo',\n",
       "       'Támesis', 'Uramita', 'Urrao', 'Valdivia', 'Valparaíso', 'Venecia',\n",
       "       'Vigía del Fuerte', 'Yarumal', 'Yolombó', 'Yondó', 'Zaragoza',\n",
       "       'Arauca', 'Arauquita', 'Fortul', 'Saravena', 'Tame', 'Providencia',\n",
       "       'San Andrés', 'Baranoa', 'Candelaria', 'Galapa', 'Juan de Acosta',\n",
       "       'Luruaco', 'Malambo', 'Manatí', 'Palmar de Varela', 'Piojó',\n",
       "       'Polonuevo', 'Ponedera', 'Puerto Colombia', 'Repelón',\n",
       "       'Sabanagrande', 'Santa Lucía', 'Santo Tomás', 'Soledad', 'Suan',\n",
       "       'Tubará', 'Usiacurí', 'Barranquilla', 'Bogotá D.C.', 'Achí',\n",
       "       'Altos del Rosario', 'Arenal', 'Arjona', 'Arroyohondo',\n",
       "       'Barranco de Loba', 'Calamar', 'Cantagallo', 'Cicuco', 'Clemencia',\n",
       "       'Córdoba', 'El Carmen de Bolívar', 'El Guamo', 'El Peñón',\n",
       "       'Hatillo de Loba', 'Magangué', 'Mahates', 'Margarita', 'Mompós',\n",
       "       'Montecristo', 'Morales', 'Norosí', 'Pinillos', 'Regidor',\n",
       "       'San Cristóbal', 'San Estanislao', 'San Jacinto',\n",
       "       'San Jacinto del Cauca', 'San Juan Nepomuceno',\n",
       "       'San Martín de Loba', 'San Pablo', 'Santa Catalina', 'Santa Rosa',\n",
       "       'Santa Rosa del Sur', 'Soplaviento', 'Talaigua Nuevo', 'Tiquisio',\n",
       "       'Turbaco', 'Turbaná', 'Villanueva', 'Zambrano', 'Almeida',\n",
       "       'Aquitania', 'Arcabuco', 'Belén', 'Buenavista', 'Chiquinquirá',\n",
       "       'Chíquiza', 'Coper', 'Corrales', 'Covarachía', 'Cubará', 'Cucaita',\n",
       "       'Cuítiva', 'Cómbita', 'Duitama', 'Firavitoba', 'Garagoa',\n",
       "       'Guateque', 'Guayatá', 'Iza', 'La Uvita', 'Maripí', 'Miraflores',\n",
       "       'Monguí', 'Moniquirá', 'Motavita', 'Muzo', 'Nobsa', 'Nuevo Colón',\n",
       "       'Oicatá', 'Pachavita', 'Paipa', 'Pauna', 'Paya', 'Pesca',\n",
       "       'Puerto Boyacá', 'Quípama', 'Ramiriquí', 'Saboyá', 'Samacá',\n",
       "       'San Miguel de Sema', 'San Pablo de Borbur',\n",
       "       'Santa Rosa de Viterbo', 'Santa Sofía', 'Santana', 'Siachoque',\n",
       "       'Soatá', 'Socha', 'Sogamoso', 'Soracá', 'Sotaquirá', 'Susacón',\n",
       "       'Sutamarchán', 'Sáchica', 'Tasco', 'Tenza', 'Tibaná', 'Tibasosa',\n",
       "       'Tinjacá', 'Tipacoque', 'Toca', 'Togüí', 'Tunja', 'Turmequé',\n",
       "       'Tuta', 'Ventaquemada', 'Villa de Leyva', 'Viracachá', 'Zetaquira',\n",
       "       'Buenaventura', 'Aguadas', 'Anserma', 'Aranzazu', 'Belalcázar',\n",
       "       'Chinchiná', 'La Dorada', 'La Merced', 'Manizales', 'Manzanares',\n",
       "       'Marmato', 'Marquetalia', 'Neira', 'Norcasia', 'Palestina',\n",
       "       'Pensilvania', 'Pácora', 'Riosucio', 'Risaralda', 'Salamina',\n",
       "       'Samaná', 'Supía', 'Villamaría', 'Viterbo', 'Albania',\n",
       "       'Cartagena del Chairá', 'Curillo', 'El Doncello', 'Florencia',\n",
       "       'La Montañita', 'Milán', 'Morelia', 'Puerto Rico',\n",
       "       'San José del Fragua', 'San Vicente del Caguán', 'Solano',\n",
       "       'Solita', 'Cartagena de Indias', 'Aguazul', 'Hato Corozal', 'Maní',\n",
       "       'Monterrey', 'Orocué', 'Paz de Ariporo', 'Pore', 'Tauramena',\n",
       "       'Trinidad', 'Yopal', 'Balboa', 'Bolívar', 'Buenos Aires',\n",
       "       'Cajibío', 'Caldono', 'Caloto', 'Corinto', 'El Tambo', 'Jambaló',\n",
       "       'La Sierra', 'La Vega', 'Mercaderes', 'Miranda', 'Padilla',\n",
       "       'Patía', 'Piendamó', 'Popayán', 'Puerto Tejada', 'Puracé', 'Rosas',\n",
       "       'Santander de Quilichao', 'Silvia', 'Sucre', 'Suárez', 'Timbiquí',\n",
       "       'Timbío', 'Totoró', 'Aguachica', 'Agustín Codazzi', 'Astrea',\n",
       "       'Becerril', 'Bosconia', 'Chimichagua', 'Chiriguaná', 'Curumaní',\n",
       "       'El Copey', 'El Paso', 'Gamarra', 'González', 'La Gloria',\n",
       "       'La Jagua de Ibirico', 'La Paz', 'Pailitas', 'Pelaya',\n",
       "       'Pueblo Bello', 'Río de Oro', 'San Alberto', 'San Diego',\n",
       "       'San Martín', 'Tamalameque', 'Valledupar', 'Acandí', 'Atrato',\n",
       "       'Bagadó', 'Bahía Solano', 'Bajo Baudó', 'Condoto', 'Cértegui',\n",
       "       'El Carmen de Atrato', 'Istmina', 'Lloró', 'Medio Baudó',\n",
       "       'Medio San Juan', 'Nuquí', 'Nóvita', 'Quibdó', 'Río Quito', 'Tadó',\n",
       "       'Unguía', 'Unión Panamericana', 'Agua de Dios', 'Albán',\n",
       "       'Anapoima', 'Anolaima', 'Apulo', 'Arbeláez', 'Beltrán', 'Bituima',\n",
       "       'Bojacá', 'Cabrera', 'Cachipay', 'Cajicá', 'Caparrapí',\n",
       "       'Carmen de Carupa', 'Chaguaní', 'Chipaque', 'Choachí', 'Chocontá',\n",
       "       'Chía', 'Cogua', 'Cota', 'Cucunubá', 'El Colegio', 'El Rosal',\n",
       "       'Facatativá', 'Fosca', 'Funza', 'Fusagasugá', 'Fúquene',\n",
       "       'Gachancipá', 'Gachetá', 'Gama', 'Girardot', 'Guachetá', 'Guaduas',\n",
       "       'Guasca', 'Guataquí', 'Guatavita', 'Guayabetal', 'Junín',\n",
       "       'La Calera', 'La Mesa', 'La Palma', 'Lenguazaque', 'Madrid',\n",
       "       'Manta', 'Mosquera', 'Nariño', 'Nemocón', 'Nilo', 'Nimaima',\n",
       "       'Pacho', 'Pandi', 'Pasca', 'Puerto Salgar', 'Quebradanegra',\n",
       "       'Quetame', 'Ricaurte', 'San Antonio del Tequendama',\n",
       "       'San Bernardo', 'Sasaima', 'Sesquilé', 'Sibaté', 'Silvania',\n",
       "       'Simijaca', 'Soacha', 'Sopó', 'Subachoque', 'Suesca', 'Tabio',\n",
       "       'Tausa', 'Tena', 'Tenjo', 'Tocaima', 'Tocancipá', 'Ubalá',\n",
       "       'Ubaque', 'Une', 'Vergara', 'Vianí', 'Villagómez', 'Villapinzón',\n",
       "       'Villeta', 'Viotá', 'Yacopí', 'Zipacón', 'Zipaquirá', 'Útica',\n",
       "       'Inírida', 'San José del Guaviare', 'Acevedo', 'Agrado', 'Aipe',\n",
       "       'Algeciras', 'Altamira', 'Baraya', 'Campoalegre', 'Colombia',\n",
       "       'Elías', 'Garzón', 'Gigante', 'Hobo', 'Isnos', 'La Argentina',\n",
       "       'La Plata', 'Neiva', 'Nátaga', 'Oporapa', 'Paicol', 'Palermo',\n",
       "       'Pital', 'Pitalito', 'Rivera', 'Saladoblanco', 'San Agustín',\n",
       "       'Santa María', 'Suaza', 'Tarqui', 'Tello', 'Teruel', 'Timaná',\n",
       "       'Villavieja', 'Yaguará', 'Barrancas', 'Dibulla', 'Distracción',\n",
       "       'El Molino', 'Fonseca', 'Hatonuevo', 'La Jagua del Pilar',\n",
       "       'Maicao', 'Manaure', 'Riohacha', 'San Juan del Cesar', 'Uribia',\n",
       "       'Urumita', 'Algarrobo', 'Aracataca', 'Ariguaní', 'Chivolo',\n",
       "       'Ciénaga', 'El Banco', 'El Retén', 'Fundación', 'Guamal',\n",
       "       'Nueva Granada', 'Pedraza', 'Pijiño del Carmen', 'Pivijay',\n",
       "       'Plato', 'Puebloviejo', 'Remolino', 'San Sebastián de Buenavista',\n",
       "       'San Zenón', 'Santa Ana', 'Santa Bárbara de Pinto', 'Sitionuevo',\n",
       "       'Zapayán', 'Zona Bananera', 'Acacías', 'Cabuyaro',\n",
       "       'Castilla la Nueva', 'Cumaral', 'El Castillo', 'Fuente de Oro',\n",
       "       'Mapiripán', 'Mesetas', 'Puerto Gaitán', 'Puerto López',\n",
       "       'Restrepo', 'San Carlos de Guaroa', 'San Juan de Arama',\n",
       "       'Villavicencio', 'Aldana', 'Ancuyá', 'Arboleda', 'Barbacoas',\n",
       "       'Buesaco', 'Chachagüí', 'Colón', 'Contadero', 'Cumbal',\n",
       "       'Cumbitara', 'El Charco', 'El Peñol', 'Francisco Pizarro', 'Funes',\n",
       "       'Guachucal', 'Guaitarilla', 'Gualmatán', 'Iles', 'Imués',\n",
       "       'Ipiales', 'La Cruz', 'La Florida', 'La Llanada', 'La Tola',\n",
       "       'Leiva', 'Linares', 'Los Andes', 'Mallama', 'Olaya Herrera',\n",
       "       'Pasto', 'Potosí', 'Puerres', 'Pupiales', 'Roberto Payán',\n",
       "       'Samaniego', 'San Andrés de Tumaco', 'San Lorenzo',\n",
       "       'San Pedro de Cartago', 'Sandoná', 'Santacruz', 'Sapuyes',\n",
       "       'Taminango', 'Tangua', 'Túquerres', 'Yacuanquer', 'Arboledas',\n",
       "       'Bochalema', 'Bucarasica', 'Chinácota', 'Chitagá', 'Convención',\n",
       "       'Cucutilla', 'Cácota', 'Cúcuta', 'Durania', 'El Carmen',\n",
       "       'El Tarra', 'El Zulia', 'Gramalote', 'La Esperanza', 'La Playa',\n",
       "       'Labateca', 'Los Patios', 'Lourdes', 'Mutiscua', 'Ocaña',\n",
       "       'Pamplona', 'Pamplonita', 'Puerto Santander', 'Ragonvalia',\n",
       "       'San Calixto', 'San Cayetano', 'Santiago', 'Sardinata', 'Silos',\n",
       "       'Teorama', 'Tibú', 'Villa Caro', 'Villa del Rosario', 'Mocoa',\n",
       "       'Orito', 'Puerto Asís', 'Puerto Caicedo', 'Puerto Guzmán',\n",
       "       'San Miguel', 'Sibundoy', 'Valle del Guamuez', 'Villagarzón',\n",
       "       'Circasia', 'Filandia', 'Génova', 'La Tebaida', 'Montenegro',\n",
       "       'Quimbaya', 'Salento', 'Apía', 'Belén de Umbría', 'Dosquebradas',\n",
       "       'La Celia', 'La Virginia', 'Marsella', 'Pereira', 'Pueblo Rico',\n",
       "       'Quinchía', 'Santa Rosa de Cabal', 'Santuario', 'Santa Marta',\n",
       "       'Aguada', 'Aratoca', 'Barichara', 'Barrancabermeja', 'Bucaramanga',\n",
       "       'California', 'Carcasí', 'Cepitá', 'Chipatá', 'Cimitarra',\n",
       "       'Confines', 'Coromoro', 'Curití', 'El Carmen de Chucurí',\n",
       "       'El Guacamayo', 'El Playón', 'Floridablanca', 'Galán', 'Girón',\n",
       "       'Guaca', 'Guapotá', 'Guavatá', 'Hato', 'La Belleza', 'Landázuri',\n",
       "       'Lebrija', 'Los Santos', 'Matanza', 'Mogotes', 'Málaga', 'Oiba',\n",
       "       'Onzaga', 'Piedecuesta', 'Pinchote', 'Puerto Parra',\n",
       "       'Puerto Wilches', 'Páramo', 'Sabana de Torres', 'San Benito',\n",
       "       'San Gil', 'San Joaquín', 'San José de Miranda',\n",
       "       'San Vicente de Chucurí', 'Santa Helena del Opón', 'Socorro',\n",
       "       'Suaita', 'Tona', 'Valle de San José', 'Vetas', 'Vélez',\n",
       "       'Zapatoca', 'Caimito', 'Chalán', 'Coloso', 'Corozal', 'Coveñas',\n",
       "       'El Roble', 'Galeras', 'Guaranda', 'Los Palmitos', 'Majagual',\n",
       "       'Morroa', 'Ovejas', 'Palmito', 'Sampués', 'San Juan de Betulia',\n",
       "       'San Luis de Sincé', 'San Marcos', 'San Onofre', 'San Pedro',\n",
       "       'Santiago de Tolú', 'Sincelejo', 'Tolú Viejo', 'Alpujarra',\n",
       "       'Alvarado', 'Ambalema', 'Anzoátegui', 'Armero', 'Ataco',\n",
       "       'Cajamarca', 'Carmen de Apicalá', 'Casabianca', 'Chaparral',\n",
       "       'Coyaima', 'Dolores', 'Espinal', 'Flandes', 'Fresno', 'Guamo',\n",
       "       'Herveo', 'Honda', 'Ibagué', 'Icononzo', 'Lérida', 'Líbano',\n",
       "       'Melgar', 'Natagaima', 'Ortega', 'Palocabildo', 'Piedras',\n",
       "       'Planadas', 'Prado', 'Purificación', 'Rioblanco', 'Rovira',\n",
       "       'Saldaña', 'San Antonio', 'Valle de San Juan', 'Venadillo',\n",
       "       'Villarrica', 'Alcalá', 'Andalucía', 'Ansermanuevo',\n",
       "       'Bugalagrande', 'Caicedonia', 'Cali', 'Calima', 'Cartago', 'Dagua',\n",
       "       'El Cairo', 'El Cerrito', 'El Dovio', 'El Águila', 'Florida',\n",
       "       'Ginebra', 'Guacarí', 'Guadalajara de Buga', 'Jamundí',\n",
       "       'La Cumbre', 'La Victoria', 'Obando', 'Palmira', 'Pradera',\n",
       "       'Roldanillo', 'Sevilla', 'Toro', 'Trujillo', 'Tuluá', 'Ulloa',\n",
       "       'Versalles', 'Vijes', 'Yotoco', 'Yumbo', 'Zarzal', 'Mitú',\n",
       "       'Taraira', 'La Primavera', 'Puerto Carreño'], dtype=object)"
      ]
     },
     "execution_count": 258,
     "metadata": {},
     "output_type": "execute_result"
    }
   ],
   "source": [
    "Tasas['Municipio'].unique()\n",
    "\n"
   ]
  },
  {
   "cell_type": "code",
   "execution_count": 259,
   "metadata": {},
   "outputs": [],
   "source": [
    "Casos_a_Fecha = Tasas.groupby(['Dpto', 'Municipio'])[['Fecha de notificación', 'Fecha de muerte',\n",
    "        'Fecha recuperado']].count().loc[[departamento, municipio]]"
   ]
  },
  {
   "cell_type": "code",
   "execution_count": 260,
   "metadata": {},
   "outputs": [],
   "source": [
    "Cuadro_Tasas = pd.merge(Casos_a_Fecha, Col, left_index=True, right_index=True)"
   ]
  },
  {
   "cell_type": "code",
   "execution_count": 261,
   "metadata": {},
   "outputs": [],
   "source": [
    "Cuadro_Tasas.rename({'Fecha de notificación':'Total casos', \n",
    "                     'Fecha de muerte':'Fallecidos', \n",
    "                     'Fecha recuperado': 'Recuperados', \n",
    "                     '2020': 'Población'}, axis = 'columns', inplace=True)"
   ]
  },
  {
   "cell_type": "code",
   "execution_count": 262,
   "metadata": {},
   "outputs": [],
   "source": [
    "Cuadro_Tasas['Tasa de letalidad por 100 habitantes'] = (Cuadro_Tasas['Fallecidos']/Cuadro_Tasas['Total casos'])*100\n",
    "Cuadro_Tasas['Tasa de mortalidad por 100.000 habitantes'] = (Cuadro_Tasas['Fallecidos']/Cuadro_Tasas['Población'])*100000"
   ]
  },
  {
   "cell_type": "markdown",
   "metadata": {},
   "source": [
    "#### Tasas de letalidad y de mortalidad por Departamento o Municipio"
   ]
  },
  {
   "cell_type": "code",
   "execution_count": 263,
   "metadata": {
    "scrolled": false
   },
   "outputs": [
    {
     "data": {
      "text/html": [
       "<div>\n",
       "<style scoped>\n",
       "    .dataframe tbody tr th:only-of-type {\n",
       "        vertical-align: middle;\n",
       "    }\n",
       "\n",
       "    .dataframe tbody tr th {\n",
       "        vertical-align: top;\n",
       "    }\n",
       "\n",
       "    .dataframe thead th {\n",
       "        text-align: right;\n",
       "    }\n",
       "</style>\n",
       "<table border=\"1\" class=\"dataframe\">\n",
       "  <thead>\n",
       "    <tr style=\"text-align: right;\">\n",
       "      <th></th>\n",
       "      <th></th>\n",
       "      <th>Total casos</th>\n",
       "      <th>Fallecidos</th>\n",
       "      <th>Recuperados</th>\n",
       "      <th>Población</th>\n",
       "      <th>Tasa de letalidad por 100 habitantes</th>\n",
       "      <th>Tasa de mortalidad por 100.000 habitantes</th>\n",
       "    </tr>\n",
       "    <tr>\n",
       "      <th>Dpto</th>\n",
       "      <th>Municipio</th>\n",
       "      <th></th>\n",
       "      <th></th>\n",
       "      <th></th>\n",
       "      <th></th>\n",
       "      <th></th>\n",
       "      <th></th>\n",
       "    </tr>\n",
       "  </thead>\n",
       "  <tbody>\n",
       "    <tr>\n",
       "      <th>Barranquilla D.E.</th>\n",
       "      <th>Barranquilla</th>\n",
       "      <td>32892</td>\n",
       "      <td>1595</td>\n",
       "      <td>26015</td>\n",
       "      <td>1274250</td>\n",
       "      <td>4.85</td>\n",
       "      <td>125.17</td>\n",
       "    </tr>\n",
       "  </tbody>\n",
       "</table>\n",
       "</div>"
      ],
      "text/plain": [
       "                                Total casos  Fallecidos  Recuperados  \\\n",
       "Dpto              Municipio                                            \n",
       "Barranquilla D.E. Barranquilla        32892        1595        26015   \n",
       "\n",
       "                                Población  \\\n",
       "Dpto              Municipio                 \n",
       "Barranquilla D.E. Barranquilla    1274250   \n",
       "\n",
       "                                Tasa de letalidad por 100 habitantes  \\\n",
       "Dpto              Municipio                                            \n",
       "Barranquilla D.E. Barranquilla                                  4.85   \n",
       "\n",
       "                                Tasa de mortalidad por 100.000 habitantes  \n",
       "Dpto              Municipio                                                \n",
       "Barranquilla D.E. Barranquilla                                     125.17  "
      ]
     },
     "execution_count": 263,
     "metadata": {},
     "output_type": "execute_result"
    }
   ],
   "source": [
    "Cuadro_Tasas"
   ]
  },
  {
   "cell_type": "code",
   "execution_count": 264,
   "metadata": {},
   "outputs": [],
   "source": [
    "if departamento == '' and municipio== '':\n",
    "    print('Debe ingresar mínimo el Departamento.  Inténtelo nuevamente')\n",
    "    pass\n",
    "else:\n",
    "    if municipio == '':\n",
    "        Total_casos = Cuadro_Tasas.loc[departamento, 'Total casos'].astype(int) \n",
    "        Fallecidos_dpto_munic = Cuadro_Tasas.loc[(departamento), 'Fallecidos'].astype(int)\n",
    "        Poblacion_dpto_munic = Cuadro_Tasas.loc[(departamento), 'Población'].astype(int)\n",
    "    \n",
    "    else:\n",
    "        Total_casos = Cuadro_Tasas.loc[(departamento, municipio), 'Total casos'].astype(int)\n",
    "        Fallecidos_dpto_munic = Cuadro_Tasas.loc[(departamento, municipio), 'Fallecidos'].astype(int)\n",
    "        Poblacion_dpto_munic = Cuadro_Tasas.loc[(departamento, municipio), 'Población'].astype(int)\n",
    "    "
   ]
  },
  {
   "cell_type": "code",
   "execution_count": 265,
   "metadata": {},
   "outputs": [],
   "source": [
    "#total_casos_covid_colombia"
   ]
  },
  {
   "cell_type": "markdown",
   "metadata": {},
   "source": [
    "#### Fallecidos por municipio"
   ]
  },
  {
   "cell_type": "code",
   "execution_count": 266,
   "metadata": {},
   "outputs": [
    {
     "data": {
      "text/plain": [
       "Municipio\n",
       "Barranquilla    1595\n",
       "Name: Fallecidos, dtype: int64"
      ]
     },
     "execution_count": 266,
     "metadata": {},
     "output_type": "execute_result"
    }
   ],
   "source": [
    "Fallecidos_dpto_munic    "
   ]
  },
  {
   "cell_type": "markdown",
   "metadata": {},
   "source": [
    "#### Población por municipio  (municipios afectados por CoV-2)"
   ]
  },
  {
   "cell_type": "code",
   "execution_count": 267,
   "metadata": {},
   "outputs": [],
   "source": [
    "#Fallecidos_pais"
   ]
  },
  {
   "cell_type": "code",
   "execution_count": 268,
   "metadata": {},
   "outputs": [
    {
     "data": {
      "text/plain": [
       "Municipio\n",
       "Barranquilla    1274250\n",
       "Name: Población, dtype: int64"
      ]
     },
     "execution_count": 268,
     "metadata": {},
     "output_type": "execute_result"
    }
   ],
   "source": [
    "Poblacion_dpto_munic"
   ]
  },
  {
   "cell_type": "markdown",
   "metadata": {},
   "source": [
    "#### Total población en áreas afectadas del departamento o municipio"
   ]
  },
  {
   "cell_type": "code",
   "execution_count": 269,
   "metadata": {},
   "outputs": [
    {
     "data": {
      "text/plain": [
       "1274250"
      ]
     },
     "execution_count": 269,
     "metadata": {},
     "output_type": "execute_result"
    }
   ],
   "source": [
    "Poblacion_dpto_munic.sum()"
   ]
  },
  {
   "cell_type": "markdown",
   "metadata": {},
   "source": [
    "#### Población Departamental o Municipal "
   ]
  },
  {
   "cell_type": "code",
   "execution_count": 270,
   "metadata": {},
   "outputs": [
    {
     "data": {
      "text/plain": [
       "1274250"
      ]
     },
     "execution_count": 270,
     "metadata": {},
     "output_type": "execute_result"
    }
   ],
   "source": [
    "poblacionDpto = Col.loc[(departamento),'2020'].sum()\n",
    "poblacionDpto"
   ]
  },
  {
   "cell_type": "code",
   "execution_count": 271,
   "metadata": {},
   "outputs": [],
   "source": [
    "#Poblacion_pais"
   ]
  },
  {
   "cell_type": "markdown",
   "metadata": {},
   "source": [
    "#### Casos por municipio"
   ]
  },
  {
   "cell_type": "code",
   "execution_count": 272,
   "metadata": {},
   "outputs": [
    {
     "data": {
      "text/plain": [
       "Municipio\n",
       "Barranquilla    32892\n",
       "Name: Total casos, dtype: int64"
      ]
     },
     "execution_count": 272,
     "metadata": {},
     "output_type": "execute_result"
    }
   ],
   "source": [
    "Total_casos"
   ]
  },
  {
   "cell_type": "markdown",
   "metadata": {},
   "source": [
    "#### Casos en el departamento"
   ]
  },
  {
   "cell_type": "code",
   "execution_count": 273,
   "metadata": {},
   "outputs": [
    {
     "data": {
      "text/plain": [
       "32892"
      ]
     },
     "execution_count": 273,
     "metadata": {},
     "output_type": "execute_result"
    }
   ],
   "source": [
    "Total_casos_dpto = Total_casos.sum()\n",
    "\n",
    "Total_casos_dpto"
   ]
  },
  {
   "cell_type": "markdown",
   "metadata": {},
   "source": [
    "#### Resumen situacional"
   ]
  },
  {
   "cell_type": "code",
   "execution_count": 274,
   "metadata": {},
   "outputs": [],
   "source": [
    "hoy = pd.Timestamp.today()\n"
   ]
  },
  {
   "cell_type": "code",
   "execution_count": 275,
   "metadata": {},
   "outputs": [
    {
     "name": "stdout",
     "output_type": "stream",
     "text": [
      "Según datos reportados al  2020-08-10 16:56:43.648630  por el INS Colombiano, de los 32892 casos de Barranquilla D.E., 65 casos, es decir el 0.2 %, está en condición: Estado Grave y representan el 0.005101 %  de los 1274250 habitantes de Barranquilla D.E.\n",
      "La tasa de mortalidad en los municipios del Departamento de Barranquilla D.E. por cien mil habitantes es: Municipio\n",
      "Barranquilla    125.17\n",
      "Name: Fallecidos, dtype: float64\n",
      "La tasa de letalidad en los municipios del Departamento de Barranquilla D.E. por cien enfermos de CoVid-19, es: Municipio\n",
      "Barranquilla    4.85\n",
      "dtype: float64\n",
      "La tasa de mortalidad de Colombia por CoV-2 es de 265.4 por millón de habitantes. \n",
      "\n",
      "La tasa de letalidad de Colombia por CoV-2 es de 3.48 por cien enfermos de CoVid-19. \n",
      "\n"
     ]
    }
   ],
   "source": [
    "filtro= Tasas[variable_buscar]== estado\n",
    "if municipio == '':\n",
    "    Cuadro_filtrados = Tasas.loc[filtro, 'Atención': 'Tipo recuperación'].loc[(Tasas['Dpto'] == departamento)]\n",
    "    numero_estados= Cuadro_filtrados.loc[:, variable_buscar].count()\n",
    "    print('Según datos reportados al ', hoy, ' por el INS Colombiano, de los ' + str(Total_casos_dpto)\n",
    "          + ' casos de '+ departamento + ', ' + str(numero_estados) +' casos, es decir el '\n",
    "          + str(((numero_estados/Total_casos_dpto)*100).round(2))+' %, está en condición: '\n",
    "          + variable_buscar + ' ' + estado + ' y representan el ' \n",
    "          + str(((numero_estados/Col.loc[(departamento),'2020'].sum())*100).round(6)) \n",
    "          + ' %  de los '+ str(Col.loc[(departamento),'2020'].sum()) + ' habitantes de ' + departamento)\n",
    "   \n",
    "    print('La tasa de mortalidad en los municipios del Departamento de ' + departamento + ' por cien mil habitantes es: '\n",
    "          + str(((Fallecidos_dpto_munic/poblacionDpto)*100000).round(2)))\n",
    "    \n",
    "    print('La tasa de letalidad en los municipios del Departamento de ' + departamento + \n",
    "          ' por cien enfermos de CoVid-19, es: ' + str(((Fallecidos_dpto_munic/Total_casos)*100).round(2)))\n",
    "\n",
    "else:\n",
    "    Cuadro_filtrados = Tasas.loc[filtro, 'Atención': 'Tipo recuperación'].loc[(Tasas['Dpto'] == departamento) & (Tasas['Municipio']== municipio)]\n",
    "    numero_estados= Cuadro_filtrados.loc[:, variable_buscar].count()\n",
    "    print('Según datos reportados al', hoy, 'por el INS Colombiano, de los ' + str(Total_casos) + ' casos de '+ municipio + ', ' \n",
    "          + str(numero_estados) +' casos, es decir el '+ str(((numero_estados/Total_casos)*100).round(2))\n",
    "          +' %, están en '+ variable_buscar + ': ' + estado + ' y representan el '\n",
    "          + str(((numero_estados/Poblacion_dpto_munic.sum())*100).round(6)) \n",
    "          + ' % de los ' + str(Poblacion_dpto_munic.sum()) + ' habitantes de ' + municipio +'.','\\n')\n",
    "    \n",
    "    print('La tasa de letalidad en el municipio de '+ municipio + ',' + ' Departamento de ' \n",
    "          + departamento + ' es de ' + str(((Fallecidos_dpto_munic/Total_casos)*100).round(2)) \n",
    "          + ' por cien enfermos de CoVid-19.','\\n')\n",
    "    \n",
    "    print('La tasa de mortalidad en el municipio de '+ municipio + ',' + ' Departamento de ' \n",
    "          + departamento + ' es de ' + str(((Fallecidos_dpto_munic/Poblacion_dpto_munic)*100000).round(2)) \n",
    "          + ' por cien mil habitantes.','\\n')\n",
    "    \n",
    "print('La tasa de mortalidad de ' + pais+ ' por CoV-2 ' + 'es de ' + str(((Fallecidos_pais/Poblacion_pais)*1000000).round(1))+ ' por millón de habitantes.','\\n')\n",
    "\n",
    "print('La tasa de letalidad de '+pais+ ' por CoV-2 ' + 'es de ' + str(((Fallecidos_pais/total_casos_covid_colombia)*100).round(2))+ ' por cien enfermos de CoVid-19.','\\n')"
   ]
  },
  {
   "cell_type": "code",
   "execution_count": null,
   "metadata": {},
   "outputs": [],
   "source": []
  }
 ],
 "metadata": {
  "hide_input": true,
  "kernelspec": {
   "display_name": "Python 3",
   "language": "python",
   "name": "python3"
  },
  "language_info": {
   "codemirror_mode": {
    "name": "ipython",
    "version": 3
   },
   "file_extension": ".py",
   "mimetype": "text/x-python",
   "name": "python",
   "nbconvert_exporter": "python",
   "pygments_lexer": "ipython3",
   "version": "3.7.0"
  }
 },
 "nbformat": 4,
 "nbformat_minor": 4
}
