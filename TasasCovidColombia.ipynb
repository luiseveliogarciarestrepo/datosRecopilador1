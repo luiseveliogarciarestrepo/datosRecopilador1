{
 "cells": [
  {
   "cell_type": "code",
   "execution_count": 1,
   "metadata": {},
   "outputs": [],
   "source": [
    "import pandas as pd"
   ]
  },
  {
   "cell_type": "markdown",
   "metadata": {},
   "source": [
    "#### Definir número de dígitos"
   ]
  },
  {
   "cell_type": "code",
   "execution_count": 2,
   "metadata": {},
   "outputs": [],
   "source": [
    "pd.set_option(\"display.precision\", 2)"
   ]
  },
  {
   "cell_type": "markdown",
   "metadata": {},
   "source": [
    "#### Lectura de archivos"
   ]
  },
  {
   "cell_type": "code",
   "execution_count": 3,
   "metadata": {},
   "outputs": [],
   "source": [
    "mundo= pd.read_csv('poblacionMundial.csv')"
   ]
  },
  {
   "cell_type": "code",
   "execution_count": 4,
   "metadata": {},
   "outputs": [],
   "source": [
    "covMun= pd.read_csv('CovidMundo.csv')"
   ]
  },
  {
   "cell_type": "code",
   "execution_count": 5,
   "metadata": {},
   "outputs": [],
   "source": [
    "mundo.set_index('Spanish', inplace=True)"
   ]
  },
  {
   "cell_type": "code",
   "execution_count": 6,
   "metadata": {},
   "outputs": [],
   "source": [
    "covCol = pd.read_csv('CovidColombia.csv', usecols= ['Fecha de notificación', \n",
    "       'Ciudad de ubicación', 'Departamento o Distrito ', 'atención', 'Edad',\n",
    "       'Sexo', 'Tipo', 'Estado', 'País de procedencia', 'Fecha de muerte', \n",
    "       'Fecha diagnostico', 'Fecha recuperado','Tipo recuperación'], low_memory=False)"
   ]
  },
  {
   "cell_type": "code",
   "execution_count": 7,
   "metadata": {},
   "outputs": [],
   "source": [
    "Col = pd.read_csv('Dane2018_2023.csv').drop(columns = ['2018',\n",
    "       '2019','2021', '2022', '2023' ])"
   ]
  },
  {
   "cell_type": "markdown",
   "metadata": {},
   "source": [
    "#### Convertir fechas a type \"datetime\""
   ]
  },
  {
   "cell_type": "code",
   "execution_count": 8,
   "metadata": {},
   "outputs": [],
   "source": [
    "fechas =['Fecha de notificación', 'Fecha de muerte', 'Fecha diagnostico',\n",
    "       'Fecha recuperado']\n",
    "for i in fechas:\n",
    "    covCol[i] = pd.to_datetime(covCol[i])"
   ]
  },
  {
   "cell_type": "markdown",
   "metadata": {},
   "source": [
    "#### Variables a ingresar"
   ]
  },
  {
   "cell_type": "code",
   "execution_count": 9,
   "metadata": {},
   "outputs": [],
   "source": [
    "pais = 'Colombia'\n",
    "\n",
    "departamento = 'Caldas'\n",
    "\n",
    "municipio = 'Manizales'\n",
    "\n",
    "variable_buscar = 'Atención'  # puede ser 'Atención' o 'Estado'\n",
    "\n",
    "estado = 'Hospital UCI'  # Si atención:  ['Recuperado', 'Hospital', 'Hospital UCI', nan, 'Casa']\n",
    "                   # Si Estado:   ['Leve', 'Asintomático', 'Fallecido', 'Moderado', 'Grave', nan]\n",
    "\n",
    "ano = '2020'"
   ]
  },
  {
   "cell_type": "markdown",
   "metadata": {},
   "source": [
    "#### Poblaciones"
   ]
  },
  {
   "cell_type": "code",
   "execution_count": 10,
   "metadata": {},
   "outputs": [],
   "source": [
    "Poblacion_pais = mundo.loc[pais, ano]"
   ]
  },
  {
   "cell_type": "code",
   "execution_count": 11,
   "metadata": {},
   "outputs": [],
   "source": [
    "total_casos_covid_colombia = covCol['Fecha de notificación'].count()\n"
   ]
  },
  {
   "cell_type": "code",
   "execution_count": 12,
   "metadata": {},
   "outputs": [],
   "source": [
    "Fallecidos_pais = covCol['Fecha de muerte'].count()"
   ]
  },
  {
   "cell_type": "markdown",
   "metadata": {},
   "source": [
    "#### Seleccionar totales;  igualar nombre de Series seleccionadas en las dataFrame; establecer índice y subíndice."
   ]
  },
  {
   "cell_type": "code",
   "execution_count": 13,
   "metadata": {},
   "outputs": [],
   "source": [
    "filtro = Col['Género'] == 'AMBOS SEXOS'\n",
    "Col = Col.loc[filtro, :].drop(columns=['Género'])"
   ]
  },
  {
   "cell_type": "code",
   "execution_count": 14,
   "metadata": {},
   "outputs": [],
   "source": [
    "Col.set_index(['Dpto', 'Municipio'], inplace=True)"
   ]
  },
  {
   "cell_type": "code",
   "execution_count": 15,
   "metadata": {},
   "outputs": [],
   "source": [
    "covCol.rename(columns={\"Departamento o Distrito \": \"Dpto\", \"Ciudad de ubicación\": \"Municipio\", \"atención\":\"Atención\", \"Fecha diagnostico\":\"Fecha diagnóstico\"}, inplace=True)"
   ]
  },
  {
   "cell_type": "code",
   "execution_count": 16,
   "metadata": {},
   "outputs": [],
   "source": [
    "covCol.set_index(['Dpto', 'Municipio'], inplace = True)"
   ]
  },
  {
   "cell_type": "markdown",
   "metadata": {},
   "source": [
    "#### Unir las dataFrames"
   ]
  },
  {
   "cell_type": "code",
   "execution_count": 17,
   "metadata": {
    "scrolled": true
   },
   "outputs": [],
   "source": [
    "Tasas = pd.merge(covCol, Col, left_index=True, right_index=True)"
   ]
  },
  {
   "cell_type": "code",
   "execution_count": 18,
   "metadata": {},
   "outputs": [],
   "source": [
    "Tasas = Tasas.reset_index()"
   ]
  },
  {
   "cell_type": "code",
   "execution_count": 19,
   "metadata": {},
   "outputs": [
    {
     "data": {
      "text/html": [
       "<div>\n",
       "<style scoped>\n",
       "    .dataframe tbody tr th:only-of-type {\n",
       "        vertical-align: middle;\n",
       "    }\n",
       "\n",
       "    .dataframe tbody tr th {\n",
       "        vertical-align: top;\n",
       "    }\n",
       "\n",
       "    .dataframe thead th {\n",
       "        text-align: right;\n",
       "    }\n",
       "</style>\n",
       "<table border=\"1\" class=\"dataframe\">\n",
       "  <thead>\n",
       "    <tr style=\"text-align: right;\">\n",
       "      <th></th>\n",
       "      <th>Dpto</th>\n",
       "      <th>Municipio</th>\n",
       "      <th>Fecha de notificación</th>\n",
       "      <th>Atención</th>\n",
       "      <th>Edad</th>\n",
       "      <th>Sexo</th>\n",
       "      <th>Tipo</th>\n",
       "      <th>Estado</th>\n",
       "      <th>País de procedencia</th>\n",
       "      <th>Fecha de muerte</th>\n",
       "      <th>Fecha diagnóstico</th>\n",
       "      <th>Fecha recuperado</th>\n",
       "      <th>Tipo recuperación</th>\n",
       "      <th>2020</th>\n",
       "    </tr>\n",
       "  </thead>\n",
       "  <tbody>\n",
       "    <tr>\n",
       "      <th>0</th>\n",
       "      <td>Amazonas</td>\n",
       "      <td>Leticia</td>\n",
       "      <td>2020-04-14</td>\n",
       "      <td>Recuperado</td>\n",
       "      <td>26</td>\n",
       "      <td>M</td>\n",
       "      <td>Relacionado</td>\n",
       "      <td>Leve</td>\n",
       "      <td>NaN</td>\n",
       "      <td>NaT</td>\n",
       "      <td>2020-04-17</td>\n",
       "      <td>2020-05-19</td>\n",
       "      <td>PCR</td>\n",
       "      <td>49737</td>\n",
       "    </tr>\n",
       "    <tr>\n",
       "      <th>1</th>\n",
       "      <td>Amazonas</td>\n",
       "      <td>Leticia</td>\n",
       "      <td>2020-04-13</td>\n",
       "      <td>Recuperado</td>\n",
       "      <td>47</td>\n",
       "      <td>F</td>\n",
       "      <td>Importado</td>\n",
       "      <td>Leve</td>\n",
       "      <td>BRASIL</td>\n",
       "      <td>NaT</td>\n",
       "      <td>2020-04-18</td>\n",
       "      <td>2020-05-31</td>\n",
       "      <td>Tiempo</td>\n",
       "      <td>49737</td>\n",
       "    </tr>\n",
       "    <tr>\n",
       "      <th>2</th>\n",
       "      <td>Amazonas</td>\n",
       "      <td>Leticia</td>\n",
       "      <td>2020-04-14</td>\n",
       "      <td>Recuperado</td>\n",
       "      <td>16</td>\n",
       "      <td>F</td>\n",
       "      <td>Relacionado</td>\n",
       "      <td>Leve</td>\n",
       "      <td>NaN</td>\n",
       "      <td>NaT</td>\n",
       "      <td>2020-04-18</td>\n",
       "      <td>2020-05-29</td>\n",
       "      <td>PCR</td>\n",
       "      <td>49737</td>\n",
       "    </tr>\n",
       "    <tr>\n",
       "      <th>3</th>\n",
       "      <td>Amazonas</td>\n",
       "      <td>Leticia</td>\n",
       "      <td>2020-04-14</td>\n",
       "      <td>Recuperado</td>\n",
       "      <td>41</td>\n",
       "      <td>F</td>\n",
       "      <td>Importado</td>\n",
       "      <td>Leve</td>\n",
       "      <td>BRASIL</td>\n",
       "      <td>NaT</td>\n",
       "      <td>2020-04-18</td>\n",
       "      <td>2020-05-29</td>\n",
       "      <td>PCR</td>\n",
       "      <td>49737</td>\n",
       "    </tr>\n",
       "    <tr>\n",
       "      <th>4</th>\n",
       "      <td>Amazonas</td>\n",
       "      <td>Leticia</td>\n",
       "      <td>2020-04-16</td>\n",
       "      <td>Recuperado</td>\n",
       "      <td>54</td>\n",
       "      <td>M</td>\n",
       "      <td>Relacionado</td>\n",
       "      <td>Leve</td>\n",
       "      <td>NaN</td>\n",
       "      <td>NaT</td>\n",
       "      <td>2020-04-21</td>\n",
       "      <td>2020-04-29</td>\n",
       "      <td>PCR</td>\n",
       "      <td>49737</td>\n",
       "    </tr>\n",
       "    <tr>\n",
       "      <th>...</th>\n",
       "      <td>...</td>\n",
       "      <td>...</td>\n",
       "      <td>...</td>\n",
       "      <td>...</td>\n",
       "      <td>...</td>\n",
       "      <td>...</td>\n",
       "      <td>...</td>\n",
       "      <td>...</td>\n",
       "      <td>...</td>\n",
       "      <td>...</td>\n",
       "      <td>...</td>\n",
       "      <td>...</td>\n",
       "      <td>...</td>\n",
       "      <td>...</td>\n",
       "    </tr>\n",
       "    <tr>\n",
       "      <th>100185</th>\n",
       "      <td>Vaupés</td>\n",
       "      <td>Taraira</td>\n",
       "      <td>2020-07-12</td>\n",
       "      <td>Casa</td>\n",
       "      <td>42</td>\n",
       "      <td>F</td>\n",
       "      <td>Relacionado</td>\n",
       "      <td>Leve</td>\n",
       "      <td>NaN</td>\n",
       "      <td>NaT</td>\n",
       "      <td>2020-07-13</td>\n",
       "      <td>NaT</td>\n",
       "      <td>NaN</td>\n",
       "      <td>2423</td>\n",
       "    </tr>\n",
       "    <tr>\n",
       "      <th>100186</th>\n",
       "      <td>Vaupés</td>\n",
       "      <td>Taraira</td>\n",
       "      <td>2020-07-12</td>\n",
       "      <td>Casa</td>\n",
       "      <td>2</td>\n",
       "      <td>M</td>\n",
       "      <td>Relacionado</td>\n",
       "      <td>Leve</td>\n",
       "      <td>NaN</td>\n",
       "      <td>NaT</td>\n",
       "      <td>2020-07-13</td>\n",
       "      <td>NaT</td>\n",
       "      <td>NaN</td>\n",
       "      <td>2423</td>\n",
       "    </tr>\n",
       "    <tr>\n",
       "      <th>100187</th>\n",
       "      <td>Vaupés</td>\n",
       "      <td>Taraira</td>\n",
       "      <td>2020-07-12</td>\n",
       "      <td>Casa</td>\n",
       "      <td>27</td>\n",
       "      <td>M</td>\n",
       "      <td>Relacionado</td>\n",
       "      <td>Leve</td>\n",
       "      <td>NaN</td>\n",
       "      <td>NaT</td>\n",
       "      <td>2020-07-13</td>\n",
       "      <td>NaT</td>\n",
       "      <td>NaN</td>\n",
       "      <td>2423</td>\n",
       "    </tr>\n",
       "    <tr>\n",
       "      <th>100188</th>\n",
       "      <td>Vichada</td>\n",
       "      <td>La Primavera</td>\n",
       "      <td>2020-07-15</td>\n",
       "      <td>Hospital</td>\n",
       "      <td>78</td>\n",
       "      <td>F</td>\n",
       "      <td>En estudio</td>\n",
       "      <td>Moderado</td>\n",
       "      <td>NaN</td>\n",
       "      <td>NaT</td>\n",
       "      <td>2020-07-17</td>\n",
       "      <td>NaT</td>\n",
       "      <td>NaN</td>\n",
       "      <td>9608</td>\n",
       "    </tr>\n",
       "    <tr>\n",
       "      <th>100189</th>\n",
       "      <td>Vichada</td>\n",
       "      <td>Puerto Carreño</td>\n",
       "      <td>2020-05-29</td>\n",
       "      <td>Recuperado</td>\n",
       "      <td>20</td>\n",
       "      <td>M</td>\n",
       "      <td>En estudio</td>\n",
       "      <td>Asintomático</td>\n",
       "      <td>NaN</td>\n",
       "      <td>NaT</td>\n",
       "      <td>2020-05-29</td>\n",
       "      <td>2020-06-07</td>\n",
       "      <td>PCR</td>\n",
       "      <td>20294</td>\n",
       "    </tr>\n",
       "  </tbody>\n",
       "</table>\n",
       "<p>100190 rows × 14 columns</p>\n",
       "</div>"
      ],
      "text/plain": [
       "            Dpto       Municipio Fecha de notificación    Atención  Edad Sexo  \\\n",
       "0       Amazonas         Leticia            2020-04-14  Recuperado    26    M   \n",
       "1       Amazonas         Leticia            2020-04-13  Recuperado    47    F   \n",
       "2       Amazonas         Leticia            2020-04-14  Recuperado    16    F   \n",
       "3       Amazonas         Leticia            2020-04-14  Recuperado    41    F   \n",
       "4       Amazonas         Leticia            2020-04-16  Recuperado    54    M   \n",
       "...          ...             ...                   ...         ...   ...  ...   \n",
       "100185    Vaupés         Taraira            2020-07-12        Casa    42    F   \n",
       "100186    Vaupés         Taraira            2020-07-12        Casa     2    M   \n",
       "100187    Vaupés         Taraira            2020-07-12        Casa    27    M   \n",
       "100188   Vichada    La Primavera            2020-07-15    Hospital    78    F   \n",
       "100189   Vichada  Puerto Carreño            2020-05-29  Recuperado    20    M   \n",
       "\n",
       "               Tipo        Estado País de procedencia Fecha de muerte  \\\n",
       "0       Relacionado          Leve                 NaN             NaT   \n",
       "1         Importado          Leve              BRASIL             NaT   \n",
       "2       Relacionado          Leve                 NaN             NaT   \n",
       "3         Importado          Leve              BRASIL             NaT   \n",
       "4       Relacionado          Leve                 NaN             NaT   \n",
       "...             ...           ...                 ...             ...   \n",
       "100185  Relacionado          Leve                 NaN             NaT   \n",
       "100186  Relacionado          Leve                 NaN             NaT   \n",
       "100187  Relacionado          Leve                 NaN             NaT   \n",
       "100188   En estudio      Moderado                 NaN             NaT   \n",
       "100189   En estudio  Asintomático                 NaN             NaT   \n",
       "\n",
       "       Fecha diagnóstico Fecha recuperado Tipo recuperación   2020  \n",
       "0             2020-04-17       2020-05-19               PCR  49737  \n",
       "1             2020-04-18       2020-05-31            Tiempo  49737  \n",
       "2             2020-04-18       2020-05-29               PCR  49737  \n",
       "3             2020-04-18       2020-05-29               PCR  49737  \n",
       "4             2020-04-21       2020-04-29               PCR  49737  \n",
       "...                  ...              ...               ...    ...  \n",
       "100185        2020-07-13              NaT               NaN   2423  \n",
       "100186        2020-07-13              NaT               NaN   2423  \n",
       "100187        2020-07-13              NaT               NaN   2423  \n",
       "100188        2020-07-17              NaT               NaN   9608  \n",
       "100189        2020-05-29       2020-06-07               PCR  20294  \n",
       "\n",
       "[100190 rows x 14 columns]"
      ]
     },
     "execution_count": 19,
     "metadata": {},
     "output_type": "execute_result"
    }
   ],
   "source": [
    "Tasas"
   ]
  },
  {
   "cell_type": "markdown",
   "metadata": {},
   "source": [
    "####  Agrupar por Departamento o Municipio para hacer dataFrame con Total casos, Fallecidos y Recuperados"
   ]
  },
  {
   "cell_type": "code",
   "execution_count": 20,
   "metadata": {},
   "outputs": [],
   "source": [
    "Casos_a_Fecha = Tasas.groupby(['Dpto', 'Municipio'])[['Fecha de notificación', 'Fecha de muerte',\n",
    "        'Fecha recuperado']].count().loc[[departamento, municipio]]"
   ]
  },
  {
   "cell_type": "code",
   "execution_count": 21,
   "metadata": {},
   "outputs": [],
   "source": [
    "Cuadro_Tasas = pd.merge(Casos_a_Fecha, Col, left_index=True, right_index=True)"
   ]
  },
  {
   "cell_type": "code",
   "execution_count": 22,
   "metadata": {},
   "outputs": [],
   "source": [
    "Cuadro_Tasas.rename({'Fecha de notificación':'Total casos', \n",
    "                     'Fecha de muerte':'Fallecidos', \n",
    "                     'Fecha recuperado': 'Recuperados', \n",
    "                     '2020': 'Población'}, axis = 'columns', inplace=True)"
   ]
  },
  {
   "cell_type": "markdown",
   "metadata": {},
   "source": [
    "##### Agregando columnas de tasas de letalidad y de mortalidad"
   ]
  },
  {
   "cell_type": "code",
   "execution_count": 23,
   "metadata": {},
   "outputs": [],
   "source": [
    "Cuadro_Tasas['Tasa de letalidad por 100 habitantes'] = (Cuadro_Tasas['Fallecidos']/Cuadro_Tasas['Total casos'])*100\n",
    "Cuadro_Tasas['Tasa de mortalidad por 100.000 habitantes'] = (Cuadro_Tasas['Fallecidos']/Cuadro_Tasas['Población'])*100000"
   ]
  },
  {
   "cell_type": "code",
   "execution_count": 24,
   "metadata": {},
   "outputs": [
    {
     "data": {
      "text/html": [
       "<div>\n",
       "<style scoped>\n",
       "    .dataframe tbody tr th:only-of-type {\n",
       "        vertical-align: middle;\n",
       "    }\n",
       "\n",
       "    .dataframe tbody tr th {\n",
       "        vertical-align: top;\n",
       "    }\n",
       "\n",
       "    .dataframe thead th {\n",
       "        text-align: right;\n",
       "    }\n",
       "</style>\n",
       "<table border=\"1\" class=\"dataframe\">\n",
       "  <thead>\n",
       "    <tr style=\"text-align: right;\">\n",
       "      <th></th>\n",
       "      <th></th>\n",
       "      <th>Total casos</th>\n",
       "      <th>Fallecidos</th>\n",
       "      <th>Recuperados</th>\n",
       "      <th>Población</th>\n",
       "      <th>Tasa de letalidad por 100 habitantes</th>\n",
       "      <th>Tasa de mortalidad por 100.000 habitantes</th>\n",
       "    </tr>\n",
       "    <tr>\n",
       "      <th>Dpto</th>\n",
       "      <th>Municipio</th>\n",
       "      <th></th>\n",
       "      <th></th>\n",
       "      <th></th>\n",
       "      <th></th>\n",
       "      <th></th>\n",
       "      <th></th>\n",
       "    </tr>\n",
       "  </thead>\n",
       "  <tbody>\n",
       "    <tr>\n",
       "      <th rowspan=\"19\" valign=\"top\">Caldas</th>\n",
       "      <th>Aguadas</th>\n",
       "      <td>25</td>\n",
       "      <td>0</td>\n",
       "      <td>1</td>\n",
       "      <td>23048</td>\n",
       "      <td>0.00</td>\n",
       "      <td>0.00</td>\n",
       "    </tr>\n",
       "    <tr>\n",
       "      <th>Anserma</th>\n",
       "      <td>10</td>\n",
       "      <td>0</td>\n",
       "      <td>1</td>\n",
       "      <td>36691</td>\n",
       "      <td>0.00</td>\n",
       "      <td>0.00</td>\n",
       "    </tr>\n",
       "    <tr>\n",
       "      <th>Pácora</th>\n",
       "      <td>1</td>\n",
       "      <td>0</td>\n",
       "      <td>0</td>\n",
       "      <td>15324</td>\n",
       "      <td>0.00</td>\n",
       "      <td>0.00</td>\n",
       "    </tr>\n",
       "    <tr>\n",
       "      <th>Manizales</th>\n",
       "      <td>260</td>\n",
       "      <td>2</td>\n",
       "      <td>127</td>\n",
       "      <td>446160</td>\n",
       "      <td>0.77</td>\n",
       "      <td>0.45</td>\n",
       "    </tr>\n",
       "    <tr>\n",
       "      <th>Aranzazu</th>\n",
       "      <td>1</td>\n",
       "      <td>0</td>\n",
       "      <td>1</td>\n",
       "      <td>10556</td>\n",
       "      <td>0.00</td>\n",
       "      <td>0.00</td>\n",
       "    </tr>\n",
       "    <tr>\n",
       "      <th>Chinchiná</th>\n",
       "      <td>22</td>\n",
       "      <td>0</td>\n",
       "      <td>11</td>\n",
       "      <td>52267</td>\n",
       "      <td>0.00</td>\n",
       "      <td>0.00</td>\n",
       "    </tr>\n",
       "    <tr>\n",
       "      <th>Risaralda</th>\n",
       "      <td>1</td>\n",
       "      <td>0</td>\n",
       "      <td>1</td>\n",
       "      <td>10568</td>\n",
       "      <td>0.00</td>\n",
       "      <td>0.00</td>\n",
       "    </tr>\n",
       "    <tr>\n",
       "      <th>Supía</th>\n",
       "      <td>5</td>\n",
       "      <td>0</td>\n",
       "      <td>1</td>\n",
       "      <td>29363</td>\n",
       "      <td>0.00</td>\n",
       "      <td>0.00</td>\n",
       "    </tr>\n",
       "    <tr>\n",
       "      <th>Neira</th>\n",
       "      <td>8</td>\n",
       "      <td>0</td>\n",
       "      <td>1</td>\n",
       "      <td>21114</td>\n",
       "      <td>0.00</td>\n",
       "      <td>0.00</td>\n",
       "    </tr>\n",
       "    <tr>\n",
       "      <th>Viterbo</th>\n",
       "      <td>3</td>\n",
       "      <td>0</td>\n",
       "      <td>3</td>\n",
       "      <td>12853</td>\n",
       "      <td>0.00</td>\n",
       "      <td>0.00</td>\n",
       "    </tr>\n",
       "    <tr>\n",
       "      <th>Riosucio</th>\n",
       "      <td>10</td>\n",
       "      <td>0</td>\n",
       "      <td>5</td>\n",
       "      <td>51956</td>\n",
       "      <td>0.00</td>\n",
       "      <td>0.00</td>\n",
       "    </tr>\n",
       "    <tr>\n",
       "      <th>Palestina</th>\n",
       "      <td>1</td>\n",
       "      <td>0</td>\n",
       "      <td>0</td>\n",
       "      <td>15681</td>\n",
       "      <td>0.00</td>\n",
       "      <td>0.00</td>\n",
       "    </tr>\n",
       "    <tr>\n",
       "      <th>Marquetalia</th>\n",
       "      <td>8</td>\n",
       "      <td>0</td>\n",
       "      <td>7</td>\n",
       "      <td>13490</td>\n",
       "      <td>0.00</td>\n",
       "      <td>0.00</td>\n",
       "    </tr>\n",
       "    <tr>\n",
       "      <th>La Dorada</th>\n",
       "      <td>127</td>\n",
       "      <td>2</td>\n",
       "      <td>77</td>\n",
       "      <td>74006</td>\n",
       "      <td>1.57</td>\n",
       "      <td>2.70</td>\n",
       "    </tr>\n",
       "    <tr>\n",
       "      <th>Samaná</th>\n",
       "      <td>2</td>\n",
       "      <td>0</td>\n",
       "      <td>2</td>\n",
       "      <td>19967</td>\n",
       "      <td>0.00</td>\n",
       "      <td>0.00</td>\n",
       "    </tr>\n",
       "    <tr>\n",
       "      <th>Manzanares</th>\n",
       "      <td>13</td>\n",
       "      <td>1</td>\n",
       "      <td>2</td>\n",
       "      <td>17794</td>\n",
       "      <td>7.69</td>\n",
       "      <td>5.62</td>\n",
       "    </tr>\n",
       "    <tr>\n",
       "      <th>Marmato</th>\n",
       "      <td>25</td>\n",
       "      <td>0</td>\n",
       "      <td>1</td>\n",
       "      <td>9167</td>\n",
       "      <td>0.00</td>\n",
       "      <td>0.00</td>\n",
       "    </tr>\n",
       "    <tr>\n",
       "      <th>Villamaría</th>\n",
       "      <td>28</td>\n",
       "      <td>2</td>\n",
       "      <td>15</td>\n",
       "      <td>67429</td>\n",
       "      <td>7.14</td>\n",
       "      <td>2.97</td>\n",
       "    </tr>\n",
       "    <tr>\n",
       "      <th>Norcasia</th>\n",
       "      <td>1</td>\n",
       "      <td>1</td>\n",
       "      <td>0</td>\n",
       "      <td>6128</td>\n",
       "      <td>100.00</td>\n",
       "      <td>16.32</td>\n",
       "    </tr>\n",
       "  </tbody>\n",
       "</table>\n",
       "</div>"
      ],
      "text/plain": [
       "                    Total casos  Fallecidos  Recuperados  Población  \\\n",
       "Dpto   Municipio                                                      \n",
       "Caldas Aguadas               25           0            1      23048   \n",
       "       Anserma               10           0            1      36691   \n",
       "       Pácora                 1           0            0      15324   \n",
       "       Manizales            260           2          127     446160   \n",
       "       Aranzazu               1           0            1      10556   \n",
       "       Chinchiná             22           0           11      52267   \n",
       "       Risaralda              1           0            1      10568   \n",
       "       Supía                  5           0            1      29363   \n",
       "       Neira                  8           0            1      21114   \n",
       "       Viterbo                3           0            3      12853   \n",
       "       Riosucio              10           0            5      51956   \n",
       "       Palestina              1           0            0      15681   \n",
       "       Marquetalia            8           0            7      13490   \n",
       "       La Dorada            127           2           77      74006   \n",
       "       Samaná                 2           0            2      19967   \n",
       "       Manzanares            13           1            2      17794   \n",
       "       Marmato               25           0            1       9167   \n",
       "       Villamaría            28           2           15      67429   \n",
       "       Norcasia               1           1            0       6128   \n",
       "\n",
       "                    Tasa de letalidad por 100 habitantes  \\\n",
       "Dpto   Municipio                                           \n",
       "Caldas Aguadas                                      0.00   \n",
       "       Anserma                                      0.00   \n",
       "       Pácora                                       0.00   \n",
       "       Manizales                                    0.77   \n",
       "       Aranzazu                                     0.00   \n",
       "       Chinchiná                                    0.00   \n",
       "       Risaralda                                    0.00   \n",
       "       Supía                                        0.00   \n",
       "       Neira                                        0.00   \n",
       "       Viterbo                                      0.00   \n",
       "       Riosucio                                     0.00   \n",
       "       Palestina                                    0.00   \n",
       "       Marquetalia                                  0.00   \n",
       "       La Dorada                                    1.57   \n",
       "       Samaná                                       0.00   \n",
       "       Manzanares                                   7.69   \n",
       "       Marmato                                      0.00   \n",
       "       Villamaría                                   7.14   \n",
       "       Norcasia                                   100.00   \n",
       "\n",
       "                    Tasa de mortalidad por 100.000 habitantes  \n",
       "Dpto   Municipio                                               \n",
       "Caldas Aguadas                                           0.00  \n",
       "       Anserma                                           0.00  \n",
       "       Pácora                                            0.00  \n",
       "       Manizales                                         0.45  \n",
       "       Aranzazu                                          0.00  \n",
       "       Chinchiná                                         0.00  \n",
       "       Risaralda                                         0.00  \n",
       "       Supía                                             0.00  \n",
       "       Neira                                             0.00  \n",
       "       Viterbo                                           0.00  \n",
       "       Riosucio                                          0.00  \n",
       "       Palestina                                         0.00  \n",
       "       Marquetalia                                       0.00  \n",
       "       La Dorada                                         2.70  \n",
       "       Samaná                                            0.00  \n",
       "       Manzanares                                        5.62  \n",
       "       Marmato                                           0.00  \n",
       "       Villamaría                                        2.97  \n",
       "       Norcasia                                         16.32  "
      ]
     },
     "execution_count": 24,
     "metadata": {},
     "output_type": "execute_result"
    }
   ],
   "source": [
    "Cuadro_Tasas"
   ]
  },
  {
   "cell_type": "markdown",
   "metadata": {},
   "source": [
    "#### Condiciones de búsqueda"
   ]
  },
  {
   "cell_type": "code",
   "execution_count": 25,
   "metadata": {},
   "outputs": [],
   "source": [
    "if departamento == '' and municipio== '':\n",
    "    print('Debe ingresar mínimo el Departamento.  Inténtelo nuevamente')\n",
    "    pass\n",
    "else:\n",
    "    if municipio == '':\n",
    "        Total_casos = Cuadro_Tasas.loc[departamento, 'Total casos'].astype(int) \n",
    "        Fallecidos_dpto_munic = Cuadro_Tasas.loc[(departamento), 'Fallecidos'].astype(int)\n",
    "        Poblacion_dpto_munic = Cuadro_Tasas.loc[(departamento), 'Población'].astype(int)\n",
    "    \n",
    "    else:\n",
    "        Total_casos = Cuadro_Tasas.loc[(departamento, municipio), 'Total casos'].astype(int)\n",
    "        Fallecidos_dpto_munic = Cuadro_Tasas.loc[(departamento, municipio), 'Fallecidos'].astype(int)\n",
    "        Poblacion_dpto_munic = Cuadro_Tasas.loc[(departamento, municipio), 'Población'].astype(int)\n",
    "    "
   ]
  },
  {
   "cell_type": "code",
   "execution_count": 26,
   "metadata": {},
   "outputs": [
    {
     "data": {
      "text/plain": [
       "226373"
      ]
     },
     "execution_count": 26,
     "metadata": {},
     "output_type": "execute_result"
    }
   ],
   "source": [
    "total_casos_covid_colombia"
   ]
  },
  {
   "cell_type": "code",
   "execution_count": 27,
   "metadata": {},
   "outputs": [
    {
     "data": {
      "text/plain": [
       "2"
      ]
     },
     "execution_count": 27,
     "metadata": {},
     "output_type": "execute_result"
    }
   ],
   "source": [
    "Fallecidos_dpto_munic    "
   ]
  },
  {
   "cell_type": "code",
   "execution_count": 28,
   "metadata": {},
   "outputs": [
    {
     "data": {
      "text/plain": [
       "7961"
      ]
     },
     "execution_count": 28,
     "metadata": {},
     "output_type": "execute_result"
    }
   ],
   "source": [
    "Fallecidos_pais"
   ]
  },
  {
   "cell_type": "code",
   "execution_count": 29,
   "metadata": {},
   "outputs": [
    {
     "data": {
      "text/plain": [
       "446160"
      ]
     },
     "execution_count": 29,
     "metadata": {},
     "output_type": "execute_result"
    }
   ],
   "source": [
    "Poblacion_dpto_munic"
   ]
  },
  {
   "cell_type": "code",
   "execution_count": 30,
   "metadata": {},
   "outputs": [
    {
     "data": {
      "text/plain": [
       "446160"
      ]
     },
     "execution_count": 30,
     "metadata": {},
     "output_type": "execute_result"
    }
   ],
   "source": [
    "Poblacion_dpto_munic.sum()"
   ]
  },
  {
   "cell_type": "code",
   "execution_count": 31,
   "metadata": {},
   "outputs": [
    {
     "data": {
      "text/plain": [
       "50883000"
      ]
     },
     "execution_count": 31,
     "metadata": {},
     "output_type": "execute_result"
    }
   ],
   "source": [
    "Poblacion_pais"
   ]
  },
  {
   "cell_type": "code",
   "execution_count": 32,
   "metadata": {},
   "outputs": [
    {
     "data": {
      "text/plain": [
       "260"
      ]
     },
     "execution_count": 32,
     "metadata": {},
     "output_type": "execute_result"
    }
   ],
   "source": [
    "Total_casos"
   ]
  },
  {
   "cell_type": "code",
   "execution_count": 33,
   "metadata": {},
   "outputs": [
    {
     "data": {
      "text/plain": [
       "260"
      ]
     },
     "execution_count": 33,
     "metadata": {},
     "output_type": "execute_result"
    }
   ],
   "source": [
    "Total_casos_dpto = Total_casos.sum()\n",
    "\n",
    "Total_casos_dpto"
   ]
  },
  {
   "cell_type": "markdown",
   "metadata": {},
   "source": [
    "#### Aplicar filtro propuesto en variable \"estado\" por Departamento o Municipio"
   ]
  },
  {
   "cell_type": "code",
   "execution_count": 35,
   "metadata": {},
   "outputs": [],
   "source": [
    "hoy = pd.Timestamp.today()\n"
   ]
  },
  {
   "cell_type": "code",
   "execution_count": 36,
   "metadata": {
    "scrolled": false
   },
   "outputs": [
    {
     "name": "stdout",
     "output_type": "stream",
     "text": [
      "Según datos reportados al 2020-07-24 16:52:50.479185 por el INS Colombiano, de los 260 casos de Manizales, 3 casos, es decir el 1.15 %, están en Atención: Hospital UCI y representan el 0.000672 % de los 446160 habitantes de Manizales. \n",
      "\n",
      "La tasa de letalidad en el municipio de Manizales, Departamento de Caldas es de 0.77 por cien enfermos de CoVid-19. \n",
      "\n",
      "La tasa de mortalidad en el municipio de Manizales, Departamento de Caldas es de 0.45 por cien mil habitantes. \n",
      "\n",
      "La tasa de mortalidad de Colombia por CoV-2 es de 156.5 por millón de habitantes. \n",
      "\n",
      "La tasa de letalidad de Colombia por CoV-2 es de 3.52 por cien enfermos de CoVid-19. \n",
      "\n"
     ]
    }
   ],
   "source": [
    "filtro= Tasas[variable_buscar]== estado\n",
    "if municipio == '':\n",
    "    Cuadro_filtrados = Tasas.loc[filtro, 'Atención': 'Tipo recuperación'].loc[(Tasas['Dpto'] == departamento)]\n",
    "    numero_estados= Cuadro_filtrados.loc[:, variable_buscar].count()\n",
    "    print('Según datos reportados al ', hoy, ' por el INS Colombiano, de los ' + str(Total_casos_dpto) \n",
    "          + ' casos de '+ departamento + ', ' + str(numero_estados) +' casos, es decir el '\n",
    "          + str(((numero_estados/Total_casos_dpto)*100).round(2))+' %, está en condición: '\n",
    "          + variable_buscar + ' ' + estado + ' y representan el ' \n",
    "          + str(((numero_estados/Poblacion_dpto_munic.sum())*100).round(6)) + ' %  de los ' \n",
    "          + str(Poblacion_dpto_munic.sum()) + ' habitantes de ' + departamento + '.','\\n')\n",
    "   \n",
    "    print('La tasa de mortalidad en los municipios del Departamento de ' \n",
    "        + departamento + ' por cien mil habitantes es: ' + str(((Fallecidos_dpto_munic/Poblacion_dpto_munic)*100000).round(2)),'\\n')\n",
    "    \n",
    "    print('La tasa de letalidad en los municipios del Departamento de ' + departamento + \n",
    "          ' por cien enfermos de CoVid-19, es: ' + str(((Fallecidos_dpto_munic/Total_casos)*100).round(2)),'\\n')\n",
    "\n",
    "else:\n",
    "    Cuadro_filtrados = Tasas.loc[filtro, 'Atención': 'Tipo recuperación'].loc[(Tasas['Dpto'] == departamento) & (Tasas['Municipio']== municipio)]\n",
    "    numero_estados= Cuadro_filtrados.loc[:, variable_buscar].count()\n",
    "    print('Según datos reportados al', hoy, 'por el INS Colombiano, de los ' + str(Total_casos) + ' casos de '+ municipio + ', ' \n",
    "          + str(numero_estados) +' casos, es decir el '+ str(((numero_estados/Total_casos)*100).round(2))\n",
    "          +' %, están en '+ variable_buscar + ': ' + estado + ' y representan el '\n",
    "          + str(((numero_estados/Poblacion_dpto_munic.sum())*100).round(6)) \n",
    "          + ' % de los ' + str(Poblacion_dpto_munic.sum()) + ' habitantes de ' + municipio +'.','\\n')\n",
    "    \n",
    "    print('La tasa de letalidad en el municipio de '+ municipio + ',' + ' Departamento de ' \n",
    "        + departamento + ' es de ' + str(((Fallecidos_dpto_munic/Total_casos)*100).round(2)) \n",
    "        + ' por cien enfermos de CoVid-19.','\\n')\n",
    "    \n",
    "    print('La tasa de mortalidad en el municipio de '+ municipio + ',' + ' Departamento de ' \n",
    "        + departamento + ' es de ' + str(((Fallecidos_dpto_munic/Poblacion_dpto_munic)*100000).round(2)) \n",
    "        + ' por cien mil habitantes.','\\n')\n",
    "    \n",
    "print('La tasa de mortalidad de ' + pais+ ' por CoV-2 ' + 'es de ' + str(((Fallecidos_pais/Poblacion_pais)*1000000).round(1)) \n",
    "      + ' por millón de habitantes.','\\n')\n",
    "\n",
    "print('La tasa de letalidad de '+pais+ ' por CoV-2 ' + 'es de ' + str(((Fallecidos_pais/total_casos_covid_colombia)*100).round(2)) \n",
    "      + ' por cien enfermos de CoVid-19.','\\n')"
   ]
  },
  {
   "cell_type": "code",
   "execution_count": null,
   "metadata": {},
   "outputs": [],
   "source": []
  }
 ],
 "metadata": {
  "kernelspec": {
   "display_name": "Python 3",
   "language": "python",
   "name": "python3"
  },
  "language_info": {
   "codemirror_mode": {
    "name": "ipython",
    "version": 3
   },
   "file_extension": ".py",
   "mimetype": "text/x-python",
   "name": "python",
   "nbconvert_exporter": "python",
   "pygments_lexer": "ipython3",
   "version": "3.6.9"
  }
 },
 "nbformat": 4,
 "nbformat_minor": 4
}
