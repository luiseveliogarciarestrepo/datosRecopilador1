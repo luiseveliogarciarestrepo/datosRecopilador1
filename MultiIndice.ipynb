{
 "cells": [
  {
   "cell_type": "code",
   "execution_count": 1087,
   "metadata": {},
   "outputs": [],
   "source": [
    "import pandas as pd\n",
    "import numpy as np"
   ]
  },
  {
   "cell_type": "code",
   "execution_count": 1088,
   "metadata": {},
   "outputs": [],
   "source": [
    "pd.set_option('display.precision',2)"
   ]
  },
  {
   "cell_type": "markdown",
   "metadata": {},
   "source": [
    "# Colombia:  Población proyectada 2020 por departamento y por municipio "
   ]
  },
  {
   "cell_type": "code",
   "execution_count": 1089,
   "metadata": {},
   "outputs": [],
   "source": [
    "colombia = pd.read_csv('Dane2018_2023.csv', usecols=['Dpto', 'Municipio', 'Género', '2020'])"
   ]
  },
  {
   "cell_type": "code",
   "execution_count": 1090,
   "metadata": {},
   "outputs": [],
   "source": [
    "filtro = colombia['Género'] == 'AMBOS SEXOS'\n",
    "colombia = colombia.loc[filtro,:].drop(columns=['Género'])"
   ]
  },
  {
   "cell_type": "code",
   "execution_count": 1091,
   "metadata": {},
   "outputs": [],
   "source": [
    "colombia.rename(columns={'Dpto':'Departamento o Distrito ', 'Municipio':'Ciudad de ubicación'},inplace=True)\n",
    "       "
   ]
  },
  {
   "cell_type": "code",
   "execution_count": 1092,
   "metadata": {},
   "outputs": [],
   "source": [
    "colombia.set_index(['Departamento o Distrito ', 'Ciudad de ubicación'],inplace=True)"
   ]
  },
  {
   "cell_type": "code",
   "execution_count": 1093,
   "metadata": {},
   "outputs": [],
   "source": [
    "colombia.sort_index(inplace=True)"
   ]
  },
  {
   "cell_type": "code",
   "execution_count": 1094,
   "metadata": {},
   "outputs": [
    {
     "data": {
      "text/html": [
       "<div>\n",
       "<style scoped>\n",
       "    .dataframe tbody tr th:only-of-type {\n",
       "        vertical-align: middle;\n",
       "    }\n",
       "\n",
       "    .dataframe tbody tr th {\n",
       "        vertical-align: top;\n",
       "    }\n",
       "\n",
       "    .dataframe thead th {\n",
       "        text-align: right;\n",
       "    }\n",
       "</style>\n",
       "<table border=\"1\" class=\"dataframe\">\n",
       "  <thead>\n",
       "    <tr style=\"text-align: right;\">\n",
       "      <th></th>\n",
       "      <th></th>\n",
       "      <th>2020</th>\n",
       "    </tr>\n",
       "    <tr>\n",
       "      <th>Departamento o Distrito</th>\n",
       "      <th>Ciudad de ubicación</th>\n",
       "      <th></th>\n",
       "    </tr>\n",
       "  </thead>\n",
       "  <tbody>\n",
       "    <tr>\n",
       "      <th rowspan=\"5\" valign=\"top\">Amazonas</th>\n",
       "      <th>El Encanto (ANM)</th>\n",
       "      <td>2077</td>\n",
       "    </tr>\n",
       "    <tr>\n",
       "      <th>La Chorrera (ANM)</th>\n",
       "      <td>2955</td>\n",
       "    </tr>\n",
       "    <tr>\n",
       "      <th>La Pedrera (ANM)</th>\n",
       "      <td>3947</td>\n",
       "    </tr>\n",
       "    <tr>\n",
       "      <th>La Victoria (ANM)</th>\n",
       "      <td>662</td>\n",
       "    </tr>\n",
       "    <tr>\n",
       "      <th>Leticia</th>\n",
       "      <td>49737</td>\n",
       "    </tr>\n",
       "    <tr>\n",
       "      <th>...</th>\n",
       "      <th>...</th>\n",
       "      <td>...</td>\n",
       "    </tr>\n",
       "    <tr>\n",
       "      <th>Vaupés</th>\n",
       "      <th>Yavaraté (ANM)</th>\n",
       "      <td>1097</td>\n",
       "    </tr>\n",
       "    <tr>\n",
       "      <th rowspan=\"4\" valign=\"top\">Vichada</th>\n",
       "      <th>Cumaribo</th>\n",
       "      <td>78863</td>\n",
       "    </tr>\n",
       "    <tr>\n",
       "      <th>La Primavera</th>\n",
       "      <td>9608</td>\n",
       "    </tr>\n",
       "    <tr>\n",
       "      <th>Puerto Carreño</th>\n",
       "      <td>20294</td>\n",
       "    </tr>\n",
       "    <tr>\n",
       "      <th>Santa Rosalía</th>\n",
       "      <td>4193</td>\n",
       "    </tr>\n",
       "  </tbody>\n",
       "</table>\n",
       "<p>1123 rows × 1 columns</p>\n",
       "</div>"
      ],
      "text/plain": [
       "                                               2020\n",
       "Departamento o Distrito  Ciudad de ubicación       \n",
       "Amazonas                 El Encanto (ANM)      2077\n",
       "                         La Chorrera (ANM)     2955\n",
       "                         La Pedrera (ANM)      3947\n",
       "                         La Victoria (ANM)      662\n",
       "                         Leticia              49737\n",
       "...                                             ...\n",
       "Vaupés                   Yavaraté (ANM)        1097\n",
       "Vichada                  Cumaribo             78863\n",
       "                         La Primavera          9608\n",
       "                         Puerto Carreño       20294\n",
       "                         Santa Rosalía         4193\n",
       "\n",
       "[1123 rows x 1 columns]"
      ]
     },
     "execution_count": 1094,
     "metadata": {},
     "output_type": "execute_result"
    }
   ],
   "source": [
    "colombia"
   ]
  },
  {
   "cell_type": "markdown",
   "metadata": {},
   "source": [
    "# Variables para búsqueda"
   ]
  },
  {
   "cell_type": "code",
   "execution_count": 1095,
   "metadata": {},
   "outputs": [],
   "source": [
    "municipios = ['Manizales']  # escribir \"slice(None)\" para ver todos los municipios del departamento."
   ]
  },
  {
   "cell_type": "code",
   "execution_count": 1096,
   "metadata": {},
   "outputs": [],
   "source": [
    "departamentos = ['Caldas']  # escribir \"slice(None)\" para ver todos los departamentos."
   ]
  },
  {
   "cell_type": "code",
   "execution_count": 1097,
   "metadata": {},
   "outputs": [],
   "source": [
    "fecha1 = '2020-04-01' #slice(None)"
   ]
  },
  {
   "cell_type": "code",
   "execution_count": 1098,
   "metadata": {},
   "outputs": [],
   "source": [
    "fecha2 = '2020-04-30'"
   ]
  },
  {
   "cell_type": "code",
   "execution_count": 1099,
   "metadata": {},
   "outputs": [
    {
     "data": {
      "text/plain": [
       "2020    446160\n",
       "dtype: int64"
      ]
     },
     "execution_count": 1099,
     "metadata": {},
     "output_type": "execute_result"
    }
   ],
   "source": [
    "poblacion = colombia.loc[(departamentos, municipios),:].sum()\n",
    "poblacion"
   ]
  },
  {
   "cell_type": "markdown",
   "metadata": {},
   "source": [
    "# Colombia:  Casos COVID-19"
   ]
  },
  {
   "cell_type": "code",
   "execution_count": 1100,
   "metadata": {},
   "outputs": [],
   "source": [
    "df= pd.read_csv('CovidColombia.csv', usecols = ['ID de caso', 'Fecha de notificación', \n",
    "       'Ciudad de ubicación', 'Departamento o Distrito ', 'atención', 'Edad','Sexo', 'Tipo', 'Estado',\n",
    "       'Fecha de muerte', 'Fecha recuperado'], parse_dates = ['Fecha de notificación','Fecha de muerte', 'Fecha recuperado'], low_memory=False )"
   ]
  },
  {
   "cell_type": "code",
   "execution_count": 1101,
   "metadata": {},
   "outputs": [
    {
     "data": {
      "text/html": [
       "<div>\n",
       "<style scoped>\n",
       "    .dataframe tbody tr th:only-of-type {\n",
       "        vertical-align: middle;\n",
       "    }\n",
       "\n",
       "    .dataframe tbody tr th {\n",
       "        vertical-align: top;\n",
       "    }\n",
       "\n",
       "    .dataframe thead th {\n",
       "        text-align: right;\n",
       "    }\n",
       "</style>\n",
       "<table border=\"1\" class=\"dataframe\">\n",
       "  <thead>\n",
       "    <tr style=\"text-align: right;\">\n",
       "      <th></th>\n",
       "      <th>ID de caso</th>\n",
       "      <th>Ciudad de ubicación</th>\n",
       "      <th>Departamento o Distrito</th>\n",
       "      <th>atención</th>\n",
       "      <th>Edad</th>\n",
       "      <th>Sexo</th>\n",
       "      <th>Tipo</th>\n",
       "      <th>Estado</th>\n",
       "      <th>Fecha de muerte</th>\n",
       "      <th>Fecha recuperado</th>\n",
       "    </tr>\n",
       "    <tr>\n",
       "      <th>Fecha de notificación</th>\n",
       "      <th></th>\n",
       "      <th></th>\n",
       "      <th></th>\n",
       "      <th></th>\n",
       "      <th></th>\n",
       "      <th></th>\n",
       "      <th></th>\n",
       "      <th></th>\n",
       "      <th></th>\n",
       "      <th></th>\n",
       "    </tr>\n",
       "  </thead>\n",
       "  <tbody>\n",
       "    <tr>\n",
       "      <th>2020-04-01</th>\n",
       "      <td>2399</td>\n",
       "      <td>Pereira</td>\n",
       "      <td>Risaralda</td>\n",
       "      <td>Fallecido</td>\n",
       "      <td>70</td>\n",
       "      <td>M</td>\n",
       "      <td>En estudio</td>\n",
       "      <td>Fallecido</td>\n",
       "      <td>2020-04-01</td>\n",
       "      <td>NaT</td>\n",
       "    </tr>\n",
       "    <tr>\n",
       "      <th>2020-04-01</th>\n",
       "      <td>2661</td>\n",
       "      <td>Cali</td>\n",
       "      <td>Valle del Cauca</td>\n",
       "      <td>Recuperado</td>\n",
       "      <td>66</td>\n",
       "      <td>M</td>\n",
       "      <td>Relacionado</td>\n",
       "      <td>Leve</td>\n",
       "      <td>NaT</td>\n",
       "      <td>2020-05-26</td>\n",
       "    </tr>\n",
       "    <tr>\n",
       "      <th>2020-04-01</th>\n",
       "      <td>2408</td>\n",
       "      <td>Cali</td>\n",
       "      <td>Valle del Cauca</td>\n",
       "      <td>Recuperado</td>\n",
       "      <td>33</td>\n",
       "      <td>F</td>\n",
       "      <td>En estudio</td>\n",
       "      <td>Leve</td>\n",
       "      <td>NaT</td>\n",
       "      <td>2020-05-25</td>\n",
       "    </tr>\n",
       "    <tr>\n",
       "      <th>2020-04-01</th>\n",
       "      <td>2365</td>\n",
       "      <td>Socha</td>\n",
       "      <td>Boyacá</td>\n",
       "      <td>Recuperado</td>\n",
       "      <td>36</td>\n",
       "      <td>F</td>\n",
       "      <td>Relacionado</td>\n",
       "      <td>Leve</td>\n",
       "      <td>NaT</td>\n",
       "      <td>2020-05-16</td>\n",
       "    </tr>\n",
       "    <tr>\n",
       "      <th>2020-04-01</th>\n",
       "      <td>2657</td>\n",
       "      <td>Cali</td>\n",
       "      <td>Valle del Cauca</td>\n",
       "      <td>Recuperado</td>\n",
       "      <td>30</td>\n",
       "      <td>M</td>\n",
       "      <td>En estudio</td>\n",
       "      <td>Leve</td>\n",
       "      <td>NaT</td>\n",
       "      <td>2020-05-11</td>\n",
       "    </tr>\n",
       "    <tr>\n",
       "      <th>...</th>\n",
       "      <td>...</td>\n",
       "      <td>...</td>\n",
       "      <td>...</td>\n",
       "      <td>...</td>\n",
       "      <td>...</td>\n",
       "      <td>...</td>\n",
       "      <td>...</td>\n",
       "      <td>...</td>\n",
       "      <td>...</td>\n",
       "      <td>...</td>\n",
       "    </tr>\n",
       "    <tr>\n",
       "      <th>2020-04-30</th>\n",
       "      <td>8294</td>\n",
       "      <td>Barranquilla</td>\n",
       "      <td>Barranquilla D.E.</td>\n",
       "      <td>Fallecido</td>\n",
       "      <td>66</td>\n",
       "      <td>M</td>\n",
       "      <td>En estudio</td>\n",
       "      <td>Fallecido</td>\n",
       "      <td>2020-06-16</td>\n",
       "      <td>NaT</td>\n",
       "    </tr>\n",
       "    <tr>\n",
       "      <th>2020-04-30</th>\n",
       "      <td>12644</td>\n",
       "      <td>Cali</td>\n",
       "      <td>Valle del Cauca</td>\n",
       "      <td>Recuperado</td>\n",
       "      <td>25</td>\n",
       "      <td>M</td>\n",
       "      <td>Relacionado</td>\n",
       "      <td>Leve</td>\n",
       "      <td>NaT</td>\n",
       "      <td>2020-06-04</td>\n",
       "    </tr>\n",
       "    <tr>\n",
       "      <th>2020-04-30</th>\n",
       "      <td>6567</td>\n",
       "      <td>Villavicencio</td>\n",
       "      <td>Meta</td>\n",
       "      <td>Recuperado</td>\n",
       "      <td>45</td>\n",
       "      <td>M</td>\n",
       "      <td>Relacionado</td>\n",
       "      <td>Asintomático</td>\n",
       "      <td>NaT</td>\n",
       "      <td>2020-05-31</td>\n",
       "    </tr>\n",
       "    <tr>\n",
       "      <th>2020-04-30</th>\n",
       "      <td>8640</td>\n",
       "      <td>Florencia</td>\n",
       "      <td>Caquetá</td>\n",
       "      <td>Recuperado</td>\n",
       "      <td>26</td>\n",
       "      <td>F</td>\n",
       "      <td>Relacionado</td>\n",
       "      <td>Asintomático</td>\n",
       "      <td>NaT</td>\n",
       "      <td>2020-05-15</td>\n",
       "    </tr>\n",
       "    <tr>\n",
       "      <th>2020-04-30</th>\n",
       "      <td>6267</td>\n",
       "      <td>Villavicencio</td>\n",
       "      <td>Meta</td>\n",
       "      <td>Recuperado</td>\n",
       "      <td>32</td>\n",
       "      <td>M</td>\n",
       "      <td>Relacionado</td>\n",
       "      <td>Asintomático</td>\n",
       "      <td>NaT</td>\n",
       "      <td>2020-05-31</td>\n",
       "    </tr>\n",
       "  </tbody>\n",
       "</table>\n",
       "<p>6994 rows × 10 columns</p>\n",
       "</div>"
      ],
      "text/plain": [
       "                       ID de caso Ciudad de ubicación  \\\n",
       "Fecha de notificación                                   \n",
       "2020-04-01                   2399             Pereira   \n",
       "2020-04-01                   2661                Cali   \n",
       "2020-04-01                   2408                Cali   \n",
       "2020-04-01                   2365               Socha   \n",
       "2020-04-01                   2657                Cali   \n",
       "...                           ...                 ...   \n",
       "2020-04-30                   8294        Barranquilla   \n",
       "2020-04-30                  12644                Cali   \n",
       "2020-04-30                   6567       Villavicencio   \n",
       "2020-04-30                   8640           Florencia   \n",
       "2020-04-30                   6267       Villavicencio   \n",
       "\n",
       "                      Departamento o Distrito     atención  Edad Sexo  \\\n",
       "Fecha de notificación                                                   \n",
       "2020-04-01                           Risaralda   Fallecido    70    M   \n",
       "2020-04-01                     Valle del Cauca  Recuperado    66    M   \n",
       "2020-04-01                     Valle del Cauca  Recuperado    33    F   \n",
       "2020-04-01                              Boyacá  Recuperado    36    F   \n",
       "2020-04-01                     Valle del Cauca  Recuperado    30    M   \n",
       "...                                        ...         ...   ...  ...   \n",
       "2020-04-30                   Barranquilla D.E.   Fallecido    66    M   \n",
       "2020-04-30                     Valle del Cauca  Recuperado    25    M   \n",
       "2020-04-30                                Meta  Recuperado    45    M   \n",
       "2020-04-30                             Caquetá  Recuperado    26    F   \n",
       "2020-04-30                                Meta  Recuperado    32    M   \n",
       "\n",
       "                              Tipo        Estado Fecha de muerte  \\\n",
       "Fecha de notificación                                              \n",
       "2020-04-01              En estudio     Fallecido      2020-04-01   \n",
       "2020-04-01             Relacionado          Leve             NaT   \n",
       "2020-04-01              En estudio          Leve             NaT   \n",
       "2020-04-01             Relacionado          Leve             NaT   \n",
       "2020-04-01              En estudio          Leve             NaT   \n",
       "...                            ...           ...             ...   \n",
       "2020-04-30              En estudio     Fallecido      2020-06-16   \n",
       "2020-04-30             Relacionado          Leve             NaT   \n",
       "2020-04-30             Relacionado  Asintomático             NaT   \n",
       "2020-04-30             Relacionado  Asintomático             NaT   \n",
       "2020-04-30             Relacionado  Asintomático             NaT   \n",
       "\n",
       "                      Fecha recuperado  \n",
       "Fecha de notificación                   \n",
       "2020-04-01                         NaT  \n",
       "2020-04-01                  2020-05-26  \n",
       "2020-04-01                  2020-05-25  \n",
       "2020-04-01                  2020-05-16  \n",
       "2020-04-01                  2020-05-11  \n",
       "...                                ...  \n",
       "2020-04-30                         NaT  \n",
       "2020-04-30                  2020-06-04  \n",
       "2020-04-30                  2020-05-31  \n",
       "2020-04-30                  2020-05-15  \n",
       "2020-04-30                  2020-05-31  \n",
       "\n",
       "[6994 rows x 10 columns]"
      ]
     },
     "execution_count": 1101,
     "metadata": {},
     "output_type": "execute_result"
    }
   ],
   "source": [
    "df_fechas = df.set_index('Fecha de notificación').sort_index()\n",
    "df_fechas[fecha1:fecha2]"
   ]
  },
  {
   "cell_type": "code",
   "execution_count": 1103,
   "metadata": {},
   "outputs": [
    {
     "data": {
      "text/plain": [
       "403"
      ]
     },
     "execution_count": 1103,
     "metadata": {},
     "output_type": "execute_result"
    }
   ],
   "source": [
    "Muertes_periodo_pais = df_fechas[fecha1:fecha2]['Fecha de muerte'].count()\n",
    "Muertes_periodo_pais"
   ]
  },
  {
   "cell_type": "code",
   "execution_count": 1104,
   "metadata": {},
   "outputs": [
    {
     "data": {
      "text/plain": [
       "Timestamp('2020-03-02 00:00:00')"
      ]
     },
     "execution_count": 1104,
     "metadata": {},
     "output_type": "execute_result"
    }
   ],
   "source": [
    "fecha_inicial= df['Fecha de notificación'].min()\n",
    "fecha_inicial"
   ]
  },
  {
   "cell_type": "code",
   "execution_count": 1105,
   "metadata": {},
   "outputs": [
    {
     "data": {
      "text/plain": [
       "Timestamp('2020-07-25 00:00:00')"
      ]
     },
     "execution_count": 1105,
     "metadata": {},
     "output_type": "execute_result"
    }
   ],
   "source": [
    "fecha_final= df['Fecha de notificación'].max()\n",
    "fecha_final"
   ]
  },
  {
   "cell_type": "code",
   "execution_count": 1106,
   "metadata": {},
   "outputs": [
    {
     "data": {
      "text/plain": [
       "151"
      ]
     },
     "execution_count": 1106,
     "metadata": {},
     "output_type": "execute_result"
    }
   ],
   "source": [
    "dias_desde_inicio = fecha_final - fecha_inicial\n",
    "dias= dias_desde_inicio.days+6\n",
    "dias"
   ]
  },
  {
   "cell_type": "code",
   "execution_count": 1107,
   "metadata": {
    "scrolled": false
   },
   "outputs": [
    {
     "data": {
      "text/html": [
       "<div>\n",
       "<style scoped>\n",
       "    .dataframe tbody tr th:only-of-type {\n",
       "        vertical-align: middle;\n",
       "    }\n",
       "\n",
       "    .dataframe tbody tr th {\n",
       "        vertical-align: top;\n",
       "    }\n",
       "\n",
       "    .dataframe thead th {\n",
       "        text-align: right;\n",
       "    }\n",
       "</style>\n",
       "<table border=\"1\" class=\"dataframe\">\n",
       "  <thead>\n",
       "    <tr style=\"text-align: right;\">\n",
       "      <th></th>\n",
       "      <th></th>\n",
       "      <th>ID de caso</th>\n",
       "      <th>Ciudad de ubicación</th>\n",
       "      <th>atención</th>\n",
       "      <th>Edad</th>\n",
       "      <th>Sexo</th>\n",
       "      <th>Tipo</th>\n",
       "      <th>Estado</th>\n",
       "      <th>Fecha de muerte</th>\n",
       "      <th>Fecha recuperado</th>\n",
       "    </tr>\n",
       "    <tr>\n",
       "      <th>Departamento o Distrito</th>\n",
       "      <th>Fecha de notificación</th>\n",
       "      <th></th>\n",
       "      <th></th>\n",
       "      <th></th>\n",
       "      <th></th>\n",
       "      <th></th>\n",
       "      <th></th>\n",
       "      <th></th>\n",
       "      <th></th>\n",
       "      <th></th>\n",
       "    </tr>\n",
       "  </thead>\n",
       "  <tbody>\n",
       "    <tr>\n",
       "      <th rowspan=\"5\" valign=\"top\">Amazonas</th>\n",
       "      <th>2020-04-07</th>\n",
       "      <td>9116</td>\n",
       "      <td>Leticia</td>\n",
       "      <td>Recuperado</td>\n",
       "      <td>2</td>\n",
       "      <td>F</td>\n",
       "      <td>Relacionado</td>\n",
       "      <td>Asintomático</td>\n",
       "      <td>NaT</td>\n",
       "      <td>2020-06-02</td>\n",
       "    </tr>\n",
       "    <tr>\n",
       "      <th>2020-04-11</th>\n",
       "      <td>15316</td>\n",
       "      <td>Leticia</td>\n",
       "      <td>Fallecido</td>\n",
       "      <td>60</td>\n",
       "      <td>M</td>\n",
       "      <td>Importado</td>\n",
       "      <td>Fallecido</td>\n",
       "      <td>2020-04-20</td>\n",
       "      <td>NaT</td>\n",
       "    </tr>\n",
       "    <tr>\n",
       "      <th>2020-04-13</th>\n",
       "      <td>3440</td>\n",
       "      <td>Leticia</td>\n",
       "      <td>Recuperado</td>\n",
       "      <td>47</td>\n",
       "      <td>F</td>\n",
       "      <td>Importado</td>\n",
       "      <td>Leve</td>\n",
       "      <td>NaT</td>\n",
       "      <td>2020-05-31</td>\n",
       "    </tr>\n",
       "    <tr>\n",
       "      <th>2020-04-14</th>\n",
       "      <td>3439</td>\n",
       "      <td>Leticia</td>\n",
       "      <td>Recuperado</td>\n",
       "      <td>26</td>\n",
       "      <td>M</td>\n",
       "      <td>Relacionado</td>\n",
       "      <td>Leve</td>\n",
       "      <td>NaT</td>\n",
       "      <td>2020-05-19</td>\n",
       "    </tr>\n",
       "    <tr>\n",
       "      <th>2020-04-14</th>\n",
       "      <td>3494</td>\n",
       "      <td>Leticia</td>\n",
       "      <td>Recuperado</td>\n",
       "      <td>16</td>\n",
       "      <td>F</td>\n",
       "      <td>Relacionado</td>\n",
       "      <td>Leve</td>\n",
       "      <td>NaT</td>\n",
       "      <td>2020-05-29</td>\n",
       "    </tr>\n",
       "    <tr>\n",
       "      <th>...</th>\n",
       "      <th>...</th>\n",
       "      <td>...</td>\n",
       "      <td>...</td>\n",
       "      <td>...</td>\n",
       "      <td>...</td>\n",
       "      <td>...</td>\n",
       "      <td>...</td>\n",
       "      <td>...</td>\n",
       "      <td>...</td>\n",
       "      <td>...</td>\n",
       "    </tr>\n",
       "    <tr>\n",
       "      <th rowspan=\"3\" valign=\"top\">Vaupés</th>\n",
       "      <th>2020-07-12</th>\n",
       "      <td>152755</td>\n",
       "      <td>Yavaraté</td>\n",
       "      <td>Casa</td>\n",
       "      <td>71</td>\n",
       "      <td>F</td>\n",
       "      <td>En estudio</td>\n",
       "      <td>Leve</td>\n",
       "      <td>NaT</td>\n",
       "      <td>NaT</td>\n",
       "    </tr>\n",
       "    <tr>\n",
       "      <th>2020-07-12</th>\n",
       "      <td>152756</td>\n",
       "      <td>Taraira</td>\n",
       "      <td>Recuperado</td>\n",
       "      <td>27</td>\n",
       "      <td>M</td>\n",
       "      <td>Relacionado</td>\n",
       "      <td>Leve</td>\n",
       "      <td>NaT</td>\n",
       "      <td>2020-07-25</td>\n",
       "    </tr>\n",
       "    <tr>\n",
       "      <th>2020-07-13</th>\n",
       "      <td>159940</td>\n",
       "      <td>Mitú</td>\n",
       "      <td>Casa</td>\n",
       "      <td>15</td>\n",
       "      <td>M</td>\n",
       "      <td>Importado</td>\n",
       "      <td>Leve</td>\n",
       "      <td>NaT</td>\n",
       "      <td>NaT</td>\n",
       "    </tr>\n",
       "    <tr>\n",
       "      <th rowspan=\"2\" valign=\"top\">Vichada</th>\n",
       "      <th>2020-05-29</th>\n",
       "      <td>25700</td>\n",
       "      <td>Puerto Carreño</td>\n",
       "      <td>Recuperado</td>\n",
       "      <td>20</td>\n",
       "      <td>M</td>\n",
       "      <td>En estudio</td>\n",
       "      <td>Asintomático</td>\n",
       "      <td>NaT</td>\n",
       "      <td>2020-06-07</td>\n",
       "    </tr>\n",
       "    <tr>\n",
       "      <th>2020-07-15</th>\n",
       "      <td>186226</td>\n",
       "      <td>La Primavera</td>\n",
       "      <td>Hospital</td>\n",
       "      <td>78</td>\n",
       "      <td>F</td>\n",
       "      <td>En estudio</td>\n",
       "      <td>Moderado</td>\n",
       "      <td>NaT</td>\n",
       "      <td>NaT</td>\n",
       "    </tr>\n",
       "  </tbody>\n",
       "</table>\n",
       "<p>240795 rows × 9 columns</p>\n",
       "</div>"
      ],
      "text/plain": [
       "                                                ID de caso  \\\n",
       "Departamento o Distrito  Fecha de notificación               \n",
       "Amazonas                 2020-04-07                   9116   \n",
       "                         2020-04-11                  15316   \n",
       "                         2020-04-13                   3440   \n",
       "                         2020-04-14                   3439   \n",
       "                         2020-04-14                   3494   \n",
       "...                                                    ...   \n",
       "Vaupés                   2020-07-12                 152755   \n",
       "                         2020-07-12                 152756   \n",
       "                         2020-07-13                 159940   \n",
       "Vichada                  2020-05-29                  25700   \n",
       "                         2020-07-15                 186226   \n",
       "\n",
       "                                               Ciudad de ubicación  \\\n",
       "Departamento o Distrito  Fecha de notificación                       \n",
       "Amazonas                 2020-04-07                        Leticia   \n",
       "                         2020-04-11                        Leticia   \n",
       "                         2020-04-13                        Leticia   \n",
       "                         2020-04-14                        Leticia   \n",
       "                         2020-04-14                        Leticia   \n",
       "...                                                            ...   \n",
       "Vaupés                   2020-07-12                       Yavaraté   \n",
       "                         2020-07-12                        Taraira   \n",
       "                         2020-07-13                           Mitú   \n",
       "Vichada                  2020-05-29                 Puerto Carreño   \n",
       "                         2020-07-15                   La Primavera   \n",
       "\n",
       "                                                  atención  Edad Sexo  \\\n",
       "Departamento o Distrito  Fecha de notificación                          \n",
       "Amazonas                 2020-04-07             Recuperado     2    F   \n",
       "                         2020-04-11              Fallecido    60    M   \n",
       "                         2020-04-13             Recuperado    47    F   \n",
       "                         2020-04-14             Recuperado    26    M   \n",
       "                         2020-04-14             Recuperado    16    F   \n",
       "...                                                    ...   ...  ...   \n",
       "Vaupés                   2020-07-12                   Casa    71    F   \n",
       "                         2020-07-12             Recuperado    27    M   \n",
       "                         2020-07-13                   Casa    15    M   \n",
       "Vichada                  2020-05-29             Recuperado    20    M   \n",
       "                         2020-07-15               Hospital    78    F   \n",
       "\n",
       "                                                       Tipo        Estado  \\\n",
       "Departamento o Distrito  Fecha de notificación                              \n",
       "Amazonas                 2020-04-07             Relacionado  Asintomático   \n",
       "                         2020-04-11               Importado     Fallecido   \n",
       "                         2020-04-13               Importado          Leve   \n",
       "                         2020-04-14             Relacionado          Leve   \n",
       "                         2020-04-14             Relacionado          Leve   \n",
       "...                                                     ...           ...   \n",
       "Vaupés                   2020-07-12              En estudio          Leve   \n",
       "                         2020-07-12             Relacionado          Leve   \n",
       "                         2020-07-13               Importado          Leve   \n",
       "Vichada                  2020-05-29              En estudio  Asintomático   \n",
       "                         2020-07-15              En estudio      Moderado   \n",
       "\n",
       "                                               Fecha de muerte  \\\n",
       "Departamento o Distrito  Fecha de notificación                   \n",
       "Amazonas                 2020-04-07                        NaT   \n",
       "                         2020-04-11                 2020-04-20   \n",
       "                         2020-04-13                        NaT   \n",
       "                         2020-04-14                        NaT   \n",
       "                         2020-04-14                        NaT   \n",
       "...                                                        ...   \n",
       "Vaupés                   2020-07-12                        NaT   \n",
       "                         2020-07-12                        NaT   \n",
       "                         2020-07-13                        NaT   \n",
       "Vichada                  2020-05-29                        NaT   \n",
       "                         2020-07-15                        NaT   \n",
       "\n",
       "                                               Fecha recuperado  \n",
       "Departamento o Distrito  Fecha de notificación                   \n",
       "Amazonas                 2020-04-07                  2020-06-02  \n",
       "                         2020-04-11                         NaT  \n",
       "                         2020-04-13                  2020-05-31  \n",
       "                         2020-04-14                  2020-05-19  \n",
       "                         2020-04-14                  2020-05-29  \n",
       "...                                                         ...  \n",
       "Vaupés                   2020-07-12                         NaT  \n",
       "                         2020-07-12                  2020-07-25  \n",
       "                         2020-07-13                         NaT  \n",
       "Vichada                  2020-05-29                  2020-06-07  \n",
       "                         2020-07-15                         NaT  \n",
       "\n",
       "[240795 rows x 9 columns]"
      ]
     },
     "execution_count": 1107,
     "metadata": {},
     "output_type": "execute_result"
    }
   ],
   "source": [
    "df_Dpto_Fecha= df.set_index(['Departamento o Distrito ','Fecha de notificación']).sort_index()\n",
    "df_Dpto_Fecha"
   ]
  },
  {
   "cell_type": "code",
   "execution_count": 1108,
   "metadata": {
    "scrolled": true
   },
   "outputs": [
    {
     "data": {
      "text/html": [
       "<div>\n",
       "<style scoped>\n",
       "    .dataframe tbody tr th:only-of-type {\n",
       "        vertical-align: middle;\n",
       "    }\n",
       "\n",
       "    .dataframe tbody tr th {\n",
       "        vertical-align: top;\n",
       "    }\n",
       "\n",
       "    .dataframe thead th {\n",
       "        text-align: right;\n",
       "    }\n",
       "</style>\n",
       "<table border=\"1\" class=\"dataframe\">\n",
       "  <thead>\n",
       "    <tr style=\"text-align: right;\">\n",
       "      <th></th>\n",
       "      <th></th>\n",
       "      <th>ID de caso</th>\n",
       "      <th>Ciudad de ubicación</th>\n",
       "      <th>atención</th>\n",
       "      <th>Edad</th>\n",
       "      <th>Sexo</th>\n",
       "      <th>Tipo</th>\n",
       "      <th>Estado</th>\n",
       "      <th>Fecha de muerte</th>\n",
       "      <th>Fecha recuperado</th>\n",
       "    </tr>\n",
       "    <tr>\n",
       "      <th>Departamento o Distrito</th>\n",
       "      <th>Fecha de notificación</th>\n",
       "      <th></th>\n",
       "      <th></th>\n",
       "      <th></th>\n",
       "      <th></th>\n",
       "      <th></th>\n",
       "      <th></th>\n",
       "      <th></th>\n",
       "      <th></th>\n",
       "      <th></th>\n",
       "    </tr>\n",
       "  </thead>\n",
       "  <tbody>\n",
       "    <tr>\n",
       "      <th>Caldas</th>\n",
       "      <th>2020-04-01</th>\n",
       "      <td>2597</td>\n",
       "      <td>Villamaría</td>\n",
       "      <td>Recuperado</td>\n",
       "      <td>55</td>\n",
       "      <td>M</td>\n",
       "      <td>En estudio</td>\n",
       "      <td>Leve</td>\n",
       "      <td>NaT</td>\n",
       "      <td>2020-04-16</td>\n",
       "    </tr>\n",
       "  </tbody>\n",
       "</table>\n",
       "</div>"
      ],
      "text/plain": [
       "                                                ID de caso  \\\n",
       "Departamento o Distrito  Fecha de notificación               \n",
       "Caldas                   2020-04-01                   2597   \n",
       "\n",
       "                                               Ciudad de ubicación  \\\n",
       "Departamento o Distrito  Fecha de notificación                       \n",
       "Caldas                   2020-04-01                     Villamaría   \n",
       "\n",
       "                                                  atención  Edad Sexo  \\\n",
       "Departamento o Distrito  Fecha de notificación                          \n",
       "Caldas                   2020-04-01             Recuperado    55    M   \n",
       "\n",
       "                                                      Tipo Estado  \\\n",
       "Departamento o Distrito  Fecha de notificación                      \n",
       "Caldas                   2020-04-01             En estudio   Leve   \n",
       "\n",
       "                                               Fecha de muerte  \\\n",
       "Departamento o Distrito  Fecha de notificación                   \n",
       "Caldas                   2020-04-01                        NaT   \n",
       "\n",
       "                                               Fecha recuperado  \n",
       "Departamento o Distrito  Fecha de notificación                   \n",
       "Caldas                   2020-04-01                  2020-04-16  "
      ]
     },
     "execution_count": 1108,
     "metadata": {},
     "output_type": "execute_result"
    }
   ],
   "source": [
    "df_Dpto_Fecha.loc[(departamentos,fecha1),:]"
   ]
  },
  {
   "cell_type": "code",
   "execution_count": 1109,
   "metadata": {},
   "outputs": [
    {
     "data": {
      "text/html": [
       "<div>\n",
       "<style scoped>\n",
       "    .dataframe tbody tr th:only-of-type {\n",
       "        vertical-align: middle;\n",
       "    }\n",
       "\n",
       "    .dataframe tbody tr th {\n",
       "        vertical-align: top;\n",
       "    }\n",
       "\n",
       "    .dataframe thead th {\n",
       "        text-align: right;\n",
       "    }\n",
       "</style>\n",
       "<table border=\"1\" class=\"dataframe\">\n",
       "  <thead>\n",
       "    <tr style=\"text-align: right;\">\n",
       "      <th></th>\n",
       "      <th></th>\n",
       "      <th>ID de caso</th>\n",
       "      <th>Ciudad de ubicación</th>\n",
       "      <th>atención</th>\n",
       "      <th>Edad</th>\n",
       "      <th>Sexo</th>\n",
       "      <th>Tipo</th>\n",
       "      <th>Estado</th>\n",
       "      <th>Fecha de muerte</th>\n",
       "      <th>Fecha recuperado</th>\n",
       "    </tr>\n",
       "    <tr>\n",
       "      <th>Departamento o Distrito</th>\n",
       "      <th>Fecha de notificación</th>\n",
       "      <th></th>\n",
       "      <th></th>\n",
       "      <th></th>\n",
       "      <th></th>\n",
       "      <th></th>\n",
       "      <th></th>\n",
       "      <th></th>\n",
       "      <th></th>\n",
       "      <th></th>\n",
       "    </tr>\n",
       "  </thead>\n",
       "  <tbody>\n",
       "    <tr>\n",
       "      <th rowspan=\"11\" valign=\"top\">Caldas</th>\n",
       "      <th>2020-03-12</th>\n",
       "      <td>31</td>\n",
       "      <td>Manizales</td>\n",
       "      <td>Recuperado</td>\n",
       "      <td>65</td>\n",
       "      <td>M</td>\n",
       "      <td>Importado</td>\n",
       "      <td>Leve</td>\n",
       "      <td>NaT</td>\n",
       "      <td>2020-03-26</td>\n",
       "    </tr>\n",
       "    <tr>\n",
       "      <th>2020-03-17</th>\n",
       "      <td>123</td>\n",
       "      <td>Viterbo</td>\n",
       "      <td>Recuperado</td>\n",
       "      <td>38</td>\n",
       "      <td>F</td>\n",
       "      <td>Importado</td>\n",
       "      <td>Leve</td>\n",
       "      <td>NaT</td>\n",
       "      <td>2020-03-31</td>\n",
       "    </tr>\n",
       "    <tr>\n",
       "      <th>2020-03-18</th>\n",
       "      <td>181</td>\n",
       "      <td>Manizales</td>\n",
       "      <td>Recuperado</td>\n",
       "      <td>22</td>\n",
       "      <td>F</td>\n",
       "      <td>Importado</td>\n",
       "      <td>Leve</td>\n",
       "      <td>NaT</td>\n",
       "      <td>2020-04-01</td>\n",
       "    </tr>\n",
       "    <tr>\n",
       "      <th>2020-03-19</th>\n",
       "      <td>218</td>\n",
       "      <td>La Dorada</td>\n",
       "      <td>Recuperado</td>\n",
       "      <td>24</td>\n",
       "      <td>F</td>\n",
       "      <td>Relacionado</td>\n",
       "      <td>Leve</td>\n",
       "      <td>NaT</td>\n",
       "      <td>2020-03-31</td>\n",
       "    </tr>\n",
       "    <tr>\n",
       "      <th>2020-03-19</th>\n",
       "      <td>219</td>\n",
       "      <td>Chinchiná</td>\n",
       "      <td>Recuperado</td>\n",
       "      <td>51</td>\n",
       "      <td>M</td>\n",
       "      <td>Importado</td>\n",
       "      <td>Leve</td>\n",
       "      <td>NaT</td>\n",
       "      <td>2020-03-28</td>\n",
       "    </tr>\n",
       "    <tr>\n",
       "      <th>...</th>\n",
       "      <td>...</td>\n",
       "      <td>...</td>\n",
       "      <td>...</td>\n",
       "      <td>...</td>\n",
       "      <td>...</td>\n",
       "      <td>...</td>\n",
       "      <td>...</td>\n",
       "      <td>...</td>\n",
       "      <td>...</td>\n",
       "    </tr>\n",
       "    <tr>\n",
       "      <th>2020-07-24</th>\n",
       "      <td>237277</td>\n",
       "      <td>Manizales</td>\n",
       "      <td>Casa</td>\n",
       "      <td>26</td>\n",
       "      <td>F</td>\n",
       "      <td>En estudio</td>\n",
       "      <td>Leve</td>\n",
       "      <td>NaT</td>\n",
       "      <td>NaT</td>\n",
       "    </tr>\n",
       "    <tr>\n",
       "      <th>2020-07-25</th>\n",
       "      <td>236859</td>\n",
       "      <td>Manizales</td>\n",
       "      <td>Casa</td>\n",
       "      <td>29</td>\n",
       "      <td>F</td>\n",
       "      <td>En estudio</td>\n",
       "      <td>Leve</td>\n",
       "      <td>NaT</td>\n",
       "      <td>NaT</td>\n",
       "    </tr>\n",
       "    <tr>\n",
       "      <th>2020-07-25</th>\n",
       "      <td>236861</td>\n",
       "      <td>Manizales</td>\n",
       "      <td>Casa</td>\n",
       "      <td>5</td>\n",
       "      <td>M</td>\n",
       "      <td>En estudio</td>\n",
       "      <td>Leve</td>\n",
       "      <td>NaT</td>\n",
       "      <td>NaT</td>\n",
       "    </tr>\n",
       "    <tr>\n",
       "      <th>2020-07-25</th>\n",
       "      <td>236893</td>\n",
       "      <td>Manizales</td>\n",
       "      <td>Casa</td>\n",
       "      <td>63</td>\n",
       "      <td>M</td>\n",
       "      <td>En estudio</td>\n",
       "      <td>Leve</td>\n",
       "      <td>NaT</td>\n",
       "      <td>NaT</td>\n",
       "    </tr>\n",
       "    <tr>\n",
       "      <th>2020-07-25</th>\n",
       "      <td>236894</td>\n",
       "      <td>Manizales</td>\n",
       "      <td>Casa</td>\n",
       "      <td>54</td>\n",
       "      <td>M</td>\n",
       "      <td>En estudio</td>\n",
       "      <td>Leve</td>\n",
       "      <td>NaT</td>\n",
       "      <td>NaT</td>\n",
       "    </tr>\n",
       "  </tbody>\n",
       "</table>\n",
       "<p>651 rows × 9 columns</p>\n",
       "</div>"
      ],
      "text/plain": [
       "                                                ID de caso  \\\n",
       "Departamento o Distrito  Fecha de notificación               \n",
       "Caldas                   2020-03-12                     31   \n",
       "                         2020-03-17                    123   \n",
       "                         2020-03-18                    181   \n",
       "                         2020-03-19                    218   \n",
       "                         2020-03-19                    219   \n",
       "...                                                    ...   \n",
       "                         2020-07-24                 237277   \n",
       "                         2020-07-25                 236859   \n",
       "                         2020-07-25                 236861   \n",
       "                         2020-07-25                 236893   \n",
       "                         2020-07-25                 236894   \n",
       "\n",
       "                                               Ciudad de ubicación  \\\n",
       "Departamento o Distrito  Fecha de notificación                       \n",
       "Caldas                   2020-03-12                      Manizales   \n",
       "                         2020-03-17                        Viterbo   \n",
       "                         2020-03-18                      Manizales   \n",
       "                         2020-03-19                      La Dorada   \n",
       "                         2020-03-19                      Chinchiná   \n",
       "...                                                            ...   \n",
       "                         2020-07-24                      Manizales   \n",
       "                         2020-07-25                      Manizales   \n",
       "                         2020-07-25                      Manizales   \n",
       "                         2020-07-25                      Manizales   \n",
       "                         2020-07-25                      Manizales   \n",
       "\n",
       "                                                  atención  Edad Sexo  \\\n",
       "Departamento o Distrito  Fecha de notificación                          \n",
       "Caldas                   2020-03-12             Recuperado    65    M   \n",
       "                         2020-03-17             Recuperado    38    F   \n",
       "                         2020-03-18             Recuperado    22    F   \n",
       "                         2020-03-19             Recuperado    24    F   \n",
       "                         2020-03-19             Recuperado    51    M   \n",
       "...                                                    ...   ...  ...   \n",
       "                         2020-07-24                   Casa    26    F   \n",
       "                         2020-07-25                   Casa    29    F   \n",
       "                         2020-07-25                   Casa     5    M   \n",
       "                         2020-07-25                   Casa    63    M   \n",
       "                         2020-07-25                   Casa    54    M   \n",
       "\n",
       "                                                       Tipo Estado  \\\n",
       "Departamento o Distrito  Fecha de notificación                       \n",
       "Caldas                   2020-03-12               Importado   Leve   \n",
       "                         2020-03-17               Importado   Leve   \n",
       "                         2020-03-18               Importado   Leve   \n",
       "                         2020-03-19             Relacionado   Leve   \n",
       "                         2020-03-19               Importado   Leve   \n",
       "...                                                     ...    ...   \n",
       "                         2020-07-24              En estudio   Leve   \n",
       "                         2020-07-25              En estudio   Leve   \n",
       "                         2020-07-25              En estudio   Leve   \n",
       "                         2020-07-25              En estudio   Leve   \n",
       "                         2020-07-25              En estudio   Leve   \n",
       "\n",
       "                                               Fecha de muerte  \\\n",
       "Departamento o Distrito  Fecha de notificación                   \n",
       "Caldas                   2020-03-12                        NaT   \n",
       "                         2020-03-17                        NaT   \n",
       "                         2020-03-18                        NaT   \n",
       "                         2020-03-19                        NaT   \n",
       "                         2020-03-19                        NaT   \n",
       "...                                                        ...   \n",
       "                         2020-07-24                        NaT   \n",
       "                         2020-07-25                        NaT   \n",
       "                         2020-07-25                        NaT   \n",
       "                         2020-07-25                        NaT   \n",
       "                         2020-07-25                        NaT   \n",
       "\n",
       "                                               Fecha recuperado  \n",
       "Departamento o Distrito  Fecha de notificación                   \n",
       "Caldas                   2020-03-12                  2020-03-26  \n",
       "                         2020-03-17                  2020-03-31  \n",
       "                         2020-03-18                  2020-04-01  \n",
       "                         2020-03-19                  2020-03-31  \n",
       "                         2020-03-19                  2020-03-28  \n",
       "...                                                         ...  \n",
       "                         2020-07-24                         NaT  \n",
       "                         2020-07-25                         NaT  \n",
       "                         2020-07-25                         NaT  \n",
       "                         2020-07-25                         NaT  \n",
       "                         2020-07-25                         NaT  \n",
       "\n",
       "[651 rows x 9 columns]"
      ]
     },
     "execution_count": 1109,
     "metadata": {},
     "output_type": "execute_result"
    }
   ],
   "source": [
    "df_Dpto_Fecha.loc[(departamentos),:]"
   ]
  },
  {
   "cell_type": "code",
   "execution_count": 1110,
   "metadata": {},
   "outputs": [],
   "source": [
    "df_dpto_munic = df.set_index(['Departamento o Distrito ','Ciudad de ubicación']).sort_index()\n"
   ]
  },
  {
   "cell_type": "code",
   "execution_count": 1111,
   "metadata": {},
   "outputs": [],
   "source": [
    "df_dpto_munic = pd.merge(df_dpto_munic, colombia, left_index=True, right_index=True, how='inner')"
   ]
  },
  {
   "cell_type": "code",
   "execution_count": 1112,
   "metadata": {},
   "outputs": [
    {
     "data": {
      "text/html": [
       "<div>\n",
       "<style scoped>\n",
       "    .dataframe tbody tr th:only-of-type {\n",
       "        vertical-align: middle;\n",
       "    }\n",
       "\n",
       "    .dataframe tbody tr th {\n",
       "        vertical-align: top;\n",
       "    }\n",
       "\n",
       "    .dataframe thead th {\n",
       "        text-align: right;\n",
       "    }\n",
       "</style>\n",
       "<table border=\"1\" class=\"dataframe\">\n",
       "  <thead>\n",
       "    <tr style=\"text-align: right;\">\n",
       "      <th></th>\n",
       "      <th></th>\n",
       "      <th>ID de caso</th>\n",
       "      <th>Fecha de notificación</th>\n",
       "      <th>atención</th>\n",
       "      <th>Edad</th>\n",
       "      <th>Sexo</th>\n",
       "      <th>Tipo</th>\n",
       "      <th>Estado</th>\n",
       "      <th>Fecha de muerte</th>\n",
       "      <th>Fecha recuperado</th>\n",
       "      <th>2020</th>\n",
       "    </tr>\n",
       "    <tr>\n",
       "      <th>Departamento o Distrito</th>\n",
       "      <th>Ciudad de ubicación</th>\n",
       "      <th></th>\n",
       "      <th></th>\n",
       "      <th></th>\n",
       "      <th></th>\n",
       "      <th></th>\n",
       "      <th></th>\n",
       "      <th></th>\n",
       "      <th></th>\n",
       "      <th></th>\n",
       "      <th></th>\n",
       "    </tr>\n",
       "  </thead>\n",
       "  <tbody>\n",
       "    <tr>\n",
       "      <th rowspan=\"5\" valign=\"top\">Amazonas</th>\n",
       "      <th>Leticia</th>\n",
       "      <td>3439</td>\n",
       "      <td>2020-04-14</td>\n",
       "      <td>Recuperado</td>\n",
       "      <td>26</td>\n",
       "      <td>M</td>\n",
       "      <td>Relacionado</td>\n",
       "      <td>Leve</td>\n",
       "      <td>NaT</td>\n",
       "      <td>2020-05-19</td>\n",
       "      <td>49737</td>\n",
       "    </tr>\n",
       "    <tr>\n",
       "      <th>Leticia</th>\n",
       "      <td>3440</td>\n",
       "      <td>2020-04-13</td>\n",
       "      <td>Recuperado</td>\n",
       "      <td>47</td>\n",
       "      <td>F</td>\n",
       "      <td>Importado</td>\n",
       "      <td>Leve</td>\n",
       "      <td>NaT</td>\n",
       "      <td>2020-05-31</td>\n",
       "      <td>49737</td>\n",
       "    </tr>\n",
       "    <tr>\n",
       "      <th>Leticia</th>\n",
       "      <td>3494</td>\n",
       "      <td>2020-04-14</td>\n",
       "      <td>Recuperado</td>\n",
       "      <td>16</td>\n",
       "      <td>F</td>\n",
       "      <td>Relacionado</td>\n",
       "      <td>Leve</td>\n",
       "      <td>NaT</td>\n",
       "      <td>2020-05-29</td>\n",
       "      <td>49737</td>\n",
       "    </tr>\n",
       "    <tr>\n",
       "      <th>Leticia</th>\n",
       "      <td>3495</td>\n",
       "      <td>2020-04-14</td>\n",
       "      <td>Recuperado</td>\n",
       "      <td>41</td>\n",
       "      <td>F</td>\n",
       "      <td>Importado</td>\n",
       "      <td>Leve</td>\n",
       "      <td>NaT</td>\n",
       "      <td>2020-05-29</td>\n",
       "      <td>49737</td>\n",
       "    </tr>\n",
       "    <tr>\n",
       "      <th>Leticia</th>\n",
       "      <td>4064</td>\n",
       "      <td>2020-04-16</td>\n",
       "      <td>Recuperado</td>\n",
       "      <td>54</td>\n",
       "      <td>M</td>\n",
       "      <td>Relacionado</td>\n",
       "      <td>Leve</td>\n",
       "      <td>NaT</td>\n",
       "      <td>2020-04-29</td>\n",
       "      <td>49737</td>\n",
       "    </tr>\n",
       "    <tr>\n",
       "      <th>...</th>\n",
       "      <th>...</th>\n",
       "      <td>...</td>\n",
       "      <td>...</td>\n",
       "      <td>...</td>\n",
       "      <td>...</td>\n",
       "      <td>...</td>\n",
       "      <td>...</td>\n",
       "      <td>...</td>\n",
       "      <td>...</td>\n",
       "      <td>...</td>\n",
       "      <td>...</td>\n",
       "    </tr>\n",
       "    <tr>\n",
       "      <th rowspan=\"3\" valign=\"top\">Vaupés</th>\n",
       "      <th>Taraira</th>\n",
       "      <td>151420</td>\n",
       "      <td>2020-07-12</td>\n",
       "      <td>Recuperado</td>\n",
       "      <td>42</td>\n",
       "      <td>F</td>\n",
       "      <td>Relacionado</td>\n",
       "      <td>Leve</td>\n",
       "      <td>NaT</td>\n",
       "      <td>2020-07-25</td>\n",
       "      <td>2423</td>\n",
       "    </tr>\n",
       "    <tr>\n",
       "      <th>Taraira</th>\n",
       "      <td>151421</td>\n",
       "      <td>2020-07-12</td>\n",
       "      <td>Recuperado</td>\n",
       "      <td>2</td>\n",
       "      <td>M</td>\n",
       "      <td>Relacionado</td>\n",
       "      <td>Leve</td>\n",
       "      <td>NaT</td>\n",
       "      <td>2020-07-25</td>\n",
       "      <td>2423</td>\n",
       "    </tr>\n",
       "    <tr>\n",
       "      <th>Taraira</th>\n",
       "      <td>152756</td>\n",
       "      <td>2020-07-12</td>\n",
       "      <td>Recuperado</td>\n",
       "      <td>27</td>\n",
       "      <td>M</td>\n",
       "      <td>Relacionado</td>\n",
       "      <td>Leve</td>\n",
       "      <td>NaT</td>\n",
       "      <td>2020-07-25</td>\n",
       "      <td>2423</td>\n",
       "    </tr>\n",
       "    <tr>\n",
       "      <th rowspan=\"2\" valign=\"top\">Vichada</th>\n",
       "      <th>La Primavera</th>\n",
       "      <td>186226</td>\n",
       "      <td>2020-07-15</td>\n",
       "      <td>Hospital</td>\n",
       "      <td>78</td>\n",
       "      <td>F</td>\n",
       "      <td>En estudio</td>\n",
       "      <td>Moderado</td>\n",
       "      <td>NaT</td>\n",
       "      <td>NaT</td>\n",
       "      <td>9608</td>\n",
       "    </tr>\n",
       "    <tr>\n",
       "      <th>Puerto Carreño</th>\n",
       "      <td>25700</td>\n",
       "      <td>2020-05-29</td>\n",
       "      <td>Recuperado</td>\n",
       "      <td>20</td>\n",
       "      <td>M</td>\n",
       "      <td>En estudio</td>\n",
       "      <td>Asintomático</td>\n",
       "      <td>NaT</td>\n",
       "      <td>2020-06-07</td>\n",
       "      <td>20294</td>\n",
       "    </tr>\n",
       "  </tbody>\n",
       "</table>\n",
       "<p>106752 rows × 10 columns</p>\n",
       "</div>"
      ],
      "text/plain": [
       "                                              ID de caso  \\\n",
       "Departamento o Distrito  Ciudad de ubicación               \n",
       "Amazonas                 Leticia                    3439   \n",
       "                         Leticia                    3440   \n",
       "                         Leticia                    3494   \n",
       "                         Leticia                    3495   \n",
       "                         Leticia                    4064   \n",
       "...                                                  ...   \n",
       "Vaupés                   Taraira                  151420   \n",
       "                         Taraira                  151421   \n",
       "                         Taraira                  152756   \n",
       "Vichada                  La Primavera             186226   \n",
       "                         Puerto Carreño            25700   \n",
       "\n",
       "                                             Fecha de notificación  \\\n",
       "Departamento o Distrito  Ciudad de ubicación                         \n",
       "Amazonas                 Leticia                        2020-04-14   \n",
       "                         Leticia                        2020-04-13   \n",
       "                         Leticia                        2020-04-14   \n",
       "                         Leticia                        2020-04-14   \n",
       "                         Leticia                        2020-04-16   \n",
       "...                                                            ...   \n",
       "Vaupés                   Taraira                        2020-07-12   \n",
       "                         Taraira                        2020-07-12   \n",
       "                         Taraira                        2020-07-12   \n",
       "Vichada                  La Primavera                   2020-07-15   \n",
       "                         Puerto Carreño                 2020-05-29   \n",
       "\n",
       "                                                atención  Edad Sexo  \\\n",
       "Departamento o Distrito  Ciudad de ubicación                          \n",
       "Amazonas                 Leticia              Recuperado    26    M   \n",
       "                         Leticia              Recuperado    47    F   \n",
       "                         Leticia              Recuperado    16    F   \n",
       "                         Leticia              Recuperado    41    F   \n",
       "                         Leticia              Recuperado    54    M   \n",
       "...                                                  ...   ...  ...   \n",
       "Vaupés                   Taraira              Recuperado    42    F   \n",
       "                         Taraira              Recuperado     2    M   \n",
       "                         Taraira              Recuperado    27    M   \n",
       "Vichada                  La Primavera           Hospital    78    F   \n",
       "                         Puerto Carreño       Recuperado    20    M   \n",
       "\n",
       "                                                     Tipo        Estado  \\\n",
       "Departamento o Distrito  Ciudad de ubicación                              \n",
       "Amazonas                 Leticia              Relacionado          Leve   \n",
       "                         Leticia                Importado          Leve   \n",
       "                         Leticia              Relacionado          Leve   \n",
       "                         Leticia                Importado          Leve   \n",
       "                         Leticia              Relacionado          Leve   \n",
       "...                                                   ...           ...   \n",
       "Vaupés                   Taraira              Relacionado          Leve   \n",
       "                         Taraira              Relacionado          Leve   \n",
       "                         Taraira              Relacionado          Leve   \n",
       "Vichada                  La Primavera          En estudio      Moderado   \n",
       "                         Puerto Carreño        En estudio  Asintomático   \n",
       "\n",
       "                                             Fecha de muerte Fecha recuperado  \\\n",
       "Departamento o Distrito  Ciudad de ubicación                                    \n",
       "Amazonas                 Leticia                         NaT       2020-05-19   \n",
       "                         Leticia                         NaT       2020-05-31   \n",
       "                         Leticia                         NaT       2020-05-29   \n",
       "                         Leticia                         NaT       2020-05-29   \n",
       "                         Leticia                         NaT       2020-04-29   \n",
       "...                                                      ...              ...   \n",
       "Vaupés                   Taraira                         NaT       2020-07-25   \n",
       "                         Taraira                         NaT       2020-07-25   \n",
       "                         Taraira                         NaT       2020-07-25   \n",
       "Vichada                  La Primavera                    NaT              NaT   \n",
       "                         Puerto Carreño                  NaT       2020-06-07   \n",
       "\n",
       "                                               2020  \n",
       "Departamento o Distrito  Ciudad de ubicación         \n",
       "Amazonas                 Leticia              49737  \n",
       "                         Leticia              49737  \n",
       "                         Leticia              49737  \n",
       "                         Leticia              49737  \n",
       "                         Leticia              49737  \n",
       "...                                             ...  \n",
       "Vaupés                   Taraira               2423  \n",
       "                         Taraira               2423  \n",
       "                         Taraira               2423  \n",
       "Vichada                  La Primavera          9608  \n",
       "                         Puerto Carreño       20294  \n",
       "\n",
       "[106752 rows x 10 columns]"
      ]
     },
     "execution_count": 1112,
     "metadata": {},
     "output_type": "execute_result"
    }
   ],
   "source": [
    "df_dpto_munic"
   ]
  },
  {
   "cell_type": "code",
   "execution_count": 1113,
   "metadata": {},
   "outputs": [
    {
     "data": {
      "text/html": [
       "<div>\n",
       "<style scoped>\n",
       "    .dataframe tbody tr th:only-of-type {\n",
       "        vertical-align: middle;\n",
       "    }\n",
       "\n",
       "    .dataframe tbody tr th {\n",
       "        vertical-align: top;\n",
       "    }\n",
       "\n",
       "    .dataframe thead th {\n",
       "        text-align: right;\n",
       "    }\n",
       "</style>\n",
       "<table border=\"1\" class=\"dataframe\">\n",
       "  <thead>\n",
       "    <tr style=\"text-align: right;\">\n",
       "      <th></th>\n",
       "      <th></th>\n",
       "      <th>ID de caso</th>\n",
       "      <th>Fecha de notificación</th>\n",
       "      <th>atención</th>\n",
       "      <th>Edad</th>\n",
       "      <th>Sexo</th>\n",
       "      <th>Tipo</th>\n",
       "      <th>Estado</th>\n",
       "      <th>Fecha de muerte</th>\n",
       "      <th>Fecha recuperado</th>\n",
       "      <th>Población</th>\n",
       "    </tr>\n",
       "    <tr>\n",
       "      <th>Departamento o Distrito</th>\n",
       "      <th>Ciudad de ubicación</th>\n",
       "      <th></th>\n",
       "      <th></th>\n",
       "      <th></th>\n",
       "      <th></th>\n",
       "      <th></th>\n",
       "      <th></th>\n",
       "      <th></th>\n",
       "      <th></th>\n",
       "      <th></th>\n",
       "      <th></th>\n",
       "    </tr>\n",
       "  </thead>\n",
       "  <tbody>\n",
       "    <tr>\n",
       "      <th rowspan=\"5\" valign=\"top\">Amazonas</th>\n",
       "      <th>Leticia</th>\n",
       "      <td>3439</td>\n",
       "      <td>2020-04-14</td>\n",
       "      <td>Recuperado</td>\n",
       "      <td>26</td>\n",
       "      <td>M</td>\n",
       "      <td>Relacionado</td>\n",
       "      <td>Leve</td>\n",
       "      <td>NaT</td>\n",
       "      <td>2020-05-19</td>\n",
       "      <td>49737</td>\n",
       "    </tr>\n",
       "    <tr>\n",
       "      <th>Leticia</th>\n",
       "      <td>3440</td>\n",
       "      <td>2020-04-13</td>\n",
       "      <td>Recuperado</td>\n",
       "      <td>47</td>\n",
       "      <td>F</td>\n",
       "      <td>Importado</td>\n",
       "      <td>Leve</td>\n",
       "      <td>NaT</td>\n",
       "      <td>2020-05-31</td>\n",
       "      <td>49737</td>\n",
       "    </tr>\n",
       "    <tr>\n",
       "      <th>Leticia</th>\n",
       "      <td>3494</td>\n",
       "      <td>2020-04-14</td>\n",
       "      <td>Recuperado</td>\n",
       "      <td>16</td>\n",
       "      <td>F</td>\n",
       "      <td>Relacionado</td>\n",
       "      <td>Leve</td>\n",
       "      <td>NaT</td>\n",
       "      <td>2020-05-29</td>\n",
       "      <td>49737</td>\n",
       "    </tr>\n",
       "    <tr>\n",
       "      <th>Leticia</th>\n",
       "      <td>3495</td>\n",
       "      <td>2020-04-14</td>\n",
       "      <td>Recuperado</td>\n",
       "      <td>41</td>\n",
       "      <td>F</td>\n",
       "      <td>Importado</td>\n",
       "      <td>Leve</td>\n",
       "      <td>NaT</td>\n",
       "      <td>2020-05-29</td>\n",
       "      <td>49737</td>\n",
       "    </tr>\n",
       "    <tr>\n",
       "      <th>Leticia</th>\n",
       "      <td>4064</td>\n",
       "      <td>2020-04-16</td>\n",
       "      <td>Recuperado</td>\n",
       "      <td>54</td>\n",
       "      <td>M</td>\n",
       "      <td>Relacionado</td>\n",
       "      <td>Leve</td>\n",
       "      <td>NaT</td>\n",
       "      <td>2020-04-29</td>\n",
       "      <td>49737</td>\n",
       "    </tr>\n",
       "    <tr>\n",
       "      <th>...</th>\n",
       "      <th>...</th>\n",
       "      <td>...</td>\n",
       "      <td>...</td>\n",
       "      <td>...</td>\n",
       "      <td>...</td>\n",
       "      <td>...</td>\n",
       "      <td>...</td>\n",
       "      <td>...</td>\n",
       "      <td>...</td>\n",
       "      <td>...</td>\n",
       "      <td>...</td>\n",
       "    </tr>\n",
       "    <tr>\n",
       "      <th rowspan=\"3\" valign=\"top\">Vaupés</th>\n",
       "      <th>Taraira</th>\n",
       "      <td>151420</td>\n",
       "      <td>2020-07-12</td>\n",
       "      <td>Recuperado</td>\n",
       "      <td>42</td>\n",
       "      <td>F</td>\n",
       "      <td>Relacionado</td>\n",
       "      <td>Leve</td>\n",
       "      <td>NaT</td>\n",
       "      <td>2020-07-25</td>\n",
       "      <td>2423</td>\n",
       "    </tr>\n",
       "    <tr>\n",
       "      <th>Taraira</th>\n",
       "      <td>151421</td>\n",
       "      <td>2020-07-12</td>\n",
       "      <td>Recuperado</td>\n",
       "      <td>2</td>\n",
       "      <td>M</td>\n",
       "      <td>Relacionado</td>\n",
       "      <td>Leve</td>\n",
       "      <td>NaT</td>\n",
       "      <td>2020-07-25</td>\n",
       "      <td>2423</td>\n",
       "    </tr>\n",
       "    <tr>\n",
       "      <th>Taraira</th>\n",
       "      <td>152756</td>\n",
       "      <td>2020-07-12</td>\n",
       "      <td>Recuperado</td>\n",
       "      <td>27</td>\n",
       "      <td>M</td>\n",
       "      <td>Relacionado</td>\n",
       "      <td>Leve</td>\n",
       "      <td>NaT</td>\n",
       "      <td>2020-07-25</td>\n",
       "      <td>2423</td>\n",
       "    </tr>\n",
       "    <tr>\n",
       "      <th rowspan=\"2\" valign=\"top\">Vichada</th>\n",
       "      <th>La Primavera</th>\n",
       "      <td>186226</td>\n",
       "      <td>2020-07-15</td>\n",
       "      <td>Hospital</td>\n",
       "      <td>78</td>\n",
       "      <td>F</td>\n",
       "      <td>En estudio</td>\n",
       "      <td>Moderado</td>\n",
       "      <td>NaT</td>\n",
       "      <td>NaT</td>\n",
       "      <td>9608</td>\n",
       "    </tr>\n",
       "    <tr>\n",
       "      <th>Puerto Carreño</th>\n",
       "      <td>25700</td>\n",
       "      <td>2020-05-29</td>\n",
       "      <td>Recuperado</td>\n",
       "      <td>20</td>\n",
       "      <td>M</td>\n",
       "      <td>En estudio</td>\n",
       "      <td>Asintomático</td>\n",
       "      <td>NaT</td>\n",
       "      <td>2020-06-07</td>\n",
       "      <td>20294</td>\n",
       "    </tr>\n",
       "  </tbody>\n",
       "</table>\n",
       "<p>106752 rows × 10 columns</p>\n",
       "</div>"
      ],
      "text/plain": [
       "                                              ID de caso  \\\n",
       "Departamento o Distrito  Ciudad de ubicación               \n",
       "Amazonas                 Leticia                    3439   \n",
       "                         Leticia                    3440   \n",
       "                         Leticia                    3494   \n",
       "                         Leticia                    3495   \n",
       "                         Leticia                    4064   \n",
       "...                                                  ...   \n",
       "Vaupés                   Taraira                  151420   \n",
       "                         Taraira                  151421   \n",
       "                         Taraira                  152756   \n",
       "Vichada                  La Primavera             186226   \n",
       "                         Puerto Carreño            25700   \n",
       "\n",
       "                                             Fecha de notificación  \\\n",
       "Departamento o Distrito  Ciudad de ubicación                         \n",
       "Amazonas                 Leticia                        2020-04-14   \n",
       "                         Leticia                        2020-04-13   \n",
       "                         Leticia                        2020-04-14   \n",
       "                         Leticia                        2020-04-14   \n",
       "                         Leticia                        2020-04-16   \n",
       "...                                                            ...   \n",
       "Vaupés                   Taraira                        2020-07-12   \n",
       "                         Taraira                        2020-07-12   \n",
       "                         Taraira                        2020-07-12   \n",
       "Vichada                  La Primavera                   2020-07-15   \n",
       "                         Puerto Carreño                 2020-05-29   \n",
       "\n",
       "                                                atención  Edad Sexo  \\\n",
       "Departamento o Distrito  Ciudad de ubicación                          \n",
       "Amazonas                 Leticia              Recuperado    26    M   \n",
       "                         Leticia              Recuperado    47    F   \n",
       "                         Leticia              Recuperado    16    F   \n",
       "                         Leticia              Recuperado    41    F   \n",
       "                         Leticia              Recuperado    54    M   \n",
       "...                                                  ...   ...  ...   \n",
       "Vaupés                   Taraira              Recuperado    42    F   \n",
       "                         Taraira              Recuperado     2    M   \n",
       "                         Taraira              Recuperado    27    M   \n",
       "Vichada                  La Primavera           Hospital    78    F   \n",
       "                         Puerto Carreño       Recuperado    20    M   \n",
       "\n",
       "                                                     Tipo        Estado  \\\n",
       "Departamento o Distrito  Ciudad de ubicación                              \n",
       "Amazonas                 Leticia              Relacionado          Leve   \n",
       "                         Leticia                Importado          Leve   \n",
       "                         Leticia              Relacionado          Leve   \n",
       "                         Leticia                Importado          Leve   \n",
       "                         Leticia              Relacionado          Leve   \n",
       "...                                                   ...           ...   \n",
       "Vaupés                   Taraira              Relacionado          Leve   \n",
       "                         Taraira              Relacionado          Leve   \n",
       "                         Taraira              Relacionado          Leve   \n",
       "Vichada                  La Primavera          En estudio      Moderado   \n",
       "                         Puerto Carreño        En estudio  Asintomático   \n",
       "\n",
       "                                             Fecha de muerte Fecha recuperado  \\\n",
       "Departamento o Distrito  Ciudad de ubicación                                    \n",
       "Amazonas                 Leticia                         NaT       2020-05-19   \n",
       "                         Leticia                         NaT       2020-05-31   \n",
       "                         Leticia                         NaT       2020-05-29   \n",
       "                         Leticia                         NaT       2020-05-29   \n",
       "                         Leticia                         NaT       2020-04-29   \n",
       "...                                                      ...              ...   \n",
       "Vaupés                   Taraira                         NaT       2020-07-25   \n",
       "                         Taraira                         NaT       2020-07-25   \n",
       "                         Taraira                         NaT       2020-07-25   \n",
       "Vichada                  La Primavera                    NaT              NaT   \n",
       "                         Puerto Carreño                  NaT       2020-06-07   \n",
       "\n",
       "                                              Población  \n",
       "Departamento o Distrito  Ciudad de ubicación             \n",
       "Amazonas                 Leticia                  49737  \n",
       "                         Leticia                  49737  \n",
       "                         Leticia                  49737  \n",
       "                         Leticia                  49737  \n",
       "                         Leticia                  49737  \n",
       "...                                                 ...  \n",
       "Vaupés                   Taraira                   2423  \n",
       "                         Taraira                   2423  \n",
       "                         Taraira                   2423  \n",
       "Vichada                  La Primavera              9608  \n",
       "                         Puerto Carreño           20294  \n",
       "\n",
       "[106752 rows x 10 columns]"
      ]
     },
     "execution_count": 1113,
     "metadata": {},
     "output_type": "execute_result"
    }
   ],
   "source": [
    "df_dpto_munic.rename(columns={'2020':'Población'}, inplace=True)\n",
    "df_dpto_munic"
   ]
  },
  {
   "cell_type": "code",
   "execution_count": 1114,
   "metadata": {},
   "outputs": [
    {
     "data": {
      "text/plain": [
       "314"
      ]
     },
     "execution_count": 1114,
     "metadata": {},
     "output_type": "execute_result"
    }
   ],
   "source": [
    "casos = df_dpto_munic.loc[(departamentos,municipios),['ID de caso',\n",
    "       'atención', \n",
    "       'Estado', 'Fecha de muerte', 'Fecha recuperado']].count()\n",
    "casos['ID de caso']"
   ]
  },
  {
   "cell_type": "code",
   "execution_count": 1115,
   "metadata": {},
   "outputs": [],
   "source": [
    "filtro = df_completa['Estado'] == 'Fallecido'\n",
    "\n",
    "df_fallecidos = df_dpto_munic.loc[filtro,:]\n"
   ]
  },
  {
   "cell_type": "code",
   "execution_count": 1116,
   "metadata": {},
   "outputs": [
    {
     "data": {
      "text/plain": [
       "3"
      ]
     },
     "execution_count": 1116,
     "metadata": {},
     "output_type": "execute_result"
    }
   ],
   "source": [
    "fallecidos = df_fallecidos.loc[(departamentos,municipios),'Estado'].count()\n",
    "fallecidos"
   ]
  },
  {
   "cell_type": "code",
   "execution_count": 1117,
   "metadata": {},
   "outputs": [
    {
     "data": {
      "text/plain": [
       "2020    0.67\n",
       "dtype: float64"
      ]
     },
     "execution_count": 1117,
     "metadata": {},
     "output_type": "execute_result"
    }
   ],
   "source": [
    "Tasa_mortalidad= (fallecidos / poblacion)*100000\n",
    "Tasa_mortalidad"
   ]
  },
  {
   "cell_type": "code",
   "execution_count": 1118,
   "metadata": {},
   "outputs": [
    {
     "data": {
      "text/plain": [
       "0.9554140127388535"
      ]
     },
     "execution_count": 1118,
     "metadata": {},
     "output_type": "execute_result"
    }
   ],
   "source": [
    "Tasa_letalidad= (fallecidos / casos['ID de caso'])*100\n",
    "Tasa_letalidad"
   ]
  },
  {
   "cell_type": "code",
   "execution_count": 1119,
   "metadata": {},
   "outputs": [],
   "source": [
    "filtro1= df_dpto_munic['Estado']== 'Leve'\n",
    "df_leve = df_dpto_munic.loc[filtro1,:]"
   ]
  },
  {
   "cell_type": "code",
   "execution_count": 1120,
   "metadata": {},
   "outputs": [],
   "source": [
    "filtro2= df_dpto_munic['Estado']== 'Grave'\n",
    "df_grave = df_dpto_munic.loc[filtro2,:]"
   ]
  },
  {
   "cell_type": "code",
   "execution_count": 1121,
   "metadata": {},
   "outputs": [],
   "source": [
    "filtro3= df_dpto_munic['Estado']== 'Moderado'\n",
    "df_moderado = df_dpto_munic.loc[filtro3,:]"
   ]
  },
  {
   "cell_type": "code",
   "execution_count": 1122,
   "metadata": {},
   "outputs": [],
   "source": [
    "filtro4= df_dpto_munic['atención']== 'Hospital'\n",
    "df_hospital = df_dpto_munic.loc[filtro4,:]"
   ]
  },
  {
   "cell_type": "code",
   "execution_count": 1123,
   "metadata": {},
   "outputs": [],
   "source": [
    "filtro5= df_dpto_munic['atención']== 'Hospital UCI'\n",
    "df_hospital_uci = df_dpto_munic.loc[filtro5,:]"
   ]
  },
  {
   "cell_type": "code",
   "execution_count": 1124,
   "metadata": {},
   "outputs": [],
   "source": [
    "filtro6= df_dpto_munic['Estado']== 'Asintomático'\n",
    "df_asintomatico = df_completa.loc[filtro6,:]"
   ]
  },
  {
   "cell_type": "code",
   "execution_count": 1125,
   "metadata": {},
   "outputs": [],
   "source": [
    "filtro7= df_dpto_munic['atención']== 'Casa'\n",
    "df_casa = df_dpto_munic.loc[filtro7,:]"
   ]
  },
  {
   "cell_type": "code",
   "execution_count": 1126,
   "metadata": {},
   "outputs": [],
   "source": [
    "filtro8= df_dpto_munic['atención']== 'Recuperado'\n",
    "df_recuperado = df_dpto_munic.loc[filtro8,:]"
   ]
  },
  {
   "cell_type": "code",
   "execution_count": 1127,
   "metadata": {},
   "outputs": [
    {
     "data": {
      "text/html": [
       "<div>\n",
       "<style scoped>\n",
       "    .dataframe tbody tr th:only-of-type {\n",
       "        vertical-align: middle;\n",
       "    }\n",
       "\n",
       "    .dataframe tbody tr th {\n",
       "        vertical-align: top;\n",
       "    }\n",
       "\n",
       "    .dataframe thead th {\n",
       "        text-align: right;\n",
       "    }\n",
       "</style>\n",
       "<table border=\"1\" class=\"dataframe\">\n",
       "  <thead>\n",
       "    <tr style=\"text-align: right;\">\n",
       "      <th></th>\n",
       "      <th></th>\n",
       "      <th>ID de caso</th>\n",
       "      <th>Fecha de notificación</th>\n",
       "      <th>atención</th>\n",
       "      <th>Edad</th>\n",
       "      <th>Sexo</th>\n",
       "      <th>Tipo</th>\n",
       "      <th>Estado</th>\n",
       "      <th>Fecha de muerte</th>\n",
       "      <th>Fecha recuperado</th>\n",
       "      <th>Población</th>\n",
       "    </tr>\n",
       "    <tr>\n",
       "      <th>Departamento o Distrito</th>\n",
       "      <th>Ciudad de ubicación</th>\n",
       "      <th></th>\n",
       "      <th></th>\n",
       "      <th></th>\n",
       "      <th></th>\n",
       "      <th></th>\n",
       "      <th></th>\n",
       "      <th></th>\n",
       "      <th></th>\n",
       "      <th></th>\n",
       "      <th></th>\n",
       "    </tr>\n",
       "  </thead>\n",
       "  <tbody>\n",
       "  </tbody>\n",
       "</table>\n",
       "</div>"
      ],
      "text/plain": [
       "Empty DataFrame\n",
       "Columns: [ID de caso, Fecha de notificación, atención, Edad, Sexo, Tipo, Estado, Fecha de muerte, Fecha recuperado, Población]\n",
       "Index: []"
      ]
     },
     "execution_count": 1127,
     "metadata": {},
     "output_type": "execute_result"
    }
   ],
   "source": [
    "filtroFechas = df_dpto_munic['Fecha de notificación']== fecha1\n",
    "df_dpto_munic.loc[(municipios,filtroFechas),:]\n"
   ]
  },
  {
   "cell_type": "code",
   "execution_count": 1128,
   "metadata": {},
   "outputs": [
    {
     "data": {
      "text/plain": [
       "array(['Leve', 'Fallecido', 'Asintomático', 'Moderado', nan, 'Grave'],\n",
       "      dtype=object)"
      ]
     },
     "execution_count": 1128,
     "metadata": {},
     "output_type": "execute_result"
    }
   ],
   "source": [
    "pd.unique(df_dpto_munic['Estado'])"
   ]
  },
  {
   "cell_type": "code",
   "execution_count": 1129,
   "metadata": {},
   "outputs": [
    {
     "data": {
      "text/plain": [
       "23"
      ]
     },
     "execution_count": 1129,
     "metadata": {},
     "output_type": "execute_result"
    }
   ],
   "source": [
    "asintomatico = df_asintomatico.loc[(departamentos, municipios), 'Estado'].count()\n",
    "asintomatico"
   ]
  },
  {
   "cell_type": "code",
   "execution_count": 1130,
   "metadata": {},
   "outputs": [
    {
     "data": {
      "text/plain": [
       "7.395498392282958"
      ]
     },
     "execution_count": 1130,
     "metadata": {},
     "output_type": "execute_result"
    }
   ],
   "source": [
    "Porcentaje_asintomaticos = (asintomatico/(casos-fallecidos))*100\n",
    "Porcentaje_asintomaticos['ID de caso']"
   ]
  },
  {
   "cell_type": "code",
   "execution_count": 1131,
   "metadata": {},
   "outputs": [
    {
     "data": {
      "text/plain": [
       "270"
      ]
     },
     "execution_count": 1131,
     "metadata": {},
     "output_type": "execute_result"
    }
   ],
   "source": [
    "leves = df_leve.loc[(departamentos, municipios), 'Estado'].count()\n",
    "leves"
   ]
  },
  {
   "cell_type": "code",
   "execution_count": 1132,
   "metadata": {},
   "outputs": [
    {
     "data": {
      "text/plain": [
       "86.81672025723472"
      ]
     },
     "execution_count": 1132,
     "metadata": {},
     "output_type": "execute_result"
    }
   ],
   "source": [
    "Porcentaje_leves = (leves/(casos-fallecidos))*100\n",
    "Porcentaje_leves['ID de caso']"
   ]
  },
  {
   "cell_type": "code",
   "execution_count": 1133,
   "metadata": {},
   "outputs": [
    {
     "data": {
      "text/plain": [
       "94.21221864951768"
      ]
     },
     "execution_count": 1133,
     "metadata": {},
     "output_type": "execute_result"
    }
   ],
   "source": [
    "asinto_leve= Porcentaje_asintomaticos + Porcentaje_leves\n",
    "asinto_leve['ID de caso']"
   ]
  },
  {
   "cell_type": "code",
   "execution_count": 1134,
   "metadata": {},
   "outputs": [
    {
     "data": {
      "text/plain": [
       "11"
      ]
     },
     "execution_count": 1134,
     "metadata": {},
     "output_type": "execute_result"
    }
   ],
   "source": [
    "moderados = df_moderado.loc[(departamentos, municipios), 'Estado'].count()\n",
    "moderados"
   ]
  },
  {
   "cell_type": "code",
   "execution_count": 1135,
   "metadata": {},
   "outputs": [
    {
     "data": {
      "text/plain": [
       "3.536977491961415"
      ]
     },
     "execution_count": 1135,
     "metadata": {},
     "output_type": "execute_result"
    }
   ],
   "source": [
    "Porcentaje_moderados = (moderados/(casos-fallecidos))*100\n",
    "Porcentaje_moderados['ID de caso']"
   ]
  },
  {
   "cell_type": "code",
   "execution_count": 1136,
   "metadata": {},
   "outputs": [
    {
     "data": {
      "text/plain": [
       "97.74919614147909"
      ]
     },
     "execution_count": 1136,
     "metadata": {},
     "output_type": "execute_result"
    }
   ],
   "source": [
    "asinto_leve_moder= asinto_leve + Porcentaje_moderados\n",
    "asinto_leve_moder['ID de caso']"
   ]
  },
  {
   "cell_type": "code",
   "execution_count": 1137,
   "metadata": {},
   "outputs": [
    {
     "data": {
      "text/plain": [
       "3"
      ]
     },
     "execution_count": 1137,
     "metadata": {},
     "output_type": "execute_result"
    }
   ],
   "source": [
    "graves = df_grave.loc[(departamentos, municipios), 'Estado'].count()\n",
    "graves"
   ]
  },
  {
   "cell_type": "code",
   "execution_count": 1138,
   "metadata": {},
   "outputs": [
    {
     "data": {
      "text/plain": [
       "0.964630225080386"
      ]
     },
     "execution_count": 1138,
     "metadata": {},
     "output_type": "execute_result"
    }
   ],
   "source": [
    "Porcentaje_graves = (graves/(casos-fallecidos))*100\n",
    "Porcentaje_graves['ID de caso']"
   ]
  },
  {
   "cell_type": "code",
   "execution_count": 1139,
   "metadata": {},
   "outputs": [],
   "source": [
    "a =Porcentaje_graves.astype(float)['ID de caso'] "
   ]
  },
  {
   "cell_type": "code",
   "execution_count": 1140,
   "metadata": {},
   "outputs": [
    {
     "data": {
      "text/plain": [
       "2020    446160\n",
       "dtype: int64"
      ]
     },
     "execution_count": 1140,
     "metadata": {},
     "output_type": "execute_result"
    }
   ],
   "source": [
    "poblacion"
   ]
  },
  {
   "cell_type": "code",
   "execution_count": 1141,
   "metadata": {},
   "outputs": [
    {
     "data": {
      "text/plain": [
       "2020    2.52e-07\n",
       "dtype: float64"
      ]
     },
     "execution_count": 1141,
     "metadata": {},
     "output_type": "execute_result"
    }
   ],
   "source": [
    "Poblacion_en_Riesgo_dia = (((graves+moderados+fallecidos)/poblacion)/dias)\n",
    "Poblacion_en_Riesgo_dia"
   ]
  },
  {
   "cell_type": "code",
   "execution_count": 1142,
   "metadata": {},
   "outputs": [
    {
     "data": {
      "text/plain": [
       "array(['Recuperado', 'Fallecido', 'Hospital', nan, 'Hospital UCI', 'Casa'],\n",
       "      dtype=object)"
      ]
     },
     "execution_count": 1142,
     "metadata": {},
     "output_type": "execute_result"
    }
   ],
   "source": [
    "pd.unique(df_completa['atención'])"
   ]
  },
  {
   "cell_type": "code",
   "execution_count": 1143,
   "metadata": {},
   "outputs": [
    {
     "data": {
      "text/plain": [
       "131"
      ]
     },
     "execution_count": 1143,
     "metadata": {},
     "output_type": "execute_result"
    }
   ],
   "source": [
    "recuperado = df_recuperado.loc[(departamentos, municipios), 'atención'].count()\n",
    "recuperado"
   ]
  },
  {
   "cell_type": "code",
   "execution_count": 1144,
   "metadata": {},
   "outputs": [
    {
     "data": {
      "text/plain": [
       "41.71974522292994"
      ]
     },
     "execution_count": 1144,
     "metadata": {},
     "output_type": "execute_result"
    }
   ],
   "source": [
    "Porcentaje_recuperado = (recuperado/casos)*100\n",
    "Porcentaje_recuperado['ID de caso']"
   ]
  },
  {
   "cell_type": "code",
   "execution_count": 1145,
   "metadata": {},
   "outputs": [
    {
     "data": {
      "text/plain": [
       "164"
      ]
     },
     "execution_count": 1145,
     "metadata": {},
     "output_type": "execute_result"
    }
   ],
   "source": [
    "casa = df_casa.loc[(departamentos, municipios), 'atención'].count()\n",
    "casa"
   ]
  },
  {
   "cell_type": "code",
   "execution_count": 1146,
   "metadata": {},
   "outputs": [
    {
     "data": {
      "text/plain": [
       "52.22929936305732"
      ]
     },
     "execution_count": 1146,
     "metadata": {},
     "output_type": "execute_result"
    }
   ],
   "source": [
    "Porcentaje_casa = (casa/casos)*100\n",
    "Porcentaje_casa['ID de caso']"
   ]
  },
  {
   "cell_type": "code",
   "execution_count": 1147,
   "metadata": {},
   "outputs": [
    {
     "data": {
      "text/plain": [
       "11"
      ]
     },
     "execution_count": 1147,
     "metadata": {},
     "output_type": "execute_result"
    }
   ],
   "source": [
    "hospitalizados = df_hospital.loc[(departamentos, municipios), 'atención'].count()\n",
    "hospitalizados"
   ]
  },
  {
   "cell_type": "code",
   "execution_count": 1148,
   "metadata": {},
   "outputs": [
    {
     "data": {
      "text/plain": [
       "3.5031847133757963"
      ]
     },
     "execution_count": 1148,
     "metadata": {},
     "output_type": "execute_result"
    }
   ],
   "source": [
    "Porcentaje_hospitalizados = (hospitalizados/casos)*100\n",
    "Porcentaje_hospitalizados['ID de caso']"
   ]
  },
  {
   "cell_type": "code",
   "execution_count": 1149,
   "metadata": {},
   "outputs": [
    {
     "data": {
      "text/plain": [
       "3"
      ]
     },
     "execution_count": 1149,
     "metadata": {},
     "output_type": "execute_result"
    }
   ],
   "source": [
    "hospitalizado_uci = df_hospital_uci.loc[(departamentos, municipios), 'atención'].count()\n",
    "hospitalizado_uci"
   ]
  },
  {
   "cell_type": "code",
   "execution_count": 1150,
   "metadata": {},
   "outputs": [
    {
     "data": {
      "text/plain": [
       "0.9554140127388535"
      ]
     },
     "execution_count": 1150,
     "metadata": {},
     "output_type": "execute_result"
    }
   ],
   "source": [
    "Porcentaje_hospitalizados_uci = (hospitalizado_uci/casos)*100\n",
    "Porcentaje_hospitalizados_uci['ID de caso']"
   ]
  },
  {
   "cell_type": "code",
   "execution_count": 1151,
   "metadata": {},
   "outputs": [
    {
     "data": {
      "text/plain": [
       "3"
      ]
     },
     "execution_count": 1151,
     "metadata": {},
     "output_type": "execute_result"
    }
   ],
   "source": [
    "fallecidos"
   ]
  },
  {
   "cell_type": "code",
   "execution_count": 1152,
   "metadata": {},
   "outputs": [
    {
     "data": {
      "text/plain": [
       "0.9554140127388535"
      ]
     },
     "execution_count": 1152,
     "metadata": {},
     "output_type": "execute_result"
    }
   ],
   "source": [
    "Porcentaje_fallecidos = (fallecidos/casos)*100\n",
    "Porcentaje_fallecidos['ID de caso']"
   ]
  }
 ],
 "metadata": {
  "kernelspec": {
   "display_name": "Python 3",
   "language": "python",
   "name": "python3"
  },
  "language_info": {
   "codemirror_mode": {
    "name": "ipython",
    "version": 3
   },
   "file_extension": ".py",
   "mimetype": "text/x-python",
   "name": "python",
   "nbconvert_exporter": "python",
   "pygments_lexer": "ipython3",
   "version": "3.6.9"
  }
 },
 "nbformat": 4,
 "nbformat_minor": 4
}
